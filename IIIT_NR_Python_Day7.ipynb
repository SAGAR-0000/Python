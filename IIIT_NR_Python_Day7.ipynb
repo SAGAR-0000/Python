{
 "cells": [
  {
   "cell_type": "code",
   "execution_count": null,
   "id": "2a9f0b10-c571-4845-b5a8-0ce243e0542d",
   "metadata": {},
   "outputs": [],
   "source": [
    "*Pandas Data Frames*:\n",
    "#redimade functions\n",
    "pandas series: it is like column in table.(1D array holding data of any type)"
   ]
  },
  {
   "cell_type": "code",
   "execution_count": 5,
   "id": "988b0106-571f-4bb3-81b4-fd9b808aad1c",
   "metadata": {},
   "outputs": [
    {
     "name": "stdout",
     "output_type": "stream",
     "text": [
      "0    1\n",
      "1    7\n",
      "2    2\n",
      "dtype: int64\n"
     ]
    }
   ],
   "source": [
    "import pandas as pd\n",
    "a=[1,7,2]  #descrete numarical type of data\n",
    "myvar=pd.Series(a)\n",
    "print(myvar)"
   ]
  },
  {
   "cell_type": "code",
   "execution_count": 9,
   "id": "c2fde09d-5476-4d15-97b5-ba7f06f12c89",
   "metadata": {},
   "outputs": [
    {
     "name": "stdout",
     "output_type": "stream",
     "text": [
      "1\n"
     ]
    }
   ],
   "source": [
    "print(myvar[0])"
   ]
  },
  {
   "cell_type": "code",
   "execution_count": 11,
   "id": "be041d54-7965-42f7-a4d9-6d000e745fa4",
   "metadata": {},
   "outputs": [
    {
     "name": "stdout",
     "output_type": "stream",
     "text": [
      "x    1\n",
      "y    7\n",
      "z    2\n",
      "dtype: int64\n"
     ]
    }
   ],
   "source": [
    "import pandas as pd\n",
    "a=[1,7,2]  #descrete numarical type of data\n",
    "myvar=pd.Series(a,index=[\"x\",\"y\",\"z\"])\n",
    "print(myvar)"
   ]
  },
  {
   "cell_type": "code",
   "execution_count": 15,
   "id": "6343a6d0-96d9-4822-9993-1a4fbd81aa02",
   "metadata": {},
   "outputs": [
    {
     "name": "stdout",
     "output_type": "stream",
     "text": [
      "7\n"
     ]
    }
   ],
   "source": [
    "print(myvar[\"y\"])"
   ]
  },
  {
   "cell_type": "code",
   "execution_count": 23,
   "id": "622565e8-d5ef-4602-9311-4bee940a9360",
   "metadata": {},
   "outputs": [
    {
     "name": "stdout",
     "output_type": "stream",
     "text": [
      "day1    420\n",
      "day2    380\n",
      "day3    390\n",
      "dtype: int64\n"
     ]
    }
   ],
   "source": [
    "import pandas as pd\n",
    "calories={\"day1\":420,\"day2\":380,\"day3\":390}\n",
    "myvar=pd.Series(calories,index=[\"day1\",\"day2\",\"day3\"])\n",
    "print(myvar)"
   ]
  },
  {
   "cell_type": "code",
   "execution_count": 29,
   "id": "5b8d7218-2695-4e61-a49b-6ecbbf3db7de",
   "metadata": {},
   "outputs": [
    {
     "name": "stdout",
     "output_type": "stream",
     "text": [
      "   calories  duration\n",
      "0       420        50\n",
      "1       380        40\n",
      "2       390        45\n"
     ]
    }
   ],
   "source": [
    "import pandas as pd\n",
    "data={\"calories\":[420,380,390],\n",
    "        \"duration\":[50,40,45]}\n",
    "df=pd.DataFrame(data)\n",
    "print(df)"
   ]
  },
  {
   "cell_type": "code",
   "execution_count": 31,
   "id": "c50dd25b-90ca-4565-a5d6-74a972e6f997",
   "metadata": {},
   "outputs": [
    {
     "name": "stdout",
     "output_type": "stream",
     "text": [
      "calories    420\n",
      "duration     50\n",
      "Name: 0, dtype: int64\n"
     ]
    }
   ],
   "source": [
    "print(df.loc[0])"
   ]
  },
  {
   "cell_type": "code",
   "execution_count": 33,
   "id": "a43ac161-0bf6-43e0-8583-61a8c0eb67a8",
   "metadata": {},
   "outputs": [
    {
     "name": "stdout",
     "output_type": "stream",
     "text": [
      "   calories  duration\n",
      "x       420        50\n",
      "y       380        40\n",
      "z       390        45\n"
     ]
    }
   ],
   "source": [
    "import pandas as pd\n",
    "data={\"calories\":[420,380,390],\n",
    "        \"duration\":[50,40,45]}\n",
    "df=pd.DataFrame(data,index=[\"x\",\"y\",\"z\"])\n",
    "print(df)"
   ]
  },
  {
   "cell_type": "code",
   "execution_count": 39,
   "id": "4681ac8a-83fc-43c6-b38b-d79a2910f0fa",
   "metadata": {},
   "outputs": [
    {
     "name": "stdout",
     "output_type": "stream",
     "text": [
      "calories    380\n",
      "duration     40\n",
      "Name: y, dtype: int64\n"
     ]
    }
   ],
   "source": [
    "print(df.loc[\"y\"])"
   ]
  },
  {
   "cell_type": "code",
   "execution_count": 55,
   "id": "87883ec1-ed81-48a4-9da1-50055405f3aa",
   "metadata": {},
   "outputs": [
    {
     "name": "stdout",
     "output_type": "stream",
     "text": [
      "calories    390\n",
      "duration     45\n",
      "Name: z, dtype: int64\n"
     ]
    }
   ],
   "source": [
    "print(df.loc[\"z\"])"
   ]
  },
  {
   "cell_type": "code",
   "execution_count": 71,
   "id": "4be7f8d9-6f9d-4d8b-b1ba-7d393ea61b20",
   "metadata": {},
   "outputs": [
    {
     "name": "stdout",
     "output_type": "stream",
     "text": [
      "390\n"
     ]
    }
   ],
   "source": [
    "print(df.loc[\"z\",\"calories\"])"
   ]
  },
  {
   "cell_type": "code",
   "execution_count": 75,
   "id": "44f79f4b-3b4b-4750-a547-623471be1832",
   "metadata": {},
   "outputs": [
    {
     "name": "stdout",
     "output_type": "stream",
     "text": [
      "  Sname   ID  Age  cgpa   address       phone            email\n",
      "0  sdaf  231   19     9   dsafsaf  2142144421  asfsa@gmail.com\n",
      "1  tewt  232   20     8  fdsgegrg  3153113554   trwt@gmail.com\n",
      "2  fdsg  233   21     9   fdsgdsg   421425532   hrhh@gmail.com\n",
      "3  hteh  234   19     7    gfsgsg  4351314431  ntrnr@gmail.com\n",
      "4  nynh  235   20     8     gsfth  5437658766  trbdr@gmail.com\n"
     ]
    }
   ],
   "source": [
    "import pandas as pd\n",
    "df=pd.read_csv(\"Student.csv\")\n",
    "print(df)"
   ]
  },
  {
   "cell_type": "code",
   "execution_count": 85,
   "id": "650f3570-8431-4f2c-a277-7f7a20f37caf",
   "metadata": {},
   "outputs": [
    {
     "name": "stdout",
     "output_type": "stream",
     "text": [
      "   PID    Pname   MRP    MFG_Date    Exp_Date        Address\n",
      "0  121    gdsgs  2000  01-01-2025  01-01-2026   gdsgdsga532g\n",
      "1  122    mutgs  2500  02-02-2025  02-01-2026  fsgrg352dsgag\n",
      "2  123    gdsgs  6000  13-11-2025  25-01-2026    s6537gdsgag\n",
      "3  124  dasfsgs  7000  21-09-2025  01-01-2026     logdsg87ds\n",
      "4  125   rhtrgs  8000  11-07-2025  01-01-2026  iugdsgdsg887g\n"
     ]
    }
   ],
   "source": [
    "import pandas as pd\n",
    "df=pd.read_csv(\"Product.csv\")\n",
    "print(df)"
   ]
  },
  {
   "cell_type": "code",
   "execution_count": 89,
   "id": "93309ac4-04f0-4c51-934b-7dd6275df4dd",
   "metadata": {},
   "outputs": [
    {
     "name": "stdout",
     "output_type": "stream",
     "text": [
      "  Sname   ID  Age  cgpa   address       phone            email\n",
      "0  sdaf  231   19     9   dsafsaf  2142144421  asfsa@gmail.com\n",
      "1  tewt  232   20     8  fdsgegrg  3153113554   trwt@gmail.com\n",
      "2  fdsg  233   21     9   fdsgdsg   421425532   hrhh@gmail.com\n",
      "3  hteh  234   19     7    gfsgsg  4351314431  ntrnr@gmail.com\n",
      "4  nynh  235   20     8     gsfth  5437658766  trbdr@gmail.com\n"
     ]
    }
   ],
   "source": [
    "import pandas as pd\n",
    "df=pd.read_csv(r\"C:\\Users\\Asus\\Desktop\\student.csv\")\n",
    "print(df)"
   ]
  },
  {
   "cell_type": "code",
   "execution_count": 1,
   "id": "f420766e-8402-4d26-a360-c5b370f76c9d",
   "metadata": {},
   "outputs": [
    {
     "name": "stdout",
     "output_type": "stream",
     "text": [
      "   id   name subject_id\n",
      "0   1   Alex       sub1\n",
      "1   2    Jay       sub2\n",
      "2   3  Allen       sub3\n",
      "3   4    Bob       sub4\n",
      "4   5  Frank       sub5\n",
      "   id    name subject_id\n",
      "0   1   Billy       sub1\n",
      "1   2     Kay       sub4\n",
      "2   3  Millen       sub3\n",
      "3   4     Mob       sub6\n",
      "4   5   Drank       sub5\n",
      "   id name_x subject_id  name_y\n",
      "0   1   Alex       sub1   Billy\n",
      "1   3  Allen       sub3  Millen\n",
      "2   5  Frank       sub5   Drank\n",
      "   id_x name_x subject_id  id_y  name_y\n",
      "0     1   Alex       sub1   1.0   Billy\n",
      "1     2    Jay       sub2   NaN     NaN\n",
      "2     3  Allen       sub3   3.0  Millen\n",
      "3     4    Bob       sub4   2.0     Kay\n",
      "4     5  Frank       sub5   5.0   Drank\n",
      "   id_x name_x subject_id  id_y  name_y\n",
      "0   1.0   Alex       sub1     1   Billy\n",
      "1   4.0    Bob       sub4     2     Kay\n",
      "2   3.0  Allen       sub3     3  Millen\n",
      "3   NaN    NaN       sub6     4     Mob\n",
      "4   5.0  Frank       sub5     5   Drank\n"
     ]
    }
   ],
   "source": [
    "import pandas as pd\n",
    "left=pd.DataFrame({\n",
    "    \"id\":[1,2,3,4,5],\n",
    "    \"name\":[\"Alex\",\"Jay\",\"Allen\",\"Bob\",\"Frank\"],\n",
    "    \"subject_id\":[\"sub1\",\"sub2\",\"sub3\",\"sub4\",\"sub5\"]\n",
    "})\n",
    "right=pd.DataFrame({\n",
    "    \"id\":[1,2,3,4,5],\n",
    "    \"name\":[\"Billy\",\"Kay\",\"Millen\",\"Mob\",\"Drank\"],\n",
    "    \"subject_id\":[\"sub1\",\"sub4\",\"sub3\",\"sub6\",\"sub5\"]\n",
    "})\n",
    "print(left)\n",
    "print(right)\n",
    "print(pd.merge(left,right,on=[\"id\",\"subject_id\"]))\n",
    "print(pd.merge(left, right, on=\"subject_id\", how=\"left\"))\n",
    "print(pd.merge(left, right, on=\"subject_id\", how=\"right\"))"
   ]
  },
  {
   "cell_type": "code",
   "execution_count": null,
   "id": "e5cd04a9-ab51-4d2e-b25f-a078773029b5",
   "metadata": {},
   "outputs": [],
   "source": []
  }
 ],
 "metadata": {
  "kernelspec": {
   "display_name": "Python [conda env:base] *",
   "language": "python",
   "name": "conda-base-py"
  },
  "language_info": {
   "codemirror_mode": {
    "name": "ipython",
    "version": 3
   },
   "file_extension": ".py",
   "mimetype": "text/x-python",
   "name": "python",
   "nbconvert_exporter": "python",
   "pygments_lexer": "ipython3",
   "version": "3.12.7"
  }
 },
 "nbformat": 4,
 "nbformat_minor": 5
}
