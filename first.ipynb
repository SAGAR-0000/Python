{
 "cells": [
  {
   "cell_type": "code",
   "execution_count": 1,
   "id": "00ad549e-2d61-4ef5-8ab4-ecfe5f9fbbe7",
   "metadata": {},
   "outputs": [
    {
     "name": "stdout",
     "output_type": "stream",
     "text": [
      "HELLO!!!\n"
     ]
    }
   ],
   "source": [
    "print(\"HELLO!!!\")"
   ]
  },
  {
   "cell_type": "code",
   "execution_count": 3,
   "id": "092397dd-04ee-4bb5-95d5-9196a31d8e4a",
   "metadata": {},
   "outputs": [
    {
     "name": "stdout",
     "output_type": "stream",
     "text": [
      "<class 'int'>\n"
     ]
    }
   ],
   "source": [
    "a=5\n",
    "print(type(a))"
   ]
  },
  {
   "cell_type": "code",
   "execution_count": 9,
   "id": "c419d723-9e06-4aca-a10a-bd974ed54855",
   "metadata": {},
   "outputs": [
    {
     "name": "stdout",
     "output_type": "stream",
     "text": [
      "<class 'float'>\n"
     ]
    }
   ],
   "source": [
    "b=5.0\n",
    "print(type(b))"
   ]
  },
  {
   "cell_type": "code",
   "execution_count": 16,
   "id": "e60e283d-3658-4abd-a3f4-b9e48bd73f35",
   "metadata": {},
   "outputs": [
    {
     "name": "stdout",
     "output_type": "stream",
     "text": [
      "<class 'complex'>\n"
     ]
    }
   ],
   "source": [
    "c = 2 + 4j\n",
    "print(type(c))"
   ]
  },
  {
   "cell_type": "code",
   "execution_count": 22,
   "id": "39818f25-3def-435a-a73f-52a45c0f4d02",
   "metadata": {},
   "outputs": [
    {
     "name": "stdout",
     "output_type": "stream",
     "text": [
      "72\n"
     ]
    }
   ],
   "source": [
    "import sys\n",
    "r=sys.getsizeof(sys)\n",
    "print(str(r))"
   ]
  },
  {
   "cell_type": "code",
   "execution_count": 28,
   "id": "e5aa78ac-6417-4a0d-9793-388717b629ff",
   "metadata": {},
   "outputs": [
    {
     "name": "stdout",
     "output_type": "stream",
     "text": [
      "Pythonnn and anacondaa!!\n",
      "<class 'str'>\n",
      "y\n",
      "t\n",
      "!\n"
     ]
    }
   ],
   "source": [
    "s='Pythonnn and anacondaa!!'\n",
    "print(s)\n",
    "#check data type\n",
    "print(type(s))\n",
    "#access string with index\n",
    "print(s[1])\n",
    "print(s[2])\n",
    "print(s[-1])"
   ]
  },
  {
   "cell_type": "code",
   "execution_count": 34,
   "id": "e85e12d7-5c14-4e8d-a944-c5e0fa1816ff",
   "metadata": {},
   "outputs": [],
   "source": [
    "list1=[] #empty list\n",
    "lsit2=[1,2,3,4]"
   ]
  },
  {
   "cell_type": "code",
   "execution_count": 38,
   "id": "ce7b11ba-eecb-4e4e-bf8d-b0d44bd0d13c",
   "metadata": {},
   "outputs": [],
   "source": [
    "t1=()  #empty tuple\n",
    "t2=(1,2,32,3)"
   ]
  },
  {
   "cell_type": "code",
   "execution_count": 40,
   "id": "e269c69d-93f6-4b89-95d3-a2a656b5d899",
   "metadata": {},
   "outputs": [],
   "source": [
    "t3=(1,2,\"SSIPMT\",False)"
   ]
  },
  {
   "cell_type": "code",
   "execution_count": 42,
   "id": "cd0e7898-e443-4780-98d7-4885836fcf4f",
   "metadata": {},
   "outputs": [
    {
     "data": {
      "text/plain": [
       "[0, 1, 2, 3, 4]"
      ]
     },
     "execution_count": 42,
     "metadata": {},
     "output_type": "execute_result"
    }
   ],
   "source": [
    "my_range = range(5)\n",
    "list(my_range)"
   ]
  },
  {
   "cell_type": "code",
   "execution_count": 44,
   "id": "6e91e8ca-be9a-44ab-94cc-a7fec1bc727a",
   "metadata": {},
   "outputs": [
    {
     "data": {
      "text/plain": [
       "[2, 3, 4, 5]"
      ]
     },
     "execution_count": 44,
     "metadata": {},
     "output_type": "execute_result"
    }
   ],
   "source": [
    "my_range = range(2,6)\n",
    "list(my_range)"
   ]
  },
  {
   "cell_type": "code",
   "execution_count": 52,
   "id": "27bc7cfb-bc28-4578-9ac1-9bece8a893bd",
   "metadata": {},
   "outputs": [
    {
     "name": "stdout",
     "output_type": "stream",
     "text": [
      "{'Hristo': 123456789, 'Ivan': 889900}\n"
     ]
    }
   ],
   "source": [
    "my_dict = {'Hristo': 123456789, 'Ivan': 889900}\n",
    "print(my_dict)"
   ]
  },
  {
   "cell_type": "code",
   "execution_count": 54,
   "id": "8b8a3ce6-a284-4aad-aaf3-3dc2e2a815c6",
   "metadata": {},
   "outputs": [
    {
     "name": "stdout",
     "output_type": "stream",
     "text": [
      "[1, 1, 2, 2, 3, 4]\n"
     ]
    }
   ],
   "source": [
    "my_list = [1,1,2,2,3,4]\n",
    "print(my_list)"
   ]
  },
  {
   "cell_type": "code",
   "execution_count": 56,
   "id": "ef89076d-b867-4420-a50a-a0c138c5da3f",
   "metadata": {},
   "outputs": [
    {
     "ename": "TypeError",
     "evalue": "'frozenset' object does not support item assignment",
     "output_type": "error",
     "traceback": [
      "\u001b[1;31m---------------------------------------------------------------------------\u001b[0m",
      "\u001b[1;31mTypeError\u001b[0m                                 Traceback (most recent call last)",
      "Cell \u001b[1;32mIn[56], line 3\u001b[0m\n\u001b[0;32m      1\u001b[0m mylist\u001b[38;5;241m=\u001b[39m[\u001b[38;5;124m'\u001b[39m\u001b[38;5;124mapple\u001b[39m\u001b[38;5;124m'\u001b[39m,\u001b[38;5;124m'\u001b[39m\u001b[38;5;124mbanana\u001b[39m\u001b[38;5;124m'\u001b[39m,\u001b[38;5;124m'\u001b[39m\u001b[38;5;124mcherry\u001b[39m\u001b[38;5;124m'\u001b[39m]\n\u001b[0;32m      2\u001b[0m x\u001b[38;5;241m=\u001b[39m\u001b[38;5;28mfrozenset\u001b[39m(mylist)\n\u001b[1;32m----> 3\u001b[0m x[\u001b[38;5;241m1\u001b[39m]\u001b[38;5;241m=\u001b[39m\u001b[38;5;124m'\u001b[39m\u001b[38;5;124mstrawberry\u001b[39m\u001b[38;5;124m'\u001b[39m\n",
      "\u001b[1;31mTypeError\u001b[0m: 'frozenset' object does not support item assignment"
     ]
    }
   ],
   "source": [
    "mylist=['apple','banana','cherry']\n",
    "x=frozenset(mylist) #like constant\n",
    "x[1]='strawberry' #error"
   ]
  },
  {
   "cell_type": "code",
   "execution_count": 62,
   "id": "b3a149ce-b275-41f4-a156-1e7ee9e4e02e",
   "metadata": {},
   "outputs": [
    {
     "name": "stdout",
     "output_type": "stream",
     "text": [
      "b'Welcome to python with anaconda!!'\n"
     ]
    }
   ],
   "source": [
    "s = \"Welcome to python with anaconda!!\"\n",
    "b = bytes(s,'utf-8')\n",
    "print(b)"
   ]
  },
  {
   "cell_type": "code",
   "execution_count": 66,
   "id": "cbd26e4c-cbe2-45a1-88f1-b0165f4980d0",
   "metadata": {},
   "outputs": [
    {
     "name": "stdout",
     "output_type": "stream",
     "text": [
      "b'\\x14\\x1e('\n",
      "20\n",
      "30\n",
      "40\n"
     ]
    }
   ],
   "source": [
    "l=[20,30,40]\n",
    "a=bytes(l)\n",
    "print(a)\n",
    "for i in a:\n",
    "    print(i)"
   ]
  },
  {
   "cell_type": "code",
   "execution_count": 74,
   "id": "e629d0c3-4c76-44d9-9a64-5ec99013beb5",
   "metadata": {},
   "outputs": [
    {
     "data": {
      "text/plain": [
       "<memory at 0x0000017D5495B640>"
      ]
     },
     "execution_count": 74,
     "metadata": {},
     "output_type": "execute_result"
    }
   ],
   "source": [
    "obj=bytes(1)\n",
    "memoryview(obj)"
   ]
  },
  {
   "cell_type": "code",
   "execution_count": 78,
   "id": "43630ee0-00b5-4df6-98c2-5e0d11634f7d",
   "metadata": {},
   "outputs": [
    {
     "name": "stdout",
     "output_type": "stream",
     "text": [
      "bytearray(b'ABCDE')\n"
     ]
    }
   ],
   "source": [
    "my_byte_array = bytearray('ABCDE','utf-8')\n",
    "print(my_byte_array)"
   ]
  },
  {
   "cell_type": "code",
   "execution_count": 80,
   "id": "5bd44eae-e5e2-473b-b0d9-c872bbab40ee",
   "metadata": {},
   "outputs": [
    {
     "name": "stdout",
     "output_type": "stream",
     "text": [
      "<class 'NoneType'>\n"
     ]
    }
   ],
   "source": [
    "v=None\n",
    "print(type(v))"
   ]
  },
  {
   "cell_type": "code",
   "execution_count": 82,
   "id": "8aea1cff-7239-40d2-9551-a4dd5fbb42b9",
   "metadata": {},
   "outputs": [
    {
     "name": "stdout",
     "output_type": "stream",
     "text": [
      "True\n"
     ]
    }
   ],
   "source": [
    "x = [\"apple\",\"banana\"]\n",
    "print(\"banana\" in x)"
   ]
  },
  {
   "cell_type": "code",
   "execution_count": 84,
   "id": "73196383-28c6-4d08-8a5e-034173fb2734",
   "metadata": {},
   "outputs": [
    {
     "name": "stdout",
     "output_type": "stream",
     "text": [
      "True\n"
     ]
    }
   ],
   "source": [
    "x = [\"apple\",\"banana\"]\n",
    "print(\"pineapple\" not in x)"
   ]
  },
  {
   "cell_type": "code",
   "execution_count": 86,
   "id": "02f29f3c-118e-444e-9037-341452dda5e7",
   "metadata": {},
   "outputs": [
    {
     "name": "stdout",
     "output_type": "stream",
     "text": [
      "False\n"
     ]
    }
   ],
   "source": [
    "x = [\"apple\",\"banana\"]\n",
    "print(\"apple\" not in x)"
   ]
  },
  {
   "cell_type": "code",
   "execution_count": 88,
   "id": "47951609-67b1-4f93-9ec5-c7c5a23cfc3d",
   "metadata": {},
   "outputs": [
    {
     "name": "stdout",
     "output_type": "stream",
     "text": [
      "True\n"
     ]
    }
   ],
   "source": [
    "x = [\"apple\",\"banana\"]\n",
    "y = [\"apple\",\"banana\"]\n",
    "z = x\n",
    "print(x is z)"
   ]
  },
  {
   "cell_type": "code",
   "execution_count": 90,
   "id": "dbce8450-1643-494a-9ba0-1ff6b437bbef",
   "metadata": {},
   "outputs": [
    {
     "name": "stdout",
     "output_type": "stream",
     "text": [
      "False\n"
     ]
    }
   ],
   "source": [
    "x = [\"apple\",\"banana\"]\n",
    "y = [\"apple\",\"banana\"]\n",
    "z = x\n",
    "print(x is y)"
   ]
  },
  {
   "cell_type": "code",
   "execution_count": 1,
   "id": "c8819876-84a7-4c66-8e01-1cab16a4fa98",
   "metadata": {},
   "outputs": [
    {
     "name": "stdout",
     "output_type": "stream",
     "text": [
      "b is greater than a\n"
     ]
    }
   ],
   "source": [
    "a = 23\n",
    "b = 33\n",
    "if b>a:\n",
    "    print(\"b is greater than a\")\n",
    "elif a==b:\n",
    "    print(\"a and b are equal\")"
   ]
  },
  {
   "cell_type": "code",
   "execution_count": 3,
   "id": "c6027b59-e1c1-4d7d-92f3-76b2b1f2f0e8",
   "metadata": {},
   "outputs": [
    {
     "name": "stdout",
     "output_type": "stream",
     "text": [
      "Value is smaller than 10\n"
     ]
    }
   ],
   "source": [
    "a=10\n",
    "if(a>10):\n",
    "    print(\"value of a is greater than 10\")\n",
    "else:\n",
    "    print(\"Value is smaller than 10\")\n",
    "    "
   ]
  },
  {
   "cell_type": "code",
   "execution_count": 7,
   "id": "958513e2-323d-4d4f-885f-56bbfab859da",
   "metadata": {},
   "outputs": [
    {
     "name": "stdout",
     "output_type": "stream",
     "text": [
      "b is smaller than a\n"
     ]
    }
   ],
   "source": [
    "a = 200\n",
    "b = 33\n",
    "if b>a:\n",
    "    print(\"b is greater than a\")\n",
    "elif a==b:\n",
    "    print(\"a and b are equal\")\n",
    "else:\n",
    "    print(\"b is smaller than a\")"
   ]
  },
  {
   "cell_type": "code",
   "execution_count": 9,
   "id": "f4317220-340f-44d5-b4d8-19e951bb8cea",
   "metadata": {},
   "outputs": [
    {
     "name": "stdout",
     "output_type": "stream",
     "text": [
      "You are elegible to see the football match.\n",
      "Ticket price is $12\n"
     ]
    }
   ],
   "source": [
    "age = 20\n",
    "if (age >= 11):\n",
    "    print(\"You are elegible to see the football match.\")\n",
    "    if (age <= 20 or age >= 60):\n",
    "        print(\"Ticket price is $12\")\n",
    "    else:\n",
    "        print(\"Ticket price is $20\")\n",
    "else:\n",
    "    print(\"You'are not eligible to buy a ticket.\")"
   ]
  },
  {
   "cell_type": "code",
   "execution_count": 15,
   "id": "0b756c7a-c2d9-48ee-9fea-f6070af9de99",
   "metadata": {},
   "outputs": [
    {
     "name": "stdout",
     "output_type": "stream",
     "text": [
      "A\n"
     ]
    }
   ],
   "source": [
    "a = 340\n",
    "b = 330\n",
    "print(\"A\") if a > b else print(\"=\") if a==b else print(\"B\")"
   ]
  },
  {
   "cell_type": "code",
   "execution_count": 25,
   "id": "03f4a4c7-a918-4148-a9a4-d860d1e8985c",
   "metadata": {},
   "outputs": [
    {
     "name": "stdout",
     "output_type": "stream",
     "text": [
      "At least one of the conditions is true\n"
     ]
    }
   ],
   "source": [
    "a = 200\n",
    "b = 33\n",
    "c = 200\n",
    "\n",
    "if a > b or a > c:\n",
    "    print(\"At least one of the conditions is true\")\n"
   ]
  },
  {
   "cell_type": "code",
   "execution_count": 27,
   "id": "51e9bc8c-f790-4cf8-91d7-fe9536322f94",
   "metadata": {},
   "outputs": [
    {
     "name": "stdout",
     "output_type": "stream",
     "text": [
      "You are elegible to vote.\n"
     ]
    }
   ],
   "source": [
    "age = 20\n",
    "if (age >= 18):\n",
    "    print(\"You are elegible to vote.\")\n",
    "else:\n",
    "    print(\"You'are not eligible to vote.\")"
   ]
  },
  {
   "cell_type": "code",
   "execution_count": 29,
   "id": "93f64cfe-cf65-44d7-88c1-aa812c01e1bc",
   "metadata": {},
   "outputs": [
    {
     "name": "stdout",
     "output_type": "stream",
     "text": [
      "Hello.\n"
     ]
    }
   ],
   "source": [
    "age = 14\n",
    "if (age%7==0):\n",
    "    print(\"Hello.\")\n",
    "else:\n",
    "    print(\"Bye.\")"
   ]
  },
  {
   "cell_type": "code",
   "execution_count": 47,
   "id": "8001e69e-1710-46ca-b6e9-83858f985ab5",
   "metadata": {},
   "outputs": [
    {
     "name": "stdout",
     "output_type": "stream",
     "text": [
      "Your electricity bill is: \n",
      "1500\n"
     ]
    }
   ],
   "source": [
    "units=300\n",
    "if units <= 100:\n",
    "    bill = 0  # No charge for first 100 units\n",
    "elif units <= 200:\n",
    "    bill = (units - 100) * 5  # ₹5 per unit for units from 101-200\n",
    "else:\n",
    "    bill = (100 * 5) + ((units - 200) * 10)  # ₹5 per unit for 101-200, ₹10 per unit for above 200\n",
    "print(\"Your electricity bill is: \")\n",
    "print(bill)\n"
   ]
  },
  {
   "cell_type": "code",
   "execution_count": 49,
   "id": "d135c55a-225d-43b7-854a-968149158423",
   "metadata": {},
   "outputs": [
    {
     "name": "stdin",
     "output_type": "stream",
     "text": [
      "Enter a:  10\n",
      "Enter b:  20\n",
      "Enter c:  30\n"
     ]
    },
    {
     "name": "stdout",
     "output_type": "stream",
     "text": [
      "C is greatest.\n"
     ]
    }
   ],
   "source": [
    "a = int(input(\"Enter a: \"))\n",
    "b = int(input(\"Enter b: \"))\n",
    "c = int(input(\"Enter c: \"))\n",
    "if(a>b):\n",
    "    if(a>c):\n",
    "        print(\"A is greatest.\")\n",
    "    else:\n",
    "        print(\"C is greatest.\")\n",
    "elif(b>c):\n",
    "    print(\"B is greatest.\")\n",
    "else:\n",
    "    print(\"C is greatest.\")"
   ]
  },
  {
   "cell_type": "code",
   "execution_count": 53,
   "id": "7104638b-ef4c-4ebe-9a3b-500d5c1105c5",
   "metadata": {},
   "outputs": [
    {
     "name": "stdin",
     "output_type": "stream",
     "text": [
      "Enter a number:  113\n"
     ]
    },
    {
     "name": "stdout",
     "output_type": "stream",
     "text": [
      "The last digit is divisible by 3.\n"
     ]
    }
   ],
   "source": [
    "num = int(input(\"Enter a number: \"))\n",
    "last_digit = num % 10\n",
    "if last_digit % 3 == 0:\n",
    "    print(f\"The last digit is divisible by 3.\")\n",
    "else:\n",
    "    print(f\"The last digit is not divisible by 3.\")\n"
   ]
  },
  {
   "cell_type": "code",
   "execution_count": 1,
   "id": "c26b72c3-4da6-4bc0-8cfd-a749a6fe5bb9",
   "metadata": {},
   "outputs": [
    {
     "name": "stdout",
     "output_type": "stream",
     "text": [
      "hello\n"
     ]
    }
   ],
   "source": [
    "print(\"hello\")"
   ]
  },
  {
   "cell_type": "code",
   "execution_count": 1,
   "id": "f0a11163-5f1d-437a-99cc-69f69126bb57",
   "metadata": {},
   "outputs": [
    {
     "name": "stdout",
     "output_type": "stream",
     "text": [
      "Value of total :  30\n",
      "Value of total :  40\n"
     ]
    }
   ],
   "source": [
    "sum = lambda arg1,arg2: arg1 + arg2;\n",
    "print(\"Value of total : \",sum(10,20))\n",
    "print(\"Value of total : \",sum(20,20))"
   ]
  },
  {
   "cell_type": "code",
   "execution_count": 5,
   "id": "65164116-a0d0-4f27-b799-0e432d63ea83",
   "metadata": {},
   "outputs": [
    {
     "name": "stdout",
     "output_type": "stream",
     "text": [
      "HELLO\n"
     ]
    }
   ],
   "source": [
    "a = \"HELLO\"\n",
    "print(a)"
   ]
  },
  {
   "cell_type": "code",
   "execution_count": 15,
   "id": "94d13d99-a91c-4099-8af9-fcd6978aa92b",
   "metadata": {},
   "outputs": [
    {
     "name": "stdout",
     "output_type": "stream",
     "text": [
      "hello,\n",
      "hello again,\n",
      "hello againnn\n"
     ]
    }
   ],
   "source": [
    "a=\"\"\"hello,\n",
    "hello again,\n",
    "hello againnn\"\"\"\n",
    "print(a)"
   ]
  },
  {
   "cell_type": "code",
   "execution_count": 39,
   "id": "267bf798-07dd-43f7-8373-09111dce6949",
   "metadata": {},
   "outputs": [
    {
     "name": "stdout",
     "output_type": "stream",
     "text": [
      "ee\n",
      "Gee\n",
      "eeksofGeeks\n",
      "skeeGfoskeeG\n",
      "Gee\n",
      "GeeksofGeeks\n"
     ]
    }
   ],
   "source": [
    "s=\"GeeksofGeeks\"\n",
    "print(s[1:3])\n",
    "print(s[:3])\n",
    "print(s[1:])\n",
    "print(s[::-1])\n",
    "print(s[-5:-2])\n",
    "a=\"G\"+s[1:]\n",
    "print(a)"
   ]
  },
  {
   "cell_type": "code",
   "execution_count": 41,
   "id": "a39c9f31-c6ed-4eef-94fb-00f8eda4beb8",
   "metadata": {},
   "outputs": [
    {
     "name": "stdout",
     "output_type": "stream",
     "text": [
      "ABCPQR\n"
     ]
    }
   ],
   "source": [
    "s1=\"ABC\"\n",
    "s2=\"PQR\"\n",
    "a=s1+s2\n",
    "print(a)"
   ]
  },
  {
   "cell_type": "code",
   "execution_count": 43,
   "id": "3975b06e-8fa3-46d8-9c9f-190af64d47e9",
   "metadata": {},
   "outputs": [],
   "source": [
    "s=\"GeeksofGeeks\"\n",
    "del s"
   ]
  },
  {
   "cell_type": "code",
   "execution_count": 47,
   "id": "a84fc26a-4031-43a7-ac34-ea0325bdbe18",
   "metadata": {},
   "outputs": [
    {
     "name": "stdout",
     "output_type": "stream",
     "text": [
      "Hello geeks\n",
      "hello GeeksofGeeks\n"
     ]
    }
   ],
   "source": [
    "s=\"hello geeks\"\n",
    "s1= \"H\" + s[1:]\n",
    "s2=s.replace(\"geeks\",\"GeeksofGeeks\")\n",
    "print(s1)\n",
    "print(s2)"
   ]
  },
  {
   "cell_type": "code",
   "execution_count": 3,
   "id": "81c57770-d9ab-45cd-8946-942512db138a",
   "metadata": {},
   "outputs": [
    {
     "name": "stdout",
     "output_type": "stream",
     "text": [
      "My name is John, I am 36\n"
     ]
    }
   ],
   "source": [
    "age = 36\n",
    "txt = f\"My name is John, I am {age}\"\n",
    "print(txt)"
   ]
  },
  {
   "cell_type": "code",
   "execution_count": 7,
   "id": "f1ec5598-efe9-4316-ac7e-76451e31060b",
   "metadata": {},
   "outputs": [
    {
     "name": "stdout",
     "output_type": "stream",
     "text": [
      "Hello foo and bin\n"
     ]
    }
   ],
   "source": [
    "print(\"Hello {name1} and {name2}\".format(name1='foo',name2='bin'))"
   ]
  },
  {
   "cell_type": "code",
   "execution_count": 9,
   "id": "610ff4f8-9d8d-488a-a104-e6956461f2ec",
   "metadata": {},
   "outputs": [
    {
     "name": "stdout",
     "output_type": "stream",
     "text": [
      "My name is foo , I am 36\n"
     ]
    }
   ],
   "source": [
    "print(\"My name is {name1} , I am {name2}\".format(name1='foo',name2='36'))"
   ]
  },
  {
   "cell_type": "code",
   "execution_count": 11,
   "id": "286648d0-d692-4d3b-910b-3b45403883cd",
   "metadata": {},
   "outputs": [
    {
     "name": "stdout",
     "output_type": "stream",
     "text": [
      "The Price is 19 dollars\n"
     ]
    }
   ],
   "source": [
    "price = 19\n",
    "txt =(f\"The Price is {price} dollars\")\n",
    "print(txt)"
   ]
  },
  {
   "cell_type": "code",
   "execution_count": 23,
   "id": "55c8373f-58d8-4e38-9fdb-f7e13006aba6",
   "metadata": {},
   "outputs": [
    {
     "name": "stdout",
     "output_type": "stream",
     "text": [
      "The Price is 19.00 dollars\n"
     ]
    }
   ],
   "source": [
    "price = 19\n",
    "txt =(f\"The Price is {price:.2f} dollars\")\n",
    "print(txt)"
   ]
  },
  {
   "cell_type": "code",
   "execution_count": 25,
   "id": "20cae150-b9d3-46b1-b500-66afb4481076",
   "metadata": {},
   "outputs": [
    {
     "name": "stdout",
     "output_type": "stream",
     "text": [
      "The Price is 180 dollars\n"
     ]
    }
   ],
   "source": [
    "txt =(f\"The Price is {20*9} dollars\")\n",
    "print(txt)"
   ]
  },
  {
   "cell_type": "code",
   "execution_count": 29,
   "id": "0dd28995-07d9-4599-8013-9ce1433d2e59",
   "metadata": {},
   "outputs": [
    {
     "name": "stdout",
     "output_type": "stream",
     "text": [
      "Hello geeks\n"
     ]
    }
   ],
   "source": [
    "s=\"hello geeks\"\n",
    "x=s.capitalize()\n",
    "print(x)"
   ]
  },
  {
   "cell_type": "code",
   "execution_count": 31,
   "id": "24eed184-3e74-4a43-91ce-7b2d2cd3f922",
   "metadata": {},
   "outputs": [
    {
     "name": "stdout",
     "output_type": "stream",
     "text": [
      " 36 hello geeks\n"
     ]
    }
   ],
   "source": [
    "s=\" 36 hello geeks\"\n",
    "x=s.capitalize()\n",
    "print(x)"
   ]
  },
  {
   "cell_type": "code",
   "execution_count": 33,
   "id": "072c5948-ed7d-47dc-ab98-d9e82d27f7fb",
   "metadata": {},
   "outputs": [
    {
     "name": "stdout",
     "output_type": "stream",
     "text": [
      "hello geeks\n"
     ]
    }
   ],
   "source": [
    "s=\"Hello GEeks\"\n",
    "x=s.casefold()\n",
    "print(x)"
   ]
  },
  {
   "cell_type": "code",
   "execution_count": 37,
   "id": "370fafce-5acc-441d-b430-f177261cce2d",
   "metadata": {},
   "outputs": [
    {
     "name": "stdout",
     "output_type": "stream",
     "text": [
      "hello geeks\n"
     ]
    }
   ],
   "source": [
    "s=\"Hello Geeks\"\n",
    "x=s.lower()\n",
    "print(x)"
   ]
  },
  {
   "cell_type": "code",
   "execution_count": 47,
   "id": "425c6a2e-e53c-4c6b-9cf6-440ee0d6dd60",
   "metadata": {},
   "outputs": [
    {
     "name": "stdout",
     "output_type": "stream",
     "text": [
      "1\n"
     ]
    }
   ],
   "source": [
    "s=\"hello geeks wee arrrrrrrrrrrr undefeataaaaaabbbbbbbllleeeeeeeee\"\n",
    "x=s.count(\"hello\",0,9)\n",
    "print(x)"
   ]
  },
  {
   "cell_type": "code",
   "execution_count": 49,
   "id": "6d0d0b6d-5c0d-4147-9836-e1d8dbf240bc",
   "metadata": {},
   "outputs": [
    {
     "name": "stdout",
     "output_type": "stream",
     "text": [
      "1\n"
     ]
    }
   ],
   "source": [
    "s=\"hello geeks arrrrrmmeeeeeeeeeddddddd annnnnndd dangeeeeerrrrrroussssss\"\n",
    "x=s.count(\"hello\")\n",
    "print(x)"
   ]
  },
  {
   "cell_type": "code",
   "execution_count": 65,
   "id": "ec147ecc-e979-4708-a450-4d9daef0d3a7",
   "metadata": {},
   "outputs": [
    {
     "name": "stdout",
     "output_type": "stream",
     "text": [
      "0\n"
     ]
    }
   ],
   "source": [
    "s=\"hello geeks uss against the world\"\n",
    "x=s.count(\"hello\",5,9)\n",
    "print(x)"
   ]
  },
  {
   "cell_type": "code",
   "execution_count": 95,
   "id": "3505c78a-e76e-458e-b9fd-43866055ac97",
   "metadata": {},
   "outputs": [
    {
     "data": {
      "text/plain": [
       "False"
      ]
     },
     "execution_count": 95,
     "metadata": {},
     "output_type": "execute_result"
    }
   ],
   "source": [
    "st=\"hello geeks uss against the world\"\n",
    "st.endswith(\"geeks\")"
   ]
  },
  {
   "cell_type": "code",
   "execution_count": 101,
   "id": "25ac0ff6-6d01-4563-944d-9a85ee4d92b3",
   "metadata": {},
   "outputs": [
    {
     "name": "stdout",
     "output_type": "stream",
     "text": [
      "True\n"
     ]
    }
   ],
   "source": [
    "st=\"hello geeks uss against the world\"\n",
    "x=st.endswith((\"geeks.\",\"world\"))\n",
    "print(x)"
   ]
  },
  {
   "cell_type": "code",
   "execution_count": 103,
   "id": "451fc843-d47d-461c-96c9-43e4d25dde5d",
   "metadata": {},
   "outputs": [
    {
     "name": "stdout",
     "output_type": "stream",
     "text": [
      "6\n"
     ]
    }
   ],
   "source": [
    "st=\"hello geeks uss against the world\"\n",
    "x=st.find(\"geeks\")\n",
    "print(x)"
   ]
  },
  {
   "cell_type": "code",
   "execution_count": 105,
   "id": "59b2c828-2145-440b-b863-fa59306b496a",
   "metadata": {},
   "outputs": [
    {
     "name": "stdout",
     "output_type": "stream",
     "text": [
      "-1\n"
     ]
    }
   ],
   "source": [
    "st=\"hello geeks uss against the world\"\n",
    "x=st.find(\"to\")\n",
    "print(x)"
   ]
  },
  {
   "cell_type": "code",
   "execution_count": 107,
   "id": "5fed8ece-fc32-4de3-8f64-3bf081727aa8",
   "metadata": {},
   "outputs": [
    {
     "name": "stdout",
     "output_type": "stream",
     "text": [
      "1\n"
     ]
    }
   ],
   "source": [
    "st=\"hello geeks uss against the world\"\n",
    "x=st.find(\"e\")\n",
    "print(x)"
   ]
  },
  {
   "cell_type": "code",
   "execution_count": 109,
   "id": "ca5efbdd-4923-499d-9c13-d58cf2c93487",
   "metadata": {},
   "outputs": [
    {
     "ename": "ValueError",
     "evalue": "substring not found",
     "output_type": "error",
     "traceback": [
      "\u001b[1;31m---------------------------------------------------------------------------\u001b[0m",
      "\u001b[1;31mValueError\u001b[0m                                Traceback (most recent call last)",
      "Cell \u001b[1;32mIn[109], line 2\u001b[0m\n\u001b[0;32m      1\u001b[0m st\u001b[38;5;241m=\u001b[39m\u001b[38;5;124m\"\u001b[39m\u001b[38;5;124mhello geeks uss against the world\u001b[39m\u001b[38;5;124m\"\u001b[39m\n\u001b[1;32m----> 2\u001b[0m x\u001b[38;5;241m=\u001b[39mst\u001b[38;5;241m.\u001b[39mindex(\u001b[38;5;124m\"\u001b[39m\u001b[38;5;124mto\u001b[39m\u001b[38;5;124m\"\u001b[39m)\n\u001b[0;32m      3\u001b[0m \u001b[38;5;28mprint\u001b[39m(x)\n",
      "\u001b[1;31mValueError\u001b[0m: substring not found"
     ]
    }
   ],
   "source": [
    "st=\"hello geeks uss against the world\"\n",
    "x=st.index(\"to\")\n",
    "print(x)"
   ]
  },
  {
   "cell_type": "code",
   "execution_count": 119,
   "id": "b9989edf-b583-41e0-89fb-1dd68843ccb7",
   "metadata": {},
   "outputs": [
    {
     "name": "stdout",
     "output_type": "stream",
     "text": [
      "True\n"
     ]
    }
   ],
   "source": [
    "st=\"hello\"\n",
    "x=st.isalpha()\n",
    "print(x)"
   ]
  },
  {
   "cell_type": "code",
   "execution_count": 115,
   "id": "d209010d-6577-4e8e-a732-28eeb139b622",
   "metadata": {},
   "outputs": [
    {
     "name": "stdout",
     "output_type": "stream",
     "text": [
      "1\n",
      "1\n"
     ]
    }
   ],
   "source": [
    "st=\"hello geeks uss against the world\"\n",
    "print(st.find(\"e\"))\n",
    "print(st.index(\"e\"))"
   ]
  },
  {
   "cell_type": "code",
   "execution_count": 117,
   "id": "1550ff50-b2b7-44e5-98c1-fa843d127bc8",
   "metadata": {},
   "outputs": [
    {
     "name": "stdout",
     "output_type": "stream",
     "text": [
      "False\n"
     ]
    }
   ],
   "source": [
    "st=\"hello69\"\n",
    "x=st.isalpha()\n",
    "print(x)"
   ]
  },
  {
   "cell_type": "code",
   "execution_count": 121,
   "id": "7faae7c1-43aa-4883-9fae-7923cf62c7d2",
   "metadata": {},
   "outputs": [
    {
     "name": "stdout",
     "output_type": "stream",
     "text": [
      "False\n"
     ]
    }
   ],
   "source": [
    "st=\"hello\"\n",
    "x=st.isdigit()\n",
    "print(x)"
   ]
  },
  {
   "cell_type": "code",
   "execution_count": 123,
   "id": "30f637f9-0a54-4406-9d38-14e4528b5ed7",
   "metadata": {},
   "outputs": [
    {
     "name": "stdout",
     "output_type": "stream",
     "text": [
      "True\n"
     ]
    }
   ],
   "source": [
    "st=\"9999\"\n",
    "x=st.isdigit()\n",
    "print(x)"
   ]
  },
  {
   "cell_type": "code",
   "execution_count": 127,
   "id": "c159a66a-11d6-40fd-82ce-9e018968b941",
   "metadata": {},
   "outputs": [
    {
     "name": "stdout",
     "output_type": "stream",
     "text": [
      "True\n"
     ]
    }
   ],
   "source": [
    "st=\"helloworld99\"\n",
    "x=st.isalnum()\n",
    "print(x)"
   ]
  },
  {
   "cell_type": "code",
   "execution_count": 129,
   "id": "3d30a396-5699-416f-825a-9bec3a9a7cb3",
   "metadata": {},
   "outputs": [
    {
     "name": "stdout",
     "output_type": "stream",
     "text": [
      "False\n"
     ]
    }
   ],
   "source": [
    "st=\"helloworld 99\"\n",
    "x=st.isalnum()\n",
    "print(x)"
   ]
  },
  {
   "cell_type": "code",
   "execution_count": 133,
   "id": "06858d2b-22a2-406d-adb1-5dcf596cbd17",
   "metadata": {},
   "outputs": [
    {
     "name": "stdout",
     "output_type": "stream",
     "text": [
      "True\n"
     ]
    }
   ],
   "source": [
    "st=\"9999\"\n",
    "x=st.isnumeric()\n",
    "print(x)"
   ]
  },
  {
   "cell_type": "code",
   "execution_count": 140,
   "id": "55bc9bc7-1297-45d5-90a8-5218e0bc32ef",
   "metadata": {},
   "outputs": [
    {
     "name": "stdout",
     "output_type": "stream",
     "text": [
      "True\n"
     ]
    }
   ],
   "source": [
    "st=\"9²\"\n",
    "x=st.isdigit()\n",
    "print(x)"
   ]
  },
  {
   "cell_type": "code",
   "execution_count": 142,
   "id": "7b1465cf-02b2-4f5b-9fe4-c40eb931f284",
   "metadata": {},
   "outputs": [
    {
     "name": "stdout",
     "output_type": "stream",
     "text": [
      "True\n"
     ]
    }
   ],
   "source": [
    "st=\"9²\"\n",
    "x=st.isnumeric()\n",
    "print(x)"
   ]
  },
  {
   "cell_type": "code",
   "execution_count": 146,
   "id": "3bf86e65-372b-486f-b6c5-22e1238ffbdf",
   "metadata": {},
   "outputs": [
    {
     "name": "stdout",
     "output_type": "stream",
     "text": [
      "Of All Fruits Mangooo is My Favorite\n"
     ]
    }
   ],
   "source": [
    "st=\"Mangooo\"\n",
    "x=st.strip()\n",
    "print(\"Of All Fruits\",x,\"is My Favorite\")"
   ]
  },
  {
   "cell_type": "code",
   "execution_count": 150,
   "id": "4e0727e8-4c6c-4ab9-9485-04af240773c0",
   "metadata": {},
   "outputs": [
    {
     "name": "stdout",
     "output_type": "stream",
     "text": [
      "Of All Fruits Mangooo is My Favorite\n"
     ]
    }
   ],
   "source": [
    "st=\"Mangooo.....rrrrrr\"\n",
    "x=st.strip('.grt')\n",
    "print(\"Of All Fruits\",x,\"is My Favorite\")"
   ]
  },
  {
   "cell_type": "code",
   "execution_count": 160,
   "id": "1adc66e7-90c2-4899-9607-d976cbcd41d1",
   "metadata": {},
   "outputs": [
    {
     "name": "stdout",
     "output_type": "stream",
     "text": [
      "['HElllooo', 'my name is omm', 'i am 19']\n"
     ]
    }
   ],
   "source": [
    "st=\"HElllooo,my name is omm,i am 19\"\n",
    "x=st.split(\",\")\n",
    "print(x)"
   ]
  },
  {
   "cell_type": "code",
   "execution_count": 164,
   "id": "90bca085-7293-4db4-9af8-bd2be0d00946",
   "metadata": {},
   "outputs": [
    {
     "name": "stdout",
     "output_type": "stream",
     "text": [
      "['apple', 'banana', 'cherry', 'orange']\n"
     ]
    }
   ],
   "source": [
    "st=\"apple#banana#cherry#orange\"\n",
    "x=st.split(\"#\")\n",
    "print(x)"
   ]
  },
  {
   "cell_type": "code",
   "execution_count": 166,
   "id": "046566d0-4f59-4169-8ec5-aabcd3022f39",
   "metadata": {},
   "outputs": [
    {
     "name": "stdout",
     "output_type": "stream",
     "text": [
      "['apple', 'banana#cherry#orange']\n"
     ]
    }
   ],
   "source": [
    "st=\"apple#banana#cherry#orange\"\n",
    "x=st.split(\"#\",1)\n",
    "print(x)"
   ]
  },
  {
   "cell_type": "code",
   "execution_count": 168,
   "id": "fd1aaefa-3a83-4d9f-8fe2-e65347a7a458",
   "metadata": {},
   "outputs": [
    {
     "name": "stdout",
     "output_type": "stream",
     "text": [
      "['apple', 'banana', 'cherry#orange']\n"
     ]
    }
   ],
   "source": [
    "st=\"apple#banana#cherry#orange\"\n",
    "x=st.split(\"#\",2)\n",
    "print(x)"
   ]
  },
  {
   "cell_type": "code",
   "execution_count": 180,
   "id": "6b784155-90d2-448e-8172-a590fc5536f5",
   "metadata": {},
   "outputs": [
    {
     "name": "stdout",
     "output_type": "stream",
     "text": [
      "nameTESTcountry\n"
     ]
    }
   ],
   "source": [
    "myDict={\"name\": \"banana\",\"country\": \"orange\"}\n",
    "myseparator=\"TEST\"\n",
    "x=myseparator.join(myDict)\n",
    "print(x)"
   ]
  },
  {
   "cell_type": "code",
   "execution_count": 186,
   "id": "0478f79a-424d-4f46-8086-9bc00709ac93",
   "metadata": {},
   "outputs": [
    {
     "name": "stdout",
     "output_type": "stream",
     "text": [
      "s s i p m t\n"
     ]
    }
   ],
   "source": [
    "txt=['s','s','i','p','m','t']\n",
    "print(\" \".join(txt))"
   ]
  },
  {
   "cell_type": "code",
   "execution_count": 188,
   "id": "c0e6a520-20aa-4688-b305-db653aa87654",
   "metadata": {},
   "outputs": [
    {
     "name": "stdout",
     "output_type": "stream",
     "text": [
      "Apple#Banana#Cherry#Orange\n"
     ]
    }
   ],
   "source": [
    "st=\"apple#banana#cherry#orange\"\n",
    "x=st.title()\n",
    "print(x)"
   ]
  },
  {
   "cell_type": "code",
   "execution_count": 194,
   "id": "7240684a-153b-4b1a-a9f9-6228e1726fd4",
   "metadata": {},
   "outputs": [
    {
     "name": "stdout",
     "output_type": "stream",
     "text": [
      "chiku#banana#cherry#orange\n"
     ]
    }
   ],
   "source": [
    "t=\"apple#banana#cherry#orange\"\n",
    "x=st.replace(\"apple\",\"chiku\",1)\n",
    "print(x)"
   ]
  },
  {
   "cell_type": "code",
   "execution_count": 204,
   "id": "11e7eaf6-401f-464a-8fc3-66c040dfb4b2",
   "metadata": {},
   "outputs": [
    {
     "name": "stdout",
     "output_type": "stream",
     "text": [
      "Factorial of 5 is 120\n"
     ]
    }
   ],
   "source": [
    "def factorial(n):\n",
    "    fact = 1\n",
    "    while n > 0:\n",
    "        fact = fact * n\n",
    "        n = n - 1\n",
    "    return fact\n",
    "num = 5\n",
    "print(f\"Factorial of {num} is {factorial(num)}\")"
   ]
  },
  {
   "cell_type": "code",
   "execution_count": 228,
   "id": "9023cee8-9b46-4afd-8085-fef9daeb14c2",
   "metadata": {},
   "outputs": [
    {
     "name": "stdin",
     "output_type": "stream",
     "text": [
      "Enter The Number 4\n"
     ]
    },
    {
     "name": "stdout",
     "output_type": "stream",
     "text": [
      "4 x 1 is 4\n",
      "4 x 2 is 8\n",
      "4 x 3 is 12\n",
      "4 x 4 is 16\n",
      "4 x 5 is 20\n",
      "4 x 6 is 24\n",
      "4 x 7 is 28\n",
      "4 x 8 is 32\n",
      "4 x 9 is 36\n",
      "4 x 10 is 40\n"
     ]
    }
   ],
   "source": [
    "n=int(input(\"Enter The Number\"))\n",
    "i=1\n",
    "while i<11:\n",
    "    print(n,\"x\",i,\"is\",n*i)\n",
    "    i =  i + 1"
   ]
  },
  {
   "cell_type": "code",
   "execution_count": null,
   "id": "d68b0c42-f2eb-4b2a-95bb-cd3456b03938",
   "metadata": {},
   "outputs": [],
   "source": [
    "c=0\n",
    "num=1\n",
    "while c<5:\n",
    "    print(num)\n",
    "    num=num+2\n",
    "    c = c + 1"
   ]
  },
  {
   "cell_type": "code",
   "execution_count": 1,
   "id": "0eb6f9d5-d4dc-4adf-a423-e54b3377e210",
   "metadata": {},
   "outputs": [
    {
     "name": "stdout",
     "output_type": "stream",
     "text": [
      "John(36)\n"
     ]
    }
   ],
   "source": [
    "class Person:\n",
    "    def __init__(self, name, age):\n",
    "        self.name = name\n",
    "        self.age = age\n",
    "    def __str__(self):\n",
    "        return f\"{self.name}({self.age})\"\n",
    "p1=Person(\"John\", 36)\n",
    "print(p1)\n"
   ]
  },
  {
   "cell_type": "code",
   "execution_count": 7,
   "id": "dd4d889e-b580-49ba-9d89-31a21aaae030",
   "metadata": {},
   "outputs": [
    {
     "name": "stdout",
     "output_type": "stream",
     "text": [
      "Name: John Age: 20\n"
     ]
    }
   ],
   "source": [
    "class Student:\n",
    "    def __init__(self, name, age):\n",
    "        self.name = name\n",
    "        self.age = age\n",
    "    def show(self):\n",
    "        print('Name:',stud.name,'Age:',stud.age)\n",
    "stud=Student(\"John\", 20)\n",
    "stud.show()"
   ]
  },
  {
   "cell_type": "code",
   "execution_count": 9,
   "id": "2510e53d-367e-4a09-8364-761c3a60289f",
   "metadata": {},
   "outputs": [
    {
     "name": "stdout",
     "output_type": "stream",
     "text": [
      "Name: John\n",
      "Age: 20\n"
     ]
    }
   ],
   "source": [
    "class Student:\n",
    "    def __init__(self, name, age):\n",
    "        self.name = name\n",
    "        self.age = age\n",
    "        \n",
    "stud=Student(\"John\", 20)\n",
    "\n",
    "print('Name:',getattr(stud,'name'))\n",
    "print('Age:',getattr(stud,'age'))"
   ]
  },
  {
   "cell_type": "code",
   "execution_count": 3,
   "id": "83e09ff9-9785-49bb-9b72-a8d3cb75e73e",
   "metadata": {},
   "outputs": [
    {
     "name": "stdout",
     "output_type": "stream",
     "text": [
      "25\n"
     ]
    }
   ],
   "source": [
    "def max_of_three(a, b, c):\n",
    "    if a >= b and a >= c:\n",
    "        return a\n",
    "    elif b >= a and b >= c:\n",
    "        return b\n",
    "    else:\n",
    "        return c\n",
    "\n",
    "print(max_of_three(10, 25, 15))  \n"
   ]
  },
  {
   "cell_type": "code",
   "execution_count": 5,
   "id": "daa40447-70b7-4f9e-9edc-5e0905b6f6ec",
   "metadata": {},
   "outputs": [
    {
     "name": "stdout",
     "output_type": "stream",
     "text": [
      "15\n"
     ]
    }
   ],
   "source": [
    "def sum_list(numbers):\n",
    "    total = 0\n",
    "    for num in numbers:\n",
    "        total += num\n",
    "    return total\n",
    "\n",
    "print(sum_list([1, 2, 3, 4, 5]))  \n"
   ]
  },
  {
   "cell_type": "code",
   "execution_count": 7,
   "id": "c815cf85-8f7d-4a11-ae23-bfcbf22e0e0b",
   "metadata": {},
   "outputs": [
    {
     "name": "stdout",
     "output_type": "stream",
     "text": [
      "120\n"
     ]
    }
   ],
   "source": [
    "def factorial(n):\n",
    "    if n == 0 or n == 1:\n",
    "        return 1\n",
    "    return n * factorial(n - 1)\n",
    "\n",
    "print(factorial(5))  \n"
   ]
  },
  {
   "cell_type": "code",
   "execution_count": 2,
   "id": "8e29763c-1a6e-4c93-abba-23eeb418a855",
   "metadata": {},
   "outputs": [
    {
     "name": "stdout",
     "output_type": "stream",
     "text": [
      "Mike Olsen\n"
     ]
    }
   ],
   "source": [
    "class Person:\n",
    "    def __init__(self, fname, lname):\n",
    "        self.firstname = fname\n",
    "        self.lastname = lname\n",
    "    def printname(self):\n",
    "        print(self.firstname,self.lastname)\n",
    "class Student(Person):\n",
    "    pass\n",
    "x=Student(\"Mike\",\"Olsen\")\n",
    "x.printname()"
   ]
  },
  {
   "cell_type": "code",
   "execution_count": 4,
   "id": "deda8fa2-b95a-46b0-899e-6348462cf46b",
   "metadata": {},
   "outputs": [
    {
     "name": "stdout",
     "output_type": "stream",
     "text": [
      "Mike\n"
     ]
    }
   ],
   "source": [
    "class Person:\n",
    "    def __init__(self, fname, lname):\n",
    "        self.firstname = fname\n",
    "        self.lastname = lname\n",
    "    def printname(self):\n",
    "        print(self.firstname,self.lastname)\n",
    "class Student(Person):\n",
    "    pass\n",
    "x=Student(\"Mike\",\"Olsen\")\n",
    "print(x.firstname)"
   ]
  },
  {
   "cell_type": "code",
   "execution_count": 6,
   "id": "ca423b61-8763-44a7-8104-4bd5c090715e",
   "metadata": {},
   "outputs": [
    {
     "name": "stdout",
     "output_type": "stream",
     "text": [
      "Olsen\n"
     ]
    }
   ],
   "source": [
    "class Person:\n",
    "    def __init__(self, fname, lname):\n",
    "        self.firstname = fname\n",
    "        self.lastname = lname\n",
    "    def printname(self):\n",
    "        print(self.firstname,self.lastname)\n",
    "class Student(Person):\n",
    "    pass\n",
    "x=Student(\"Mike\",\"Olsen\")\n",
    "print(x.lastname)"
   ]
  },
  {
   "cell_type": "code",
   "execution_count": 10,
   "id": "6370ad6d-d92a-4661-a053-d640ffcec600",
   "metadata": {},
   "outputs": [
    {
     "ename": "AttributeError",
     "evalue": "'Student' object has no attribute '__firstname'",
     "output_type": "error",
     "traceback": [
      "\u001b[1;31m---------------------------------------------------------------------------\u001b[0m",
      "\u001b[1;31mAttributeError\u001b[0m                            Traceback (most recent call last)",
      "Cell \u001b[1;32mIn[10], line 10\u001b[0m\n\u001b[0;32m      8\u001b[0m     \u001b[38;5;28;01mpass\u001b[39;00m\n\u001b[0;32m      9\u001b[0m x\u001b[38;5;241m=\u001b[39mStudent(\u001b[38;5;124m\"\u001b[39m\u001b[38;5;124mMike\u001b[39m\u001b[38;5;124m\"\u001b[39m,\u001b[38;5;124m\"\u001b[39m\u001b[38;5;124mOlsen\u001b[39m\u001b[38;5;124m\"\u001b[39m)\n\u001b[1;32m---> 10\u001b[0m \u001b[38;5;28mprint\u001b[39m(x\u001b[38;5;241m.\u001b[39m__firstname)\n",
      "\u001b[1;31mAttributeError\u001b[0m: 'Student' object has no attribute '__firstname'"
     ]
    }
   ],
   "source": [
    "class Person:\n",
    "    def __init__(self, fname, lname):\n",
    "        self.__firstname = fname\n",
    "        self.lastname = lname\n",
    "    def printname(self):\n",
    "        print(self.firstname,self.lastname)\n",
    "class Student(Person):\n",
    "    pass\n",
    "x=Student(\"Mike\",\"Olsen\")\n",
    "print(x.__firstname)"
   ]
  },
  {
   "cell_type": "code",
   "execution_count": 12,
   "id": "493dfb1c-19ec-4d9b-bb5b-221d0738bde9",
   "metadata": {},
   "outputs": [
    {
     "name": "stdout",
     "output_type": "stream",
     "text": [
      "Mike\n"
     ]
    }
   ],
   "source": [
    "class Person:\n",
    "    def __init__(self, fname, lname):\n",
    "        self.__firstname = fname\n",
    "        self.lastname = lname\n",
    "    def printname(self):\n",
    "        print(self.firstname,self.lastname)\n",
    "class Student(Person):\n",
    "    pass\n",
    "x=Student(\"Mike\",\"Olsen\")\n",
    "print(x._Person__firstname)"
   ]
  },
  {
   "cell_type": "code",
   "execution_count": 14,
   "id": "ff880461-dae2-4000-ab98-0141d0a4ec4a",
   "metadata": {},
   "outputs": [
    {
     "name": "stdout",
     "output_type": "stream",
     "text": [
      "2019\n"
     ]
    }
   ],
   "source": [
    "class Person:\n",
    "    def __init__(self, fname, lname):\n",
    "        self.__firstname = fname\n",
    "        self.lastname = lname\n",
    "    def printname(self):\n",
    "        print(self.firstname,self.lastname)\n",
    "class Student(Person):\n",
    "    def __init__(self,fname,lname,year):\n",
    "        self.graduationyear=year\n",
    "x=Student(\"Mike\",\"Olsen\",2019)\n",
    "print(x.graduationyear)"
   ]
  },
  {
   "cell_type": "code",
   "execution_count": 34,
   "id": "a57df3ce-25f3-4700-b835-1031cf36739d",
   "metadata": {},
   "outputs": [
    {
     "name": "stdout",
     "output_type": "stream",
     "text": [
      "2019\n"
     ]
    }
   ],
   "source": [
    "class Person:\n",
    "    def __init__(self, fname, lname):\n",
    "        self.firstname = fname\n",
    "        self.lastname = lname\n",
    "    def printname(self):\n",
    "        print(self.firstname,self.lastname)\n",
    "class Student(Person):\n",
    "    def __init__(self,fname,lname,year):\n",
    "        super().__init__(fname,lname)\n",
    "        self.graduationyear=year\n",
    "x=Student(\"Mike\",\"Olsen\",2019)\n",
    "print(x.graduationyear)"
   ]
  },
  {
   "cell_type": "code",
   "execution_count": 50,
   "id": "1ac1ff12-5073-4dee-8da1-148530c0b2b8",
   "metadata": {},
   "outputs": [
    {
     "ename": "IndentationError",
     "evalue": "expected an indented block after function definition on line 5 (2860596332.py, line 6)",
     "output_type": "error",
     "traceback": [
      "\u001b[1;36m  Cell \u001b[1;32mIn[50], line 6\u001b[1;36m\u001b[0m\n\u001b[1;33m    class Bat(Mammal,Wingedanimal):\u001b[0m\n\u001b[1;37m                                   ^\u001b[0m\n\u001b[1;31mIndentationError\u001b[0m\u001b[1;31m:\u001b[0m expected an indented block after function definition on line 5\n"
     ]
    }
   ],
   "source": [
    "class Mammal:\n",
    "    def Mammal_info(self):\n",
    "        print(\"Mammal can give direct birth\")\n",
    "class Wingedanimal:\n",
    "    def winged_animal_info(self):\n",
    "class Bat(Mammal,Wingedanimal):\n",
    "    pass\n",
    "b1=Bat()\n",
    "b1.animal_info()\n",
    "b1.winged_animal_info()"
   ]
  },
  {
   "cell_type": "code",
   "execution_count": 4,
   "id": "f248d3d8-1f5a-44a6-b613-6390955d89f0",
   "metadata": {},
   "outputs": [
    {
     "name": "stdout",
     "output_type": "stream",
     "text": [
      "[1, 2, 3, 4, {4, 5, 6}, 5, 6]\n"
     ]
    }
   ],
   "source": [
    "list1=[1,2,3,4,5,6]\n",
    "#tuple of numbers\n",
    "num_tuple={4,5,6}\n",
    "list1.insert(-2,num_tuple)\n",
    "print(list1)"
   ]
  },
  {
   "cell_type": "code",
   "execution_count": 6,
   "id": "ceb69245-6ce8-4d46-a8e2-5fc707c8b15c",
   "metadata": {},
   "outputs": [
    {
     "name": "stdout",
     "output_type": "stream",
     "text": [
      "['orange', 'apple', 'banana', 'cherry']\n"
     ]
    }
   ],
   "source": [
    "fruits=['apple','banana','cherry']\n",
    "fruits.insert(0,'orange')\n",
    "print(fruits)"
   ]
  },
  {
   "cell_type": "code",
   "execution_count": 8,
   "id": "5c8b2ec5-8216-4c09-9e97-e7e8c9e751ff",
   "metadata": {},
   "outputs": [
    {
     "name": "stdout",
     "output_type": "stream",
     "text": [
      "['apple', 'banana', 'orange', 'cherry']\n"
     ]
    }
   ],
   "source": [
    "fruits=['apple','banana','cherry']\n",
    "fruits.insert(-1,'orange')\n",
    "print(fruits)"
   ]
  },
  {
   "cell_type": "code",
   "execution_count": 10,
   "id": "c2eb6cdc-5873-4d3e-900f-b8bd04677e6d",
   "metadata": {},
   "outputs": [
    {
     "name": "stdout",
     "output_type": "stream",
     "text": [
      "[1, 2, 3, 4, 5, 6]\n"
     ]
    }
   ],
   "source": [
    "list1=[1,2,3]\n",
    "list2=[4,5,6]\n",
    "list1=list1+list2\n",
    "print(list1)"
   ]
  },
  {
   "cell_type": "code",
   "execution_count": 14,
   "id": "074504be-1c71-458d-9e83-bc1de4f2cf50",
   "metadata": {},
   "outputs": [
    {
     "name": "stdout",
     "output_type": "stream",
     "text": [
      "[1, 1, 3, 4, 5]\n"
     ]
    }
   ],
   "source": [
    "a=[1,2,3,4,5]\n",
    "a[1]=1\n",
    "print(a)"
   ]
  },
  {
   "cell_type": "code",
   "execution_count": 16,
   "id": "7156ab1d-f432-48f1-8159-20ec296ef8e2",
   "metadata": {},
   "outputs": [
    {
     "name": "stdout",
     "output_type": "stream",
     "text": [
      "After remove 30: [1, 2, 4, 5]\n",
      "Popped element: 2\n",
      "After pop [1, 4, 5]\n",
      "After del [4, 5]\n"
     ]
    }
   ],
   "source": [
    "a=[1,2,3,4,5]\n",
    "a.remove(3)\n",
    "print(\"After remove 30:\",a)\n",
    "\n",
    "popped_val=a.pop(1)\n",
    "print(\"Popped element:\",popped_val)\n",
    "print(\"After pop\",a)\n",
    "del a[0]\n",
    "print(\"After del\",a)"
   ]
  },
  {
   "cell_type": "code",
   "execution_count": 18,
   "id": "5d3843b5-0859-4a7f-8ced-4e7fc18f292b",
   "metadata": {},
   "outputs": [
    {
     "name": "stdout",
     "output_type": "stream",
     "text": [
      "6\n"
     ]
    }
   ],
   "source": [
    "a=[[1,2,3],[4,5,6],[7,8,9]]\n",
    "print(a[1][2])"
   ]
  },
  {
   "cell_type": "code",
   "execution_count": 20,
   "id": "d9c1a950-71c5-49a3-be6c-a31164fbcdc9",
   "metadata": {},
   "outputs": [
    {
     "name": "stdout",
     "output_type": "stream",
     "text": [
      "[1, 2, 3]\n"
     ]
    }
   ],
   "source": [
    "a=[1,2,3]\n",
    "b=a.copy()\n",
    "print(b)"
   ]
  },
  {
   "cell_type": "code",
   "execution_count": 22,
   "id": "3c583b74-d15b-490a-8b74-a2d1c609f5d9",
   "metadata": {},
   "outputs": [
    {
     "name": "stdout",
     "output_type": "stream",
     "text": [
      "[]\n"
     ]
    }
   ],
   "source": [
    "a=[1,2,3]\n",
    "a.clear()\n",
    "print(a)"
   ]
  },
  {
   "cell_type": "code",
   "execution_count": 26,
   "id": "beefab98-80a5-4371-a68a-3eecf13eadbc",
   "metadata": {},
   "outputs": [
    {
     "name": "stdout",
     "output_type": "stream",
     "text": [
      "2\n"
     ]
    }
   ],
   "source": [
    "a=[1,2,3,2]\n",
    "print(a.count(2))"
   ]
  },
  {
   "cell_type": "code",
   "execution_count": 32,
   "id": "e061c088-9bb8-41c1-9948-db6b3a13d55c",
   "metadata": {},
   "outputs": [
    {
     "name": "stdout",
     "output_type": "stream",
     "text": [
      "[2, 3, 2, 1]\n"
     ]
    }
   ],
   "source": [
    "a=[1,2,3,2]\n",
    "a.reverse()\n",
    "print(a)"
   ]
  },
  {
   "cell_type": "code",
   "execution_count": 36,
   "id": "b10f52a0-5720-4a09-a5e4-90a3ab295dc7",
   "metadata": {},
   "outputs": [
    {
     "name": "stdout",
     "output_type": "stream",
     "text": [
      "[1, 2, 3]\n"
     ]
    }
   ],
   "source": [
    "a=[3,1,2]\n",
    "a.sort()\n",
    "print(a)"
   ]
  },
  {
   "cell_type": "code",
   "execution_count": 40,
   "id": "69aacd81-6714-4445-ae75-c2780b915d6d",
   "metadata": {},
   "outputs": [
    {
     "name": "stdout",
     "output_type": "stream",
     "text": [
      "[3, 2, 1]\n"
     ]
    }
   ],
   "source": [
    "a=[3,1,2]\n",
    "a.sort(reverse=True)\n",
    "print(a)"
   ]
  },
  {
   "cell_type": "code",
   "execution_count": 42,
   "id": "2ade0560-51d6-493d-9e0a-8873b3897022",
   "metadata": {},
   "outputs": [
    {
     "name": "stdout",
     "output_type": "stream",
     "text": [
      "[1, 2, 5, 5, 6, 9]\n"
     ]
    }
   ],
   "source": [
    "number=[5,2,9,1,5,6]\n",
    "sorted_number=sorted(number)\n",
    "print(sorted_number)"
   ]
  },
  {
   "cell_type": "code",
   "execution_count": 44,
   "id": "75e9de88-2520-4fa3-8454-26f3468f2814",
   "metadata": {},
   "outputs": [
    {
     "name": "stdout",
     "output_type": "stream",
     "text": [
      "[9, 6, 5, 5, 2, 1]\n"
     ]
    }
   ],
   "source": [
    "number=[5,2,9,1,5,6]\n",
    "sorted_number=sorted(number,reverse=True)\n",
    "print(sorted_number)"
   ]
  },
  {
   "cell_type": "code",
   "execution_count": 48,
   "id": "ab2099de-272c-437c-9402-2f96f34262fe",
   "metadata": {},
   "outputs": [
    {
     "name": "stdout",
     "output_type": "stream",
     "text": [
      "['banana', 'cherry', 'mango']\n"
     ]
    }
   ],
   "source": [
    "a=[\"banana\",\"mango\",\"cherry\"]\n",
    "sort=sorted(a)\n",
    "print(sort)"
   ]
  },
  {
   "cell_type": "code",
   "execution_count": 50,
   "id": "0be1e173-2e9d-4184-ad9f-7ad96ce8938a",
   "metadata": {},
   "outputs": [
    {
     "name": "stdout",
     "output_type": "stream",
     "text": [
      "['mango', 'banana', 'cherry']\n"
     ]
    }
   ],
   "source": [
    "a=[\"banana\",\"mango\",\"cherry\"]\n",
    "sortbylen=sorted(a,key=len)\n",
    "print(sortbylen)"
   ]
  },
  {
   "cell_type": "code",
   "execution_count": 52,
   "id": "9edfc880-5278-4c4b-a7b0-226dbed63b60",
   "metadata": {},
   "outputs": [
    {
     "name": "stdout",
     "output_type": "stream",
     "text": [
      "['banana', 'cherry', 'mango']\n"
     ]
    }
   ],
   "source": [
    "a=[\"banana\",\"mango\",\"cherry\"]\n",
    "sortbylen=sorted(a,key=len,reverse=True)\n",
    "print(sortbylen)"
   ]
  },
  {
   "cell_type": "code",
   "execution_count": 56,
   "id": "eaa0e863-3f73-4908-b86b-a0f9dabf3688",
   "metadata": {},
   "outputs": [
    {
     "name": "stdout",
     "output_type": "stream",
     "text": [
      "[(4, 1), (2, 2), (1, 3)]\n"
     ]
    }
   ],
   "source": [
    "a=[(1,3),(2,2),(4,1)]\n",
    "sort=sorted(a,key=lambda x: x[1])\n",
    "print(sort)"
   ]
  },
  {
   "cell_type": "code",
   "execution_count": 60,
   "id": "c5fb95e4-f9b7-4f36-9e88-f3ed393133a3",
   "metadata": {},
   "outputs": [
    {
     "name": "stdout",
     "output_type": "stream",
     "text": [
      "[{'name': 'Alice', 'age': 20}, {'name': 'Bob', 'age': 20}, {'name': 'Alok', 'age': 32}]\n"
     ]
    }
   ],
   "source": [
    "a=[{'name': 'Alice','age': 20},{'name': 'Bob','age': 20},{'name': 'Alok','age': 32}]\n",
    "sort=sorted(a,key= lambda x: x['age'])\n",
    "print(sort)"
   ]
  },
  {
   "cell_type": "code",
   "execution_count": 62,
   "id": "f923d3f9-7857-424e-aafa-160dc055bde3",
   "metadata": {},
   "outputs": [
    {
     "name": "stdout",
     "output_type": "stream",
     "text": [
      "hnopty\n"
     ]
    }
   ],
   "source": [
    "sort=sorted(\"python\")\n",
    "print(\"\".join(sort))"
   ]
  },
  {
   "cell_type": "code",
   "execution_count": 64,
   "id": "d969428c-8596-4524-81f8-9a0d0ed62d64",
   "metadata": {},
   "outputs": [
    {
     "name": "stdout",
     "output_type": "stream",
     "text": [
      "[1, 1, 2, 3, 4]\n"
     ]
    }
   ],
   "source": [
    "a=[1,2,3,4,1]\n",
    "a.sort()\n",
    "print(a)"
   ]
  },
  {
   "cell_type": "code",
   "execution_count": 72,
   "id": "4a199cc7-1936-4f16-8bea-d0793b8f7804",
   "metadata": {},
   "outputs": [
    {
     "name": "stdout",
     "output_type": "stream",
     "text": [
      "[1, 2, 3, 4, 1, 5, 6, 4, 5, 6]\n",
      "[1, 2, 3, 4, 1, 5, 6, 4, 5, 6]\n"
     ]
    }
   ],
   "source": [
    "a=[1,2,3,4,1,5,6,4,5,6]\n",
    "print(a[::])\n",
    "print(a[:])"
   ]
  },
  {
   "cell_type": "code",
   "execution_count": 78,
   "id": "29cdb766-1d8a-4883-b594-d841de62ab1a",
   "metadata": {},
   "outputs": [
    {
     "name": "stdout",
     "output_type": "stream",
     "text": [
      "[3, 4, 1, 5, 6, 4, 5, 6]\n"
     ]
    }
   ],
   "source": [
    "a=[1,2,3,4,1,5,6,4,5,6]\n",
    "b=a[2:]\n",
    "print(b)"
   ]
  },
  {
   "cell_type": "code",
   "execution_count": 80,
   "id": "370ea3ee-055e-4616-839b-ef4ada9546b7",
   "metadata": {},
   "outputs": [
    {
     "name": "stdout",
     "output_type": "stream",
     "text": [
      "[2, 3, 4]\n"
     ]
    }
   ],
   "source": [
    "a=[1,2,3,4,1,5,6,4,5,6]\n",
    "b=a[1:4]\n",
    "print(b)"
   ]
  },
  {
   "cell_type": "code",
   "execution_count": 88,
   "id": "f1758148-d229-4c37-972c-a9a35c6ccbe4",
   "metadata": {},
   "outputs": [
    {
     "name": "stdout",
     "output_type": "stream",
     "text": [
      "[1, 3, 1, 6, 5]\n",
      "[3, 5]\n"
     ]
    }
   ],
   "source": [
    "a=[1,2,3,4,1,5,6,4,5,6]\n",
    "b=a[::2]\n",
    "print(b)\n",
    "c=a[2:8:3]\n",
    "print(c)"
   ]
  },
  {
   "cell_type": "code",
   "execution_count": 14,
   "id": "5c49aaf1-df29-4683-8450-37a71039e77d",
   "metadata": {},
   "outputs": [
    {
     "name": "stdout",
     "output_type": "stream",
     "text": [
      "[8, 9]\n",
      "[1, 2, 3, 4, 5, 6]\n",
      "[6, 7, 8]\n",
      "[2, 4, 6, 8]\n"
     ]
    }
   ],
   "source": [
    "a=[1,2,3,4,5,6,7,8,9]\n",
    "b=a[-2:]\n",
    "print(b)\n",
    "\n",
    "c=a[:-3]\n",
    "print(c)\n",
    "\n",
    "d=a[-4:-1]\n",
    "print(d)\n",
    "#get every 2nd elements from index -8 to -1(excluding index -1)\n",
    "e=a[-8:-1:2]\n",
    "print(e)"
   ]
  },
  {
   "cell_type": "code",
   "execution_count": 16,
   "id": "c6da47ca-282d-4800-b4d5-1b9161106910",
   "metadata": {},
   "outputs": [
    {
     "name": "stdout",
     "output_type": "stream",
     "text": [
      "[9, 8, 7, 6, 5, 4, 3, 2, 1]\n"
     ]
    }
   ],
   "source": [
    "a=[1,2,3,4,5,6,7,8,9]\n",
    "b=a[::-1]\n",
    "print(b)"
   ]
  },
  {
   "cell_type": "code",
   "execution_count": 18,
   "id": "c2c875eb-ed51-433e-a327-2fc5496b0232",
   "metadata": {},
   "outputs": [
    {
     "name": "stdout",
     "output_type": "stream",
     "text": [
      "[9, 7, 5, 3, 1]\n"
     ]
    }
   ],
   "source": [
    "a=[1,2,3,4,5,6,7,8,9]\n",
    "b=a[::-2]\n",
    "print(b)"
   ]
  },
  {
   "cell_type": "code",
   "execution_count": 20,
   "id": "a554f014-747f-47f0-91e2-4931a1f7d14f",
   "metadata": {},
   "outputs": [
    {
     "name": "stdout",
     "output_type": "stream",
     "text": [
      "[0, 1, 4, 9, 16]\n"
     ]
    }
   ],
   "source": [
    "a=[x**2 for x in range(5)]\n",
    "print(a)"
   ]
  },
  {
   "cell_type": "code",
   "execution_count": 22,
   "id": "ee5c2233-a6b4-47ce-83e8-b4e5cd0de433",
   "metadata": {},
   "outputs": [
    {
     "name": "stdout",
     "output_type": "stream",
     "text": [
      "[0, 2, 4, 6, 8]\n"
     ]
    }
   ],
   "source": [
    "a=[x for x in range(10) if x % 2 == 0]\n",
    "print(a)"
   ]
  },
  {
   "cell_type": "code",
   "execution_count": 24,
   "id": "2854fc31-1932-4b28-a014-6abad4c83b2b",
   "metadata": {},
   "outputs": [
    {
     "name": "stdout",
     "output_type": "stream",
     "text": [
      "[(0, 0), (1, 1), (2, 4), (3, 9)]\n"
     ]
    }
   ],
   "source": [
    "a=[(x,x**2) for x in range(4)]\n",
    "print(a)"
   ]
  },
  {
   "cell_type": "code",
   "execution_count": 32,
   "id": "f62087a2-3933-4169-a54e-ee3d00254aff",
   "metadata": {},
   "outputs": [
    {
     "name": "stdout",
     "output_type": "stream",
     "text": [
      "[0, 'odd', 2, 'odd', 4, 'odd']\n"
     ]
    }
   ],
   "source": [
    "a=[x if x % 2 == 0 else 'odd' for x in range(6)]\n",
    "print(a)"
   ]
  },
  {
   "cell_type": "code",
   "execution_count": 34,
   "id": "6f7e1980-8524-4c11-b0d1-8d06ec727f9c",
   "metadata": {},
   "outputs": [
    {
     "name": "stdout",
     "output_type": "stream",
     "text": [
      "[0, 1, 4, 9, 16]\n"
     ]
    }
   ],
   "source": [
    "def a(x):\n",
    "    return x**2\n",
    "b=[a(x) for x in range(5)]\n",
    "print(b)"
   ]
  },
  {
   "cell_type": "code",
   "execution_count": 42,
   "id": "83d575ee-9b76-4531-8591-d60143980618",
   "metadata": {},
   "outputs": [
    {
     "name": "stdout",
     "output_type": "stream",
     "text": [
      "[]\n"
     ]
    }
   ],
   "source": [
    "list1=list()\n",
    "print(list1)"
   ]
  },
  {
   "cell_type": "code",
   "execution_count": 46,
   "id": "6dcd73d4-5982-46c1-863f-ca8ef0150bb3",
   "metadata": {},
   "outputs": [
    {
     "name": "stdout",
     "output_type": "stream",
     "text": [
      "['h', 'e', 'l', 'l', 'o']\n"
     ]
    }
   ],
   "source": [
    "list1=list(\"hello\")\n",
    "print(list1)"
   ]
  },
  {
   "cell_type": "code",
   "execution_count": 82,
   "id": "66e6f63d-eac6-4306-ab74-2b8f606acbbb",
   "metadata": {},
   "outputs": [
    {
     "name": "stdout",
     "output_type": "stream",
     "text": [
      "*****\n",
      "*****\n",
      "*****\n",
      "*****\n",
      "*****\n"
     ]
    }
   ],
   "source": [
    "for i in range(5):\n",
    "    for j in range(5):\n",
    "        print(\"*\",end=\"\")\n",
    "    print()"
   ]
  },
  {
   "cell_type": "code",
   "execution_count": 105,
   "id": "0a486138-4a3b-4ed7-b9b8-8cb379e96a54",
   "metadata": {},
   "outputs": [
    {
     "name": "stdout",
     "output_type": "stream",
     "text": [
      "11111\n",
      "22222\n",
      "33333\n",
      "44444\n",
      "55555\n"
     ]
    }
   ],
   "source": [
    "for i in range(5):\n",
    "    for j in range(5):\n",
    "        print(i+1,end=\"\")\n",
    "    print()"
   ]
  },
  {
   "cell_type": "code",
   "execution_count": 117,
   "id": "3328f2f4-66fd-49ff-90af-a4497570668f",
   "metadata": {},
   "outputs": [
    {
     "name": "stdout",
     "output_type": "stream",
     "text": [
      "\n",
      "* \n",
      "* * \n",
      "* * * \n",
      "* * * * \n",
      "* * * * * \n"
     ]
    }
   ],
   "source": [
    "for i in range(6):\n",
    "    for j in range(i):\n",
    "        print(\"*\",end=\" \")\n",
    "    print()"
   ]
  },
  {
   "cell_type": "code",
   "execution_count": 251,
   "id": "aa29a4de-9a53-4054-8234-3d8f9063b9d5",
   "metadata": {},
   "outputs": [
    {
     "name": "stdout",
     "output_type": "stream",
     "text": [
      "A A A A A \n",
      "B B B B B \n",
      "C C C C C \n",
      "D D D D D \n",
      "E E E E E \n"
     ]
    }
   ],
   "source": [
    "k=65\n",
    "for i in range(65,70):\n",
    "    for j in range(65,70):\n",
    "        x=chr(k)\n",
    "        print(x,end=\" \")\n",
    "    print()\n",
    "    k=k+1"
   ]
  },
  {
   "cell_type": "code",
   "execution_count": 309,
   "id": "64599d9c-e77f-4289-9255-643cdb3420ee",
   "metadata": {},
   "outputs": [
    {
     "name": "stdout",
     "output_type": "stream",
     "text": [
      "\n",
      "A \n",
      "B B \n",
      "C C C \n",
      "D D D D \n",
      "E E E E E \n"
     ]
    }
   ],
   "source": [
    "k=64\n",
    "for i in range(6):\n",
    "    for j in range(i):\n",
    "        x=chr(k)\n",
    "        print(x,end=\" \")\n",
    "    print()\n",
    "    k=k+1"
   ]
  },
  {
   "cell_type": "code",
   "execution_count": 301,
   "id": "7f693978-1671-4cdb-a92e-4dc2f4236c5e",
   "metadata": {},
   "outputs": [
    {
     "name": "stdout",
     "output_type": "stream",
     "text": [
      "\n",
      "1 \n",
      "1 2 \n",
      "1 2 3 \n",
      "1 2 3 4 \n",
      "1 2 3 4 5 \n"
     ]
    }
   ],
   "source": [
    "for i in range(6):\n",
    "    for j in range(i):\n",
    "        print(j+1,end=\" \")\n",
    "    print()"
   ]
  },
  {
   "cell_type": "code",
   "execution_count": 271,
   "id": "d26b3812-5156-4303-a8d4-cedd69a47432",
   "metadata": {},
   "outputs": [
    {
     "name": "stdout",
     "output_type": "stream",
     "text": [
      "\n",
      "1 \n",
      "2 2 \n",
      "3 3 3 \n",
      "4 4 4 4 \n",
      "5 5 5 5 5 \n"
     ]
    }
   ],
   "source": [
    "for i in range(6):\n",
    "    for j in range(i):\n",
    "        print(i,end=\" \")\n",
    "    print()"
   ]
  },
  {
   "cell_type": "code",
   "execution_count": 325,
   "id": "6b10571a-9c0b-4e5c-862b-9f8dbcd1b1f1",
   "metadata": {},
   "outputs": [
    {
     "name": "stdout",
     "output_type": "stream",
     "text": [
      "A B C D \n",
      "A B C D \n",
      "A B C D \n",
      "A B C D \n",
      "A B C D \n",
      "A B C D \n"
     ]
    }
   ],
   "source": [
    "k=64\n",
    "for i in range(6):\n",
    "    for j in range(65,69):\n",
    "        x=chr(j)\n",
    "        print(x,end=\" \")\n",
    "    print()\n",
    "    k=k+1"
   ]
  },
  {
   "cell_type": "code",
   "execution_count": 400,
   "id": "0a58d84c-e75b-4db9-85a6-c7fbce72f3a6",
   "metadata": {},
   "outputs": [
    {
     "name": "stdout",
     "output_type": "stream",
     "text": [
      "1 \n",
      "1 3 \n",
      "1 3 5 \n",
      "1 3 5 7 \n",
      "1 3 5 7 9 \n"
     ]
    }
   ],
   "source": [
    "for i in range(1,6):\n",
    "    for j in range(1,i+1):\n",
    "        print(j*2-1,end=\" \")\n",
    "    print()"
   ]
  },
  {
   "cell_type": "code",
   "execution_count": 402,
   "id": "8d690d82-fcc6-4707-91fb-b449b8b3ba24",
   "metadata": {},
   "outputs": [
    {
     "name": "stdout",
     "output_type": "stream",
     "text": [
      "2 \n",
      "2 4 \n",
      "2 4 6 \n",
      "2 4 6 8 \n",
      "2 4 6 8 10 \n"
     ]
    }
   ],
   "source": [
    "for i in range(1,6):\n",
    "    for j in range(1,i+1):\n",
    "        print(j*2,end=\" \")\n",
    "    print()"
   ]
  },
  {
   "cell_type": "code",
   "execution_count": 1,
   "id": "663fca34-fe77-4b27-abf7-6fd7725ebe9c",
   "metadata": {},
   "outputs": [
    {
     "name": "stdout",
     "output_type": "stream",
     "text": [
      "('apple', 'banana', 'cherry')\n"
     ]
    }
   ],
   "source": [
    "a=(\"apple\",\"banana\",\"cherry\")\n",
    "print(a)"
   ]
  },
  {
   "cell_type": "code",
   "execution_count": 3,
   "id": "de1908d9-9a80-40dd-8f8b-120a41a2e9bf",
   "metadata": {},
   "outputs": [
    {
     "name": "stdout",
     "output_type": "stream",
     "text": [
      "3\n"
     ]
    }
   ],
   "source": [
    "a=(\"apple\",\"banana\",\"cherry\")\n",
    "print(len(a))"
   ]
  },
  {
   "cell_type": "code",
   "execution_count": 5,
   "id": "565b7e3a-13b7-4177-94fc-d78061bdd802",
   "metadata": {},
   "outputs": [
    {
     "name": "stdout",
     "output_type": "stream",
     "text": [
      "<class 'tuple'>\n"
     ]
    }
   ],
   "source": [
    "a=(\"apple\",\"banana\",\"cherry\")\n",
    "print(type(a))"
   ]
  },
  {
   "cell_type": "code",
   "execution_count": 7,
   "id": "8d7b9fe9-5eb1-4a28-8012-889d8f88e463",
   "metadata": {},
   "outputs": [
    {
     "name": "stdout",
     "output_type": "stream",
     "text": [
      "2\n",
      "5\n"
     ]
    }
   ],
   "source": [
    "t=(1,2,3,4,5)\n",
    "print(t[1])\n",
    "print(t[4])"
   ]
  },
  {
   "cell_type": "code",
   "execution_count": 9,
   "id": "04a08fea-3ca4-402a-8344-38d92b5ed69f",
   "metadata": {},
   "outputs": [
    {
     "name": "stdout",
     "output_type": "stream",
     "text": [
      "(1, 2, 3, 4, 2, 3)\n"
     ]
    },
    {
     "ename": "TypeError",
     "evalue": "'tuple' object does not support item assignment",
     "output_type": "error",
     "traceback": [
      "\u001b[1;31m---------------------------------------------------------------------------\u001b[0m",
      "\u001b[1;31mTypeError\u001b[0m                                 Traceback (most recent call last)",
      "Cell \u001b[1;32mIn[9], line 4\u001b[0m\n\u001b[0;32m      1\u001b[0m t\u001b[38;5;241m=\u001b[39m(\u001b[38;5;241m1\u001b[39m,\u001b[38;5;241m2\u001b[39m,\u001b[38;5;241m3\u001b[39m,\u001b[38;5;241m4\u001b[39m,\u001b[38;5;241m2\u001b[39m,\u001b[38;5;241m3\u001b[39m)\n\u001b[0;32m      2\u001b[0m \u001b[38;5;28mprint\u001b[39m(t)\n\u001b[1;32m----> 4\u001b[0m t[\u001b[38;5;241m1\u001b[39m]\u001b[38;5;241m=\u001b[39m\u001b[38;5;241m100\u001b[39m\n\u001b[0;32m      5\u001b[0m \u001b[38;5;28mprint\u001b[39m(t)\n",
      "\u001b[1;31mTypeError\u001b[0m: 'tuple' object does not support item assignment"
     ]
    }
   ],
   "source": [
    "t=(1,2,3,4,2,3)\n",
    "print(t)\n",
    "\n",
    "t[1]=100\n",
    "print(t)"
   ]
  },
  {
   "cell_type": "code",
   "execution_count": 11,
   "id": "31bd269e-b02f-41cf-8f47-4534303e00e9",
   "metadata": {},
   "outputs": [
    {
     "name": "stdout",
     "output_type": "stream",
     "text": [
      "(10, 20, 30)\n",
      "<class 'tuple'>\n"
     ]
    }
   ],
   "source": [
    "t=(10,20,30)\n",
    "print(t)\n",
    "print(type(t))"
   ]
  },
  {
   "cell_type": "code",
   "execution_count": 15,
   "id": "7c9f60a2-ff2d-4204-9a6f-ae440cfb821c",
   "metadata": {},
   "outputs": [
    {
     "name": "stdout",
     "output_type": "stream",
     "text": [
      "<class 'tuple'>\n"
     ]
    }
   ],
   "source": [
    "t=(\"apple\",) # ',' imp\n",
    "print(type(t))"
   ]
  },
  {
   "cell_type": "code",
   "execution_count": 19,
   "id": "5e765a49-9869-43ae-9be8-1930fa01f220",
   "metadata": {},
   "outputs": [
    {
     "name": "stdout",
     "output_type": "stream",
     "text": [
      "<class 'str'>\n"
     ]
    }
   ],
   "source": [
    "#Not a tuple\n",
    "t=(\"apple\") # ',' imp\n",
    "print(type(t))"
   ]
  },
  {
   "cell_type": "code",
   "execution_count": 21,
   "id": "0dc98962-5ee9-47db-b3c9-eb6562e3fbca",
   "metadata": {},
   "outputs": [
    {
     "name": "stdout",
     "output_type": "stream",
     "text": [
      "('apple', 'banana', 'cherry')\n"
     ]
    }
   ],
   "source": [
    "t=tuple((\"apple\",\"banana\",\"cherry\"))\n",
    "print(t)"
   ]
  },
  {
   "cell_type": "code",
   "execution_count": 25,
   "id": "d98fe3d0-d60a-46f2-b65d-c4b2288d10e4",
   "metadata": {},
   "outputs": [
    {
     "name": "stdout",
     "output_type": "stream",
     "text": [
      "('abc', 34, True, 40, 'male')\n"
     ]
    }
   ],
   "source": [
    "t=(\"abc\", 34, True, 40, \"male\")\n",
    "print(t)"
   ]
  },
  {
   "cell_type": "code",
   "execution_count": 27,
   "id": "af601175-5868-4d98-af14-9248dc4309cf",
   "metadata": {},
   "outputs": [
    {
     "name": "stdout",
     "output_type": "stream",
     "text": [
      "banana\n"
     ]
    }
   ],
   "source": [
    "t=tuple((\"apple\",\"banana\",\"cherry\"))\n",
    "print(t[1])"
   ]
  },
  {
   "cell_type": "code",
   "execution_count": 29,
   "id": "8ccd76a5-2e4c-453d-83b2-d72174f4df2c",
   "metadata": {},
   "outputs": [
    {
     "name": "stdout",
     "output_type": "stream",
     "text": [
      "Value in t[0] apple\n",
      "Value in t[1] banana\n",
      "Value in t[2] cherry\n"
     ]
    }
   ],
   "source": [
    "t=tuple((\"apple\",\"banana\",\"cherry\"))\n",
    "print(\"Value in t[0]\", t[0])\n",
    "print(\"Value in t[1]\", t[1])\n",
    "print(\"Value in t[2]\", t[2])"
   ]
  },
  {
   "cell_type": "code",
   "execution_count": 33,
   "id": "8650f9a7-41bc-4284-b8c7-b95d83acdf77",
   "metadata": {},
   "outputs": [
    {
     "name": "stdout",
     "output_type": "stream",
     "text": [
      "Value in t[-1] cherry\n",
      "Value in t[-2] banana\n",
      "Value in t[-3] apple\n"
     ]
    }
   ],
   "source": [
    "t=tuple((\"apple\",\"banana\",\"cherry\"))\n",
    "print(\"Value in t[-1]\", t[-1])\n",
    "print(\"Value in t[-2]\", t[-2])\n",
    "print(\"Value in t[-3]\", t[-3])"
   ]
  },
  {
   "cell_type": "code",
   "execution_count": 43,
   "id": "cffc6e14-1064-40d8-8f8b-fc8ca8f0946a",
   "metadata": {},
   "outputs": [
    {
     "name": "stdout",
     "output_type": "stream",
     "text": [
      "(1, 2, 3, (5, 6, 7))\n",
      "1\n"
     ]
    },
    {
     "ename": "TypeError",
     "evalue": "'tuple' object does not support item assignment",
     "output_type": "error",
     "traceback": [
      "\u001b[1;31m---------------------------------------------------------------------------\u001b[0m",
      "\u001b[1;31mTypeError\u001b[0m                                 Traceback (most recent call last)",
      "Cell \u001b[1;32mIn[43], line 4\u001b[0m\n\u001b[0;32m      2\u001b[0m \u001b[38;5;28mprint\u001b[39m(t1)\n\u001b[0;32m      3\u001b[0m \u001b[38;5;28mprint\u001b[39m(t1[\u001b[38;5;241m0\u001b[39m])\n\u001b[1;32m----> 4\u001b[0m t1[\u001b[38;5;241m3\u001b[39m][\u001b[38;5;241m0\u001b[39m]\u001b[38;5;241m=\u001b[39m\u001b[38;5;241m20\u001b[39m\n",
      "\u001b[1;31mTypeError\u001b[0m: 'tuple' object does not support item assignment"
     ]
    }
   ],
   "source": [
    "t1=(1,2,3,(5,6,7))\n",
    "print(t1)\n",
    "print(t1[0])\n",
    "t1[3][0]=20\n"
   ]
  },
  {
   "cell_type": "code",
   "execution_count": 45,
   "id": "0fc82cba-8236-49cc-9295-5a1a4cab7cc1",
   "metadata": {},
   "outputs": [
    {
     "name": "stdout",
     "output_type": "stream",
     "text": [
      "1 2 3 4 5 "
     ]
    }
   ],
   "source": [
    "t=(1,2,3,4,5)\n",
    "for x in t:\n",
    "    print(x,end=\" \")"
   ]
  },
  {
   "cell_type": "code",
   "execution_count": 47,
   "id": "42f76e30-142e-40a3-b436-53aa08cb5402",
   "metadata": {},
   "outputs": [
    {
     "name": "stdout",
     "output_type": "stream",
     "text": [
      "(0, 1, 2, 3, 'python', 'geek')\n"
     ]
    }
   ],
   "source": [
    "t=(0,1,2,3)\n",
    "t2=('python','geek')\n",
    "print(t+t2)"
   ]
  },
  {
   "cell_type": "code",
   "execution_count": 49,
   "id": "2467836b-7c49-4556-9281-2a004ad0fc1f",
   "metadata": {},
   "outputs": [
    {
     "name": "stdout",
     "output_type": "stream",
     "text": [
      "('S', 'a', 'g', 'a', 'r')\n"
     ]
    }
   ],
   "source": [
    "t1=tuple(\"Sagar\")\n",
    "print(t1)"
   ]
  },
  {
   "cell_type": "code",
   "execution_count": 51,
   "id": "74ad71e4-7106-4e40-85bd-e83074c1e190",
   "metadata": {},
   "outputs": [
    {
     "name": "stdout",
     "output_type": "stream",
     "text": [
      "((0, 1, 2, 3), ('python', 'geek'))\n"
     ]
    }
   ],
   "source": [
    "t=(0,1,2,3)\n",
    "t2=('python','geek')\n",
    "t3=(t,t2)\n",
    "print(t3)"
   ]
  },
  {
   "cell_type": "code",
   "execution_count": 53,
   "id": "a6baa879-a7a7-4f8f-a899-8b735b69fffd",
   "metadata": {},
   "outputs": [
    {
     "name": "stdout",
     "output_type": "stream",
     "text": [
      "('python', 'python', 'python')\n"
     ]
    }
   ],
   "source": [
    "t=('python',)*3\n",
    "print(t)"
   ]
  },
  {
   "cell_type": "code",
   "execution_count": 55,
   "id": "f107fd9b-d305-48bc-aa4d-0eb70cfe7d49",
   "metadata": {},
   "outputs": [],
   "source": [
    "t=(0,1,2,3)\n",
    "del t"
   ]
  },
  {
   "cell_type": "code",
   "execution_count": 59,
   "id": "21e8711a-637e-41ac-a17a-5fbc32f692dd",
   "metadata": {},
   "outputs": [
    {
     "name": "stdout",
     "output_type": "stream",
     "text": [
      "(0, 1, 2)\n"
     ]
    }
   ],
   "source": [
    "#code for converting a list and a string into a tuple\n",
    "a=[0,1,2]\n",
    "t=tuple(a)\n",
    "print(t)"
   ]
  },
  {
   "cell_type": "code",
   "execution_count": 69,
   "id": "157ab393-a908-47b1-893f-173dea5bbb02",
   "metadata": {},
   "outputs": [
    {
     "name": "stdout",
     "output_type": "stream",
     "text": [
      "('python', 'geek', 'sapera', 'Saap')\n"
     ]
    }
   ],
   "source": [
    "#packing\n",
    "t=('python','geek','sapera')\n",
    "y=list(t)\n",
    "y.append(\"Saap\")\n",
    "t=tuple(y)\n",
    "print(t)"
   ]
  },
  {
   "cell_type": "code",
   "execution_count": 71,
   "id": "5dec31e4-4870-45ac-8314-ed10046ac5c7",
   "metadata": {},
   "outputs": [
    {
     "name": "stdout",
     "output_type": "stream",
     "text": [
      "Mangoo\n",
      "Ghaas\n"
     ]
    }
   ],
   "source": [
    "#unpacking\n",
    "t2=('Ghaas','Mangoo')\n",
    "(green,yellow)=t2\n",
    "print(yellow)\n",
    "print(green)"
   ]
  },
  {
   "cell_type": "code",
   "execution_count": 73,
   "id": "0e6924aa-f6dc-4c26-9602-f5ce9d492109",
   "metadata": {},
   "outputs": [
    {
     "name": "stdout",
     "output_type": "stream",
     "text": [
      "apple\n",
      "banana\n",
      "['cherry', 'strawberry', 'raspberry']\n"
     ]
    }
   ],
   "source": [
    "t=(\"apple\",\"banana\",\"cherry\",\"strawberry\",\"raspberry\")\n",
    "(green, yellow, *red)=t\n",
    "print(green)\n",
    "print(yellow)\n",
    "print(red)"
   ]
  },
  {
   "cell_type": "code",
   "execution_count": 75,
   "id": "01089a19-69cc-4661-866c-ba96a0b8c083",
   "metadata": {},
   "outputs": [
    {
     "name": "stdout",
     "output_type": "stream",
     "text": [
      "apple\n",
      "['banana', 'cherry', 'strawberry']\n",
      "raspberry\n"
     ]
    }
   ],
   "source": [
    "t=(\"apple\",\"banana\",\"cherry\",\"strawberry\",\"raspberry\")\n",
    "(green, *yellow, red)=t\n",
    "print(green)\n",
    "print(yellow)\n",
    "print(red)"
   ]
  },
  {
   "cell_type": "code",
   "execution_count": 77,
   "id": "c06434c0-e1ae-488d-b0c4-417a215a7755",
   "metadata": {},
   "outputs": [
    {
     "name": "stdout",
     "output_type": "stream",
     "text": [
      "['apple', 'banana', 'cherry']\n",
      "strawberry\n",
      "raspberry\n"
     ]
    }
   ],
   "source": [
    "t=(\"apple\",\"banana\",\"cherry\",\"strawberry\",\"raspberry\")\n",
    "(*green, yellow, red)=t\n",
    "print(green)\n",
    "print(yellow)\n",
    "print(red)"
   ]
  },
  {
   "cell_type": "code",
   "execution_count": 1,
   "id": "ffb248cb-80ec-41dc-86ef-09fc9fe3ac52",
   "metadata": {},
   "outputs": [
    {
     "name": "stdout",
     "output_type": "stream",
     "text": [
      "{'banana', 'apple', 'cherry'}\n"
     ]
    }
   ],
   "source": [
    "set={\"apple\",\"banana\",\"cherry\"}\n",
    "print(set)"
   ]
  },
  {
   "cell_type": "code",
   "execution_count": 3,
   "id": "e4314079-9657-4112-b94f-435e9a98e762",
   "metadata": {},
   "outputs": [
    {
     "name": "stdout",
     "output_type": "stream",
     "text": [
      "{False, True, 'apple', 'cherry', 'banana'}\n"
     ]
    }
   ],
   "source": [
    "set={\"apple\",\"banana\",\"cherry\",False,True,0}\n",
    "print(set)"
   ]
  },
  {
   "cell_type": "code",
   "execution_count": 11,
   "id": "54e72275-1ee3-46b4-ba71-8308da2f6df0",
   "metadata": {},
   "outputs": [
    {
     "name": "stdout",
     "output_type": "stream",
     "text": [
      "{0, True, 'apple', 'cherry', 'banana'}\n"
     ]
    }
   ],
   "source": [
    "set={\"apple\",\"banana\",\"cherry\",True,1,0}\n",
    "print(set)"
   ]
  },
  {
   "cell_type": "code",
   "execution_count": 13,
   "id": "f15ca7f7-30dd-4f36-892c-405010e8fbc5",
   "metadata": {},
   "outputs": [
    {
     "name": "stdout",
     "output_type": "stream",
     "text": [
      "{0, 1, 'apple', 'cherry', 'banana'}\n"
     ]
    }
   ],
   "source": [
    "set={\"apple\",\"banana\",\"cherry\",1,True,1,0}\n",
    "print(set)"
   ]
  },
  {
   "cell_type": "code",
   "execution_count": 17,
   "id": "cf643ace-266f-4b4e-b062-249246c63361",
   "metadata": {},
   "outputs": [
    {
     "name": "stdout",
     "output_type": "stream",
     "text": [
      "{1, 2, 3, 4}\n"
     ]
    }
   ],
   "source": [
    "set={1,2,3,4}\n",
    "print(set)\n"
   ]
  },
  {
   "cell_type": "code",
   "execution_count": 58,
   "id": "e071d947-41f3-447f-83c5-6508f3987d93",
   "metadata": {},
   "outputs": [
    {
     "name": "stdout",
     "output_type": "stream",
     "text": [
      "For\n",
      "Geks\n",
      "Geeks\n"
     ]
    }
   ],
   "source": [
    "set1={\"Geeks\",\"For\",\"Geks\"}\n",
    "\n",
    "for x in set1:\n",
    "    print(x)"
   ]
  },
  {
   "cell_type": "code",
   "execution_count": 56,
   "id": "790d156a-096b-4efa-942f-1c543c9b1fcc",
   "metadata": {},
   "outputs": [
    {
     "name": "stdout",
     "output_type": "stream",
     "text": [
      "True\n"
     ]
    }
   ],
   "source": [
    "set1={\"Geeks\",\"For\",\"Geeks\"}\n",
    "\n",
    "print(\"For\" in set1)"
   ]
  },
  {
   "cell_type": "code",
   "execution_count": 60,
   "id": "60d5fd3d-618a-487d-99e0-e6ae012b0e3b",
   "metadata": {},
   "outputs": [
    {
     "name": "stdout",
     "output_type": "stream",
     "text": [
      "{'banana', 'apple', 'orange', 'cherry'}\n"
     ]
    }
   ],
   "source": [
    "set1={\"apple\",\"banana\",\"cherry\"}\n",
    "set1.add(\"orange\")\n",
    "print(set1)"
   ]
  },
  {
   "cell_type": "code",
   "execution_count": 64,
   "id": "6fbb9658-8f8a-453b-a35f-58b98b64a782",
   "metadata": {},
   "outputs": [
    {
     "name": "stdout",
     "output_type": "stream",
     "text": [
      "{'apple', 'cherry', 'pineapple', 'mango', 'papaya', 'banana'}\n"
     ]
    }
   ],
   "source": [
    "set1={\"apple\",\"banana\",\"cherry\"}\n",
    "set2={\"pineapple\",\"mango\",\"papaya\"}\n",
    "set1.update(set2)\n",
    "print(set1)"
   ]
  },
  {
   "cell_type": "code",
   "execution_count": 66,
   "id": "61ddbab6-fb7f-48ba-8fae-780ee094d1cf",
   "metadata": {},
   "outputs": [
    {
     "name": "stdout",
     "output_type": "stream",
     "text": [
      "{'pineapple', 'mango', 'papaya', 'apple', 'cherry', 'banana'}\n"
     ]
    }
   ],
   "source": [
    "set1={\"apple\",\"banana\",\"cherry\"}\n",
    "set2=[\"pineapple\",\"mango\",\"papaya\"]\n",
    "set1.update(set2)\n",
    "print(set1)"
   ]
  },
  {
   "cell_type": "code",
   "execution_count": 70,
   "id": "e8decefd-75d1-4156-906b-78095ff5429c",
   "metadata": {},
   "outputs": [
    {
     "name": "stdout",
     "output_type": "stream",
     "text": [
      "['pineapple', 'papaya']\n"
     ]
    }
   ],
   "source": [
    "set2=[\"pineapple\",\"mango\",\"papaya\"]\n",
    "set2.remove(\"mango\")\n",
    "print(set2)"
   ]
  },
  {
   "cell_type": "code",
   "execution_count": 94,
   "id": "66a8fd82-e136-406c-9030-9705e3f554cf",
   "metadata": {},
   "outputs": [
    {
     "name": "stdout",
     "output_type": "stream",
     "text": [
      "{'mango', 'papaya'}\n"
     ]
    }
   ],
   "source": [
    "set2={\"pineapple\",\"mango\",\"papaya\"}\n",
    "set2.pop()\n",
    "print(set2)"
   ]
  },
  {
   "cell_type": "code",
   "execution_count": 90,
   "id": "368db801-85d5-40ab-83a3-91adca9a0dc7",
   "metadata": {},
   "outputs": [
    {
     "name": "stdout",
     "output_type": "stream",
     "text": [
      "{'pineapple', 'papaya'}\n"
     ]
    }
   ],
   "source": [
    "set2={\"pineapple\",\"mango\",\"papaya\"}\n",
    "set2.discard(\"mango\")\n",
    "print(set2)"
   ]
  },
  {
   "cell_type": "code",
   "execution_count": 1,
   "id": "dfc970d3-b696-4bdf-907f-e376523bfd3b",
   "metadata": {},
   "outputs": [
    {
     "name": "stdout",
     "output_type": "stream",
     "text": [
      "18\n",
      "24\n",
      "32\n"
     ]
    }
   ],
   "source": [
    "a=[5,12,17,18,24,32]\n",
    "def myf(x):\n",
    "    if x < 18:\n",
    "        return False\n",
    "    else:\n",
    "        return True\n",
    "\n",
    "adults=filter(myf,a)\n",
    "for x in adults:\n",
    "    print(x)"
   ]
  },
  {
   "cell_type": "code",
   "execution_count": 9,
   "id": "9cfe2879-78c6-4dca-86bf-5d8c4c628411",
   "metadata": {},
   "outputs": [
    {
     "name": "stdout",
     "output_type": "stream",
     "text": [
      "4\n"
     ]
    }
   ],
   "source": [
    "num=set([1,1,2,3,3,3,4,4])\n",
    "print(len(num))"
   ]
  },
  {
   "cell_type": "code",
   "execution_count": 15,
   "id": "2b2d720a-c592-40df-b5d4-9a22ee041985",
   "metadata": {},
   "outputs": [
    {
     "name": "stdout",
     "output_type": "stream",
     "text": [
      "5 5 6 7 7 7 "
     ]
    }
   ],
   "source": [
    "a=[5,5,6,7,7,7]\n",
    "b=set(a)\n",
    "def test(lst):\n",
    "    if lst in b:\n",
    "        return 1\n",
    "    else:\n",
    "        return 0\n",
    "for i in filter(test,a):\n",
    "    print(i,end=\" \")"
   ]
  },
  {
   "cell_type": "code",
   "execution_count": 17,
   "id": "d24d7a3d-57c0-469a-8cd6-f689709a1ef5",
   "metadata": {},
   "outputs": [
    {
     "name": "stdout",
     "output_type": "stream",
     "text": [
      "set()\n"
     ]
    }
   ],
   "source": [
    "a=set()\n",
    "print(a)"
   ]
  },
  {
   "cell_type": "code",
   "execution_count": 31,
   "id": "42a9ab65-8df9-4657-afa3-c1609a54b98f",
   "metadata": {},
   "outputs": [
    {
     "ename": "AttributeError",
     "evalue": "'tuple' object has no attribute 'remove'",
     "output_type": "error",
     "traceback": [
      "\u001b[1;31m---------------------------------------------------------------------------\u001b[0m",
      "\u001b[1;31mAttributeError\u001b[0m                            Traceback (most recent call last)",
      "Cell \u001b[1;32mIn[31], line 2\u001b[0m\n\u001b[0;32m      1\u001b[0m a\u001b[38;5;241m=\u001b[39m(\u001b[38;5;241m5\u001b[39m,\u001b[38;5;241m6\u001b[39m,\u001b[38;5;241m7\u001b[39m,\u001b[38;5;241m8\u001b[39m)\n\u001b[1;32m----> 2\u001b[0m a\u001b[38;5;241m.\u001b[39mremove(\u001b[38;5;241m5\u001b[39m)\n\u001b[0;32m      3\u001b[0m \u001b[38;5;28mprint\u001b[39m(a)\n",
      "\u001b[1;31mAttributeError\u001b[0m: 'tuple' object has no attribute 'remove'"
     ]
    }
   ],
   "source": [
    "a=(5,6,7,8)\n",
    "a.remove(5)\n",
    "print(a)"
   ]
  },
  {
   "cell_type": "code",
   "execution_count": 4,
   "id": "2691e913-f350-44df-9422-82173c1a4150",
   "metadata": {},
   "outputs": [
    {
     "ename": "AttributeError",
     "evalue": "'list' object has no attribute 'add'",
     "output_type": "error",
     "traceback": [
      "\u001b[1;31m---------------------------------------------------------------------------\u001b[0m",
      "\u001b[1;31mAttributeError\u001b[0m                            Traceback (most recent call last)",
      "Cell \u001b[1;32mIn[4], line 2\u001b[0m\n\u001b[0;32m      1\u001b[0m a\u001b[38;5;241m=\u001b[39m[\u001b[38;5;241m5\u001b[39m,\u001b[38;5;241m6\u001b[39m,\u001b[38;5;241m7\u001b[39m]\n\u001b[1;32m----> 2\u001b[0m a\u001b[38;5;241m.\u001b[39madd(\u001b[38;5;241m5\u001b[39m)\n\u001b[0;32m      3\u001b[0m \u001b[38;5;28mprint\u001b[39m(a)\n",
      "\u001b[1;31mAttributeError\u001b[0m: 'list' object has no attribute 'add'"
     ]
    }
   ],
   "source": [
    "a=[5,6,7]\n",
    "a.add(5)\n",
    "print(a)"
   ]
  },
  {
   "cell_type": "code",
   "execution_count": 33,
   "id": "9aab4c5b-c064-43ad-b63f-8c6b756a9b2a",
   "metadata": {},
   "outputs": [
    {
     "data": {
      "text/plain": [
       "{5, 6, 10, 11}"
      ]
     },
     "execution_count": 33,
     "metadata": {},
     "output_type": "execute_result"
    }
   ],
   "source": [
    "a={5,6,7,8}\n",
    "b={7,8,10,11}\n",
    "a^b"
   ]
  },
  {
   "cell_type": "code",
   "execution_count": 35,
   "id": "ed3dcac5-83d0-4de4-b6fc-055b57893207",
   "metadata": {},
   "outputs": [
    {
     "data": {
      "text/plain": [
       "{3, 4, 5, 6, 7}"
      ]
     },
     "execution_count": 35,
     "metadata": {},
     "output_type": "execute_result"
    }
   ],
   "source": [
    "a={3,4,5}\n",
    "b={5,6,7}\n",
    "a|b"
   ]
  },
  {
   "cell_type": "code",
   "execution_count": 14,
   "id": "9c665e0e-8cc0-4b31-9bed-c6ae27fc1f7a",
   "metadata": {},
   "outputs": [
    {
     "name": "stdout",
     "output_type": "stream",
     "text": [
      "{'brand': 'Ford', 'model': 'Mustang', 'year': 1964, 'color': 'red'}\n"
     ]
    }
   ],
   "source": [
    "car ={\n",
    "    \"brand\": \"Ford\",\n",
    "    \"model\": \"Mustang\",\n",
    "    \"year\": 1964\n",
    "}\n",
    "car[\"color\"]=\"red\"\n",
    "print(car)"
   ]
  },
  {
   "cell_type": "code",
   "execution_count": 18,
   "id": "861946e3-c8eb-4a2d-bf53-c381285243e9",
   "metadata": {},
   "outputs": [
    {
     "name": "stdout",
     "output_type": "stream",
     "text": [
      "{'brand': 'Ford', 'model': 'Mustang', 'year': 1964, 'color': 'orange'}\n"
     ]
    }
   ],
   "source": [
    "car ={\n",
    "    \"brand\": \"Ford\",\n",
    "    \"model\": \"Mustang\",\n",
    "    \"year\": 1964\n",
    "}\n",
    "car.update({\"color\":\"orange\"})\n",
    "print(car)"
   ]
  },
  {
   "cell_type": "code",
   "execution_count": 20,
   "id": "d108a544-cb7f-4c85-b9fb-3e63125a1b96",
   "metadata": {},
   "outputs": [
    {
     "name": "stdout",
     "output_type": "stream",
     "text": [
      "{'brand': 'Ford', 'model': 'Mustang'}\n"
     ]
    }
   ],
   "source": [
    "car ={\n",
    "    \"brand\": \"Ford\",\n",
    "    \"model\": \"Mustang\",\n",
    "    \"year\": 1964\n",
    "}\n",
    "car.popitem()\n",
    "print(car)"
   ]
  },
  {
   "cell_type": "code",
   "execution_count": 22,
   "id": "4dfc3726-dd53-4b38-a776-ba918cf9a2c4",
   "metadata": {},
   "outputs": [
    {
     "name": "stdout",
     "output_type": "stream",
     "text": [
      "{'brand': 'Ford', 'year': 1964}\n"
     ]
    }
   ],
   "source": [
    "car ={\n",
    "    \"brand\": \"Ford\",\n",
    "    \"model\": \"Mustang\",\n",
    "    \"year\": 1964\n",
    "}\n",
    "del car[\"model\"]\n",
    "print(car)"
   ]
  },
  {
   "cell_type": "code",
   "execution_count": 24,
   "id": "74304d42-38c3-4073-92b1-561deb404305",
   "metadata": {},
   "outputs": [
    {
     "name": "stdout",
     "output_type": "stream",
     "text": [
      "brand\n",
      "model\n",
      "year\n"
     ]
    }
   ],
   "source": [
    "car ={\n",
    "    \"brand\": \"Ford\",\n",
    "    \"model\": \"Mustang\",\n",
    "    \"year\": 1964\n",
    "}\n",
    "for x in car:\n",
    "    print(x)"
   ]
  },
  {
   "cell_type": "code",
   "execution_count": 26,
   "id": "d2e413fc-4fa9-40fc-a208-78c99ef2bd40",
   "metadata": {},
   "outputs": [
    {
     "name": "stdout",
     "output_type": "stream",
     "text": [
      "Ford\n",
      "Mustang\n",
      "1964\n"
     ]
    }
   ],
   "source": [
    "car ={\n",
    "    \"brand\": \"Ford\",\n",
    "    \"model\": \"Mustang\",\n",
    "    \"year\": 1964\n",
    "}\n",
    "for x in car.values():\n",
    "    print(x)"
   ]
  },
  {
   "cell_type": "code",
   "execution_count": 32,
   "id": "c946657f-7e34-4730-b295-9e27b94d5611",
   "metadata": {},
   "outputs": [
    {
     "name": "stdout",
     "output_type": "stream",
     "text": [
      "brand Ford\n",
      "model Mustang\n",
      "year 1964\n"
     ]
    }
   ],
   "source": [
    "car ={\n",
    "    \"brand\": \"Ford\",\n",
    "    \"model\": \"Mustang\",\n",
    "    \"year\": 1964\n",
    "}\n",
    "for x,y in car.items():\n",
    "    print(x,y)"
   ]
  },
  {
   "cell_type": "code",
   "execution_count": 34,
   "id": "cb8a101b-cb95-4548-b545-b0aa834a9fbc",
   "metadata": {},
   "outputs": [],
   "source": [
    "car ={\n",
    "    \"brand\": \"Ford\",\n",
    "    \"model\": \"Mustang\",\n",
    "    \"year\": 1964\n",
    "}\n",
    "a2={\n",
    "    \"1\":\"4\",\n",
    "    \"2\":\"5\",\n",
    "    \"3\":\"6\"\n",
    "}"
   ]
  },
  {
   "cell_type": "code",
   "execution_count": 36,
   "id": "6d0b7d38-73cd-4d98-954e-430ef2afd3b0",
   "metadata": {},
   "outputs": [
    {
     "name": "stdout",
     "output_type": "stream",
     "text": [
      "{'brand': 'Ford', 'model': 'Mustang', 'year': 1964}\n"
     ]
    }
   ],
   "source": [
    "car ={\n",
    "    \"brand\": \"Ford\",\n",
    "    \"model\": \"Mustang\",\n",
    "    \"year\": 1964\n",
    "}\n",
    "mydict=dict(car)\n",
    "print(mydict)"
   ]
  },
  {
   "cell_type": "code",
   "execution_count": 38,
   "id": "ff30e2e4-743d-4910-8809-c2bfcdbe9aaf",
   "metadata": {},
   "outputs": [
    {
     "name": "stdout",
     "output_type": "stream",
     "text": [
      "{'x': 1, 'y': 3, 'z': 4}\n"
     ]
    }
   ],
   "source": [
    "d1={'x': 1,'y': 2}\n",
    "d2={'y': 3,'z': 4}\n",
    "d3=d1 | d2\n",
    "print(d3)"
   ]
  },
  {
   "cell_type": "code",
   "execution_count": 40,
   "id": "2b544530-ef9e-443d-9b25-4d40391139b3",
   "metadata": {},
   "outputs": [
    {
     "name": "stdout",
     "output_type": "stream",
     "text": [
      "{'x': 1, 'y': 3, 'z': 4}\n"
     ]
    }
   ],
   "source": [
    "d1={'x': 1,'y': 2}\n",
    "d2={'y': 3,'z': 4}\n",
    "d3={**d1,**d2}\n",
    "print(d3)"
   ]
  },
  {
   "cell_type": "code",
   "execution_count": 46,
   "id": "d19080fe-3d27-4cce-894c-402627a23ad8",
   "metadata": {},
   "outputs": [
    {
     "name": "stdout",
     "output_type": "stream",
     "text": [
      "{'x': 1, 'y': 3, 'z': 4}\n"
     ]
    }
   ],
   "source": [
    "d1={'x': 1,'y': 2}\n",
    "d2={'y': 3,'z': 4}\n",
    "d3=d1.copy()\n",
    "for key,value in d2.items():\n",
    "    d3[key]=value\n",
    "print(d3)"
   ]
  },
  {
   "cell_type": "code",
   "execution_count": 50,
   "id": "568de717-b983-4805-8c43-b8029929c595",
   "metadata": {},
   "outputs": [
    {
     "name": "stdout",
     "output_type": "stream",
     "text": [
      "{'child1': {'name': 'Mustang', 'year': 2004}, 'child2': {'name': 'Ford', 'year': 2007}, 'child3': {'name': 'Mickel jackson', 'year': 2011}}\n"
     ]
    }
   ],
   "source": [
    "family ={\n",
    "    \"child1\": {\n",
    "    \"name\": \"Mustang\",\n",
    "    \"year\": 2004\n",
    "},\n",
    "    \"child2\": {\n",
    "    \"name\": \"Ford\",\n",
    "    \"year\": 2007\n",
    "},\n",
    "    \"child3\": {\n",
    "    \"name\": \"Mickel jackson\",\n",
    "    \"year\": 2011\n",
    "}\n",
    "}\n",
    "print(family)"
   ]
  },
  {
   "cell_type": "code",
   "execution_count": 52,
   "id": "53b90f7d-f993-4d9e-bc90-e7774dbee13a",
   "metadata": {},
   "outputs": [
    {
     "name": "stdout",
     "output_type": "stream",
     "text": [
      "Ford\n"
     ]
    }
   ],
   "source": [
    "family ={\n",
    "    \"child1\": {\n",
    "    \"name\": \"Mustang\",\n",
    "    \"year\": 2004\n",
    "},\n",
    "    \"child2\": {\n",
    "    \"name\": \"Ford\",\n",
    "    \"year\": 2007\n",
    "},\n",
    "    \"child3\": {\n",
    "    \"name\": \"Mickel jackson\",\n",
    "    \"year\": 2011\n",
    "}\n",
    "}\n",
    "print(family[\"child2\"][\"name\"])"
   ]
  },
  {
   "cell_type": "code",
   "execution_count": null,
   "id": "35e3ebed-7113-46c2-8522-52ed3ed3c3ba",
   "metadata": {},
   "outputs": [],
   "source": []
  }
 ],
 "metadata": {
  "kernelspec": {
   "display_name": "Python [conda env:base] *",
   "language": "python",
   "name": "conda-base-py"
  },
  "language_info": {
   "codemirror_mode": {
    "name": "ipython",
    "version": 3
   },
   "file_extension": ".py",
   "mimetype": "text/x-python",
   "name": "python",
   "nbconvert_exporter": "python",
   "pygments_lexer": "ipython3",
   "version": "3.12.7"
  }
 },
 "nbformat": 4,
 "nbformat_minor": 5
}
