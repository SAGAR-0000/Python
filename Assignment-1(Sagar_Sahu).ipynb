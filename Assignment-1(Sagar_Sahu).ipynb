{
 "cells": [
  {
   "cell_type": "code",
   "execution_count": 8,
   "id": "fe3a6f87-71f0-45e0-9f65-5a05acf46da2",
   "metadata": {},
   "outputs": [
    {
     "name": "stdin",
     "output_type": "stream",
     "text": [
      "Enter number of units consumed:  500\n"
     ]
    },
    {
     "name": "stdout",
     "output_type": "stream",
     "text": [
      "Total bill: ₹1600.00\n"
     ]
    }
   ],
   "source": [
    "#Q1)Electricity Bill\n",
    "x=int(input(\"Enter number of units consumed: \"))\n",
    "if x<=100:\n",
    "    bill=units*1.5\n",
    "elif x<=200:\n",
    "    bill= 100*1.5+(x-100)*2.5\n",
    "else:\n",
    "    bill=100*1.5+100*2.5+(x-200)*4\n",
    "print(f\"Total bill: ₹{bill:.2f}\")"
   ]
  },
  {
   "cell_type": "code",
   "execution_count": 14,
   "id": "bcf0579d-dce6-4183-89f5-799e51be50cf",
   "metadata": {},
   "outputs": [
    {
     "name": "stdin",
     "output_type": "stream",
     "text": [
      "Enter a single character:  @\n"
     ]
    },
    {
     "name": "stdout",
     "output_type": "stream",
     "text": [
      "It is a special character.\n"
     ]
    }
   ],
   "source": [
    "#Q2)character type checking\n",
    "ch=input(\"Enter a single character: \")\n",
    "if ch.isdigit():\n",
    "    print(\"It is a digit.\")\n",
    "elif ch.isupper():\n",
    "    print(\"It is an uppercase letter.\")\n",
    "elif ch.islower():\n",
    "    print(\"It is a lowercase letter.\")\n",
    "else:\n",
    "    print(\"It is a special character.\")"
   ]
  },
  {
   "cell_type": "code",
   "execution_count": 18,
   "id": "a1c4720a-54d4-48fc-8fec-9fc10d8136d7",
   "metadata": {},
   "outputs": [
    {
     "name": "stdin",
     "output_type": "stream",
     "text": [
      "Enter your password:  password\n"
     ]
    },
    {
     "name": "stdout",
     "output_type": "stream",
     "text": [
      "Invalid Password(Missing uppercase letter)\n",
      "Invalid Password(Missing digit)\n",
      "Invalid Password(Missing special character [$#@])\n"
     ]
    }
   ],
   "source": [
    "#Q3)Password\n",
    "import re\n",
    "\n",
    "password = input(\"Enter your password: \")\n",
    "has_error = False\n",
    "\n",
    "if len(password) < 6 or len(password) > 16:\n",
    "    print(\"Invalid Password(Length should be between 6 and 16)\")\n",
    "    has_error = True\n",
    "if not re.search(r\"[a-z]\", password):\n",
    "    print(\"Invalid Password(Missing lowercase letter)\")\n",
    "    has_error = True\n",
    "if not re.search(r\"[A-Z]\", password):\n",
    "    print(\"Invalid Password(Missing uppercase letter)\")\n",
    "    has_error = True\n",
    "if not re.search(r\"[0-9]\", password):\n",
    "    print(\"Invalid Password(Missing digit)\")\n",
    "    has_error = True\n",
    "if not re.search(r\"[$#@]\", password):\n",
    "    print(\"Invalid Password(Missing special character [$#@])\")\n",
    "    has_error = True\n",
    "if not has_error:\n",
    "    print(\"Valid Password\")"
   ]
  },
  {
   "cell_type": "code",
   "execution_count": null,
   "id": "ef93da92-6881-42f4-8a89-7b25aebda16b",
   "metadata": {},
   "outputs": [],
   "source": []
  }
 ],
 "metadata": {
  "kernelspec": {
   "display_name": "Python [conda env:base] *",
   "language": "python",
   "name": "conda-base-py"
  },
  "language_info": {
   "codemirror_mode": {
    "name": "ipython",
    "version": 3
   },
   "file_extension": ".py",
   "mimetype": "text/x-python",
   "name": "python",
   "nbconvert_exporter": "python",
   "pygments_lexer": "ipython3",
   "version": "3.12.7"
  }
 },
 "nbformat": 4,
 "nbformat_minor": 5
}
