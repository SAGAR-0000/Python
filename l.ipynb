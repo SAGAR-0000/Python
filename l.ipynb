{
 "cells": [
  {
   "cell_type": "code",
   "execution_count": 1,
   "id": "e3856669",
   "metadata": {},
   "outputs": [],
   "source": [
    "import os\n",
    "import plotly.graph_objs as go\n",
    "from plotly.subplots import make_subplots\n",
    "\n",
    "data_dir = \"C:\\\\Users\\\\Asus\\\\Downloads\\\\project\\\\final\"\n",
    "subject_ids = sorted({f.split('_')[0] for f in os.listdir(data_dir) if f.endswith('.txt')}, key=int)\n",
    "\n",
    "for subject_id in subject_ids:\n",
    "    fig = make_subplots(rows=1, cols=3, subplot_titles=[f\"Variation {i}\" for i in range(1, 4)])\n",
    "\n",
    "    for i in range(1, 4):\n",
    "        file_path = os.path.join(data_dir, f\"{subject_id}_{i}.txt\")\n",
    "        if not os.path.exists(file_path):\n",
    "            continue\n",
    "\n",
    "        raw = np.loadtxt(file_path)\n",
    "        filtered = preprocess_ppg_file(file_path)\n",
    "\n",
    "        fig.add_trace(go.Scatter(y=raw, mode='lines', name='Raw',\n",
    "                                 line=dict(color='lightblue'),\n",
    "                                 showlegend=(i == 1)), row=1, col=i)\n",
    "        fig.add_trace(go.Scatter(y=filtered, mode='lines', name='Filtered',\n",
    "                                 line=dict(color='orange'),\n",
    "                                 showlegend=(i == 1)), row=1, col=i)\n",
    "\n",
    "    fig.update_layout(\n",
    "        title_text=f\"Subject {subject_id} - PPG Signal (Raw vs Filtered)\",\n",
    "        height=400,\n",
    "        width=1200,\n",
    "        template='plotly_white'\n",
    "    )\n",
    "    fig.update_xaxes(title_text=\"Sample\")\n",
    "    fig.update_yaxes(title_text=\"Amplitude\")\n",
    "    fig.show()\n",
    "\n",
    "    # "
   ]
  },
  {
   "cell_type": "code",
   "execution_count": null,
   "id": "f494ed4b-3ff9-4e87-8a96-c2df8528c9a9",
   "metadata": {},
   "outputs": [],
   "source": []
  }
 ],
 "metadata": {
  "kernelspec": {
   "display_name": "Python [conda env:base] *",
   "language": "python",
   "name": "conda-base-py"
  },
  "language_info": {
   "codemirror_mode": {
    "name": "ipython",
    "version": 3
   },
   "file_extension": ".py",
   "mimetype": "text/x-python",
   "name": "python",
   "nbconvert_exporter": "python",
   "pygments_lexer": "ipython3",
   "version": "3.12.7"
  }
 },
 "nbformat": 4,
 "nbformat_minor": 5
}
