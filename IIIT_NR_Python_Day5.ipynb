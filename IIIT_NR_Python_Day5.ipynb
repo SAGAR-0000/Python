{
 "cells": [
  {
   "cell_type": "code",
   "execution_count": 2,
   "id": "9c8eebdb-1a41-4054-ac9b-7937a8b03dd5",
   "metadata": {},
   "outputs": [],
   "source": [
    "#conditional"
   ]
  },
  {
   "cell_type": "code",
   "execution_count": 8,
   "id": "ad12a3c1-554f-4753-9567-61ac12561971",
   "metadata": {},
   "outputs": [
    {
     "name": "stdin",
     "output_type": "stream",
     "text": [
      "Enter Name:  sagar\n"
     ]
    },
    {
     "name": "stdout",
     "output_type": "stream",
     "text": [
      "Hello Guest Good Morning.\n",
      "How are you!!!\n"
     ]
    }
   ],
   "source": [
    "name=input(\"Enter Name: \")\n",
    "if name==\"durga\":\n",
    "    print(\"Hello durga Good Morning.\")\n",
    "else:\n",
    "    print(\"Hello Guest Good Morning.\")\n",
    "print(\"How Are You!!!\")"
   ]
  },
  {
   "cell_type": "code",
   "execution_count": 24,
   "id": "b1ccf4b8-0605-4cbc-966b-6d330eecbde8",
   "metadata": {},
   "outputs": [
    {
     "name": "stdin",
     "output_type": "stream",
     "text": [
      "Enter Your Favourite Brand:  FO\n"
     ]
    },
    {
     "name": "stdout",
     "output_type": "stream",
     "text": [
      "Buy One Get Free One\n"
     ]
    }
   ],
   "source": [
    "brand=input(\"Enter Your Favourite Brand: \")\n",
    "if brand==\"RC\":\n",
    "    print(\"It is Children Brand\")\n",
    "elif brand==\"KF\":\n",
    "    print(\"It is not that much kick\")\n",
    "elif brand==\"FO\":\n",
    "    print(\"Buy One Get Free One\")\n",
    "else:\n",
    "    print(\"Other Brands Are Not Recommended\")"
   ]
  },
  {
   "cell_type": "code",
   "execution_count": 2,
   "id": "bd29ac42-f3c4-4286-991d-929459db692d",
   "metadata": {},
   "outputs": [],
   "source": [
    "#Assignment\n",
    "#Q1) Write a program to find greatest num among 2 num.\n",
    "#Q2) Write a program to find greatest among 3 num.\n",
    "#Q3) "
   ]
  },
  {
   "cell_type": "code",
   "execution_count": 4,
   "id": "178e24f8-274f-4de3-9b50-51c6e2a4185a",
   "metadata": {},
   "outputs": [
    {
     "name": "stdin",
     "output_type": "stream",
     "text": [
      "Enter a:  5\n",
      "Enter b:  6\n"
     ]
    },
    {
     "name": "stdout",
     "output_type": "stream",
     "text": [
      "b is greater than a.\n"
     ]
    }
   ],
   "source": [
    "#Q1\n",
    "a=int(input(\"Enter a: \"))\n",
    "b=int(input(\"Enter b: \"))\n",
    "if a>b:\n",
    "    print(\"a is greater than b.\")\n",
    "else:\n",
    "    print(\"b is greater than a.\")"
   ]
  },
  {
   "cell_type": "code",
   "execution_count": 10,
   "id": "cdf1d8c7-e5db-4a33-80f3-0a535c9874b0",
   "metadata": {},
   "outputs": [
    {
     "name": "stdin",
     "output_type": "stream",
     "text": [
      "Enter a:  7\n",
      "Enter b:  6\n",
      "Enter c:  5\n"
     ]
    },
    {
     "name": "stdout",
     "output_type": "stream",
     "text": [
      "a is greatest.\n"
     ]
    }
   ],
   "source": [
    "#Q2\n",
    "a=int(input(\"Enter a: \"))\n",
    "b=int(input(\"Enter b: \"))\n",
    "c=int(input(\"Enter c: \"))\n",
    "if a>b:\n",
    "    if a>c:\n",
    "        print(\"a is greatest.\")\n",
    "    else:\n",
    "        print(\"c is greatest.\")\n",
    "elif b>c:\n",
    "    print(\"b is greatest.\")\n",
    "else:\n",
    "    print(\"c is greatest.\")"
   ]
  },
  {
   "cell_type": "code",
   "execution_count": 12,
   "id": "28b890d6-d044-44be-bff0-04a0e70beffa",
   "metadata": {},
   "outputs": [
    {
     "name": "stdin",
     "output_type": "stream",
     "text": [
      "Enter a:  5\n",
      "Enter b:  6\n"
     ]
    },
    {
     "name": "stdout",
     "output_type": "stream",
     "text": [
      "a is smaller than b.\n"
     ]
    }
   ],
   "source": [
    "#Q3) smallest among 2 \n",
    "a=int(input(\"Enter a: \"))\n",
    "b=int(input(\"Enter b: \"))\n",
    "if(a<b):\n",
    "    print(\"a is smaller than b.\")\n",
    "else:\n",
    "    print(\"b is smaller than a.\")"
   ]
  },
  {
   "cell_type": "code",
   "execution_count": 18,
   "id": "8005105b-9306-40d8-900a-6120b8e79f47",
   "metadata": {},
   "outputs": [
    {
     "name": "stdin",
     "output_type": "stream",
     "text": [
      "Enter a:  6\n",
      "Enter b:  5\n",
      "Enter c:  4\n"
     ]
    },
    {
     "name": "stdout",
     "output_type": "stream",
     "text": [
      "c is smallest.\n"
     ]
    }
   ],
   "source": [
    "#Q4) smallest among 3\n",
    "a=int(input(\"Enter a: \"))\n",
    "b=int(input(\"Enter b: \"))\n",
    "c=int(input(\"Enter c: \"))\n",
    "if(a<b and a<c):\n",
    "    print(\"a is smallest.\")\n",
    "elif(b<a and b<c):\n",
    "    print(\"b is smallest.\")\n",
    "else:\n",
    "    print(\"c is smallest.\")"
   ]
  },
  {
   "cell_type": "code",
   "execution_count": 20,
   "id": "4f7f9dc4-7b20-4d10-8df4-bc5058b3ed58",
   "metadata": {},
   "outputs": [
    {
     "name": "stdin",
     "output_type": "stream",
     "text": [
      "Enter a Number:  6\n"
     ]
    },
    {
     "name": "stdout",
     "output_type": "stream",
     "text": [
      "Input Number is even.\n"
     ]
    }
   ],
   "source": [
    "#Q5)even or odd\n",
    "a=int(input(\"Enter a Number: \"))\n",
    "if(a%2==0):\n",
    "    print(\"Input Number is even.\")\n",
    "else:\n",
    "    print(\"Input Number is odd.\")"
   ]
  },
  {
   "cell_type": "code",
   "execution_count": 24,
   "id": "4b359353-c606-4a51-af80-ff071813956a",
   "metadata": {},
   "outputs": [
    {
     "name": "stdin",
     "output_type": "stream",
     "text": [
      "Enter a Number:  101\n"
     ]
    },
    {
     "name": "stdout",
     "output_type": "stream",
     "text": [
      "Number is not between 1 to 100.\n"
     ]
    }
   ],
   "source": [
    "#Q6)if number is between 1 to 100\n",
    "a=int(input(\"Enter a Number: \"))\n",
    "if(a>=1 and a<=100):\n",
    "    print(\"Number is between 1 to 100.\")\n",
    "else:\n",
    "    print(\"Number is not between 1 to 100.\")"
   ]
  },
  {
   "cell_type": "code",
   "execution_count": 46,
   "id": "40f3025a-81c7-48ff-aa22-70ba6aef9ea4",
   "metadata": {},
   "outputs": [
    {
     "name": "stdin",
     "output_type": "stream",
     "text": [
      "Enter a Number between 1 to 9:  9\n"
     ]
    },
    {
     "name": "stdout",
     "output_type": "stream",
     "text": [
      "Nine.\n"
     ]
    }
   ],
   "source": [
    "#Q7)single digit number input and print its value in english word\n",
    "a=int(input(\"Enter a Number between 1 to 9: \"))\n",
    "if a==1:\n",
    "    print(\"One.\")\n",
    "elif a==2:\n",
    "    print(\"Two.\")\n",
    "elif a==3:\n",
    "    print(\"Three.\")\n",
    "elif a==4:\n",
    "    print(\"Four.\")\n",
    "elif a==5:\n",
    "    print(\"Five.\")\n",
    "elif a==6:\n",
    "    print(\"Six.\")\n",
    "elif a==7:\n",
    "    print(\"Seven.\")\n",
    "elif a==8:\n",
    "    print(\"Eight.\")\n",
    "elif a==9:\n",
    "    print(\"Nine.\")\n",
    "else:\n",
    "    print(\"Number is Invalid.\")"
   ]
  },
  {
   "cell_type": "code",
   "execution_count": 51,
   "id": "b2354ece-4a82-46ba-8b3c-e224101ca5b9",
   "metadata": {},
   "outputs": [
    {
     "name": "stdout",
     "output_type": "stream",
     "text": [
      "0\n",
      "1\n",
      "2\n"
     ]
    }
   ],
   "source": [
    "for i in range(3):\n",
    "    print(i)"
   ]
  },
  {
   "cell_type": "code",
   "execution_count": 53,
   "id": "7e82ef75-6b07-48f1-adff-7a83909ef15d",
   "metadata": {},
   "outputs": [
    {
     "data": {
      "text/plain": [
       "True"
      ]
     },
     "execution_count": 53,
     "metadata": {},
     "output_type": "execute_result"
    }
   ],
   "source": [
    "bool(\"False\")"
   ]
  },
  {
   "cell_type": "code",
   "execution_count": 55,
   "id": "b987c144-956e-4f07-8324-1df92e8c2937",
   "metadata": {},
   "outputs": [
    {
     "data": {
      "text/plain": [
       "False"
      ]
     },
     "execution_count": 55,
     "metadata": {},
     "output_type": "execute_result"
    }
   ],
   "source": [
    "bool()"
   ]
  },
  {
   "cell_type": "code",
   "execution_count": 57,
   "id": "27e5e629-ce84-4012-bb5f-d1014dd47f1d",
   "metadata": {},
   "outputs": [
    {
     "data": {
      "text/plain": [
       "True"
      ]
     },
     "execution_count": 57,
     "metadata": {},
     "output_type": "execute_result"
    }
   ],
   "source": [
    "bool(5)"
   ]
  },
  {
   "cell_type": "code",
   "execution_count": 59,
   "id": "48704b88-c449-4caf-98b4-ca24a9ed1c48",
   "metadata": {},
   "outputs": [
    {
     "data": {
      "text/plain": [
       "['1', '2', '3']"
      ]
     },
     "execution_count": 59,
     "metadata": {},
     "output_type": "execute_result"
    }
   ],
   "source": [
    "list(\"123\")"
   ]
  },
  {
   "cell_type": "code",
   "execution_count": 61,
   "id": "6828e28d-9166-48f5-aa4e-fdab00b35f77",
   "metadata": {},
   "outputs": [
    {
     "name": "stdout",
     "output_type": "stream",
     "text": [
      "False\n"
     ]
    }
   ],
   "source": [
    "x=[1,2,3]\n",
    "print(x is x[:])"
   ]
  },
  {
   "cell_type": "code",
   "execution_count": 67,
   "id": "f015d4f1-b573-4483-93e9-d35477ced81e",
   "metadata": {},
   "outputs": [
    {
     "name": "stdout",
     "output_type": "stream",
     "text": [
      "50\n"
     ]
    }
   ],
   "source": [
    "a=10\n",
    "b=50\n",
    "print(a and b)"
   ]
  },
  {
   "cell_type": "code",
   "execution_count": 81,
   "id": "453b54c8-f1fa-4d29-9164-25266cf21994",
   "metadata": {},
   "outputs": [
    {
     "name": "stdout",
     "output_type": "stream",
     "text": [
      "10\n"
     ]
    }
   ],
   "source": [
    "a=10\n",
    "b=50\n",
    "print(a or b)"
   ]
  },
  {
   "cell_type": "code",
   "execution_count": 89,
   "id": "9cb33f91-ac69-4fcc-827a-7150f78ce636",
   "metadata": {},
   "outputs": [
    {
     "name": "stdout",
     "output_type": "stream",
     "text": [
      "1,4,"
     ]
    }
   ],
   "source": [
    "for i in range(1,5,3):\n",
    "    print(i,end=\",\")"
   ]
  },
  {
   "cell_type": "code",
   "execution_count": 91,
   "id": "9a059323-a481-4e52-9510-6ce0897e0d01",
   "metadata": {},
   "outputs": [
    {
     "data": {
      "text/plain": [
       "3"
      ]
     },
     "execution_count": 91,
     "metadata": {},
     "output_type": "execute_result"
    }
   ],
   "source": [
    "10//3"
   ]
  },
  {
   "cell_type": "code",
   "execution_count": 93,
   "id": "1b7f1072-73b9-4f46-8216-08f7f153e56d",
   "metadata": {},
   "outputs": [
    {
     "data": {
      "text/plain": [
       "3.3333333333333335"
      ]
     },
     "execution_count": 93,
     "metadata": {},
     "output_type": "execute_result"
    }
   ],
   "source": [
    "10/3"
   ]
  },
  {
   "cell_type": "code",
   "execution_count": 95,
   "id": "f07881c1-5262-4191-86aa-96e556a7f524",
   "metadata": {},
   "outputs": [
    {
     "name": "stdout",
     "output_type": "stream",
     "text": [
      "No\n"
     ]
    }
   ],
   "source": [
    "x=None\n",
    "if x:\n",
    "    print(\"Yes\")\n",
    "else:\n",
    "    print(\"No\")"
   ]
  },
  {
   "cell_type": "code",
   "execution_count": 97,
   "id": "42e2d382-a12f-4a20-a8e0-5bdd26147d6d",
   "metadata": {},
   "outputs": [
    {
     "name": "stdout",
     "output_type": "stream",
     "text": [
      "9\n",
      "8\n",
      "6\n",
      "5\n"
     ]
    }
   ],
   "source": [
    "x=10\n",
    "while x>5:\n",
    "    x-=1\n",
    "    if x==7:\n",
    "        continue\n",
    "    print(x)"
   ]
  },
  {
   "cell_type": "code",
   "execution_count": 99,
   "id": "9807c26c-8cb3-4a4c-a0b4-32c5005bf9bb",
   "metadata": {},
   "outputs": [
    {
     "name": "stdout",
     "output_type": "stream",
     "text": [
      "12\n"
     ]
    }
   ],
   "source": [
    "a=[\"Learn\",\"Quiz\",\"Practice\",\"Contribute\"]\n",
    "b=a\n",
    "c=a[:]\n",
    "\n",
    "b[0]=\"Code\"\n",
    "c[1]=\"Mcq\"\n",
    "\n",
    "count=0\n",
    "for c in(a,b,c):\n",
    "    if c[0]==\"Code\":\n",
    "        count+=1\n",
    "    if c[1]==\"Mcq\":\n",
    "        count+=10\n",
    "print(count)"
   ]
  },
  {
   "cell_type": "code",
   "execution_count": 2,
   "id": "3d697378-7fbc-46fd-80ae-fd59532aba08",
   "metadata": {},
   "outputs": [],
   "source": [
    "#iteration"
   ]
  },
  {
   "cell_type": "code",
   "execution_count": 4,
   "id": "5ce00f43-a91b-4056-970a-863546a691df",
   "metadata": {},
   "outputs": [
    {
     "name": "stdout",
     "output_type": "stream",
     "text": [
      "H\n",
      "e\n",
      "l\n",
      "l\n",
      "o\n",
      " \n",
      "w\n",
      "o\n",
      "r\n",
      "l\n",
      "d\n"
     ]
    }
   ],
   "source": [
    "s=\"Hello world\"\n",
    "for x in s:\n",
    "    print(x)"
   ]
  },
  {
   "cell_type": "code",
   "execution_count": 8,
   "id": "1d6231a8-bb31-4951-82fa-d63b869fff53",
   "metadata": {},
   "outputs": [],
   "source": [
    "#Q1 Write a python program to find the sum of the first ten natural number using for loop\n",
    "#Q2 WAP to print all even number between 1 to 20 using for loop\n",
    "#Q3 WAP to calculate the factorial of a given number using for loop\n",
    "#Q4 WAP to print the square of numbers from 21 to 30 using for loop "
   ]
  },
  {
   "cell_type": "code",
   "execution_count": 16,
   "id": "90a22836-c31c-44ec-8b11-81cd108ea531",
   "metadata": {},
   "outputs": [
    {
     "name": "stdout",
     "output_type": "stream",
     "text": [
      "1\n",
      "2\n",
      "3\n",
      "4\n",
      "5\n",
      "6\n",
      "7\n",
      "8\n",
      "9\n",
      "10\n"
     ]
    }
   ],
   "source": [
    "#1 sum of first ten natural num\n",
    "for x in range(1,11):\n",
    "    print(x)\n"
   ]
  },
  {
   "cell_type": "code",
   "execution_count": 40,
   "id": "47a341f4-5195-462b-a1b2-77ce3681dae5",
   "metadata": {},
   "outputs": [
    {
     "name": "stdout",
     "output_type": "stream",
     "text": [
      "2\n",
      "4\n",
      "6\n",
      "8\n",
      "10\n",
      "12\n",
      "14\n",
      "16\n",
      "18\n",
      "20\n"
     ]
    }
   ],
   "source": [
    "#2 even no btwn 1 to 20\n",
    "for x in range(2,21):\n",
    "    if(x%2==0):s\n",
    "        print(x)"
   ]
  },
  {
   "cell_type": "code",
   "execution_count": 34,
   "id": "e70bef49-6606-4761-8da1-823b50b802b6",
   "metadata": {},
   "outputs": [
    {
     "name": "stdin",
     "output_type": "stream",
     "text": [
      "Enter a number:  5\n"
     ]
    },
    {
     "name": "stdout",
     "output_type": "stream",
     "text": [
      "120\n"
     ]
    }
   ],
   "source": [
    "#3 factorial\n",
    "a=int(input(\"Enter a number: \"))\n",
    "fact=1\n",
    "for x in range (1,a+1):\n",
    "    fact=fact*x\n",
    "print(fact)"
   ]
  },
  {
   "cell_type": "code",
   "execution_count": 36,
   "id": "a4a863cd-aff4-4926-8e81-934a160033b9",
   "metadata": {},
   "outputs": [
    {
     "name": "stdout",
     "output_type": "stream",
     "text": [
      "441\n",
      "484\n",
      "529\n",
      "576\n",
      "625\n",
      "676\n",
      "729\n",
      "784\n",
      "841\n",
      "900\n"
     ]
    }
   ],
   "source": [
    "#Q4 WAP to print the square of numbers from 21 to 30 using for loop \n",
    "for x in range (21,31):\n",
    "    print(x*x)"
   ]
  },
  {
   "cell_type": "code",
   "execution_count": 42,
   "id": "aa0ddfc9-c391-4e9e-9549-539f8e0b3555",
   "metadata": {},
   "outputs": [
    {
     "name": "stdin",
     "output_type": "stream",
     "text": [
      "Enter some string. sagar\n"
     ]
    },
    {
     "name": "stdout",
     "output_type": "stream",
     "text": [
      "The character present at 0 index is: s\n",
      "The character present at 1 index is: a\n",
      "The character present at 2 index is: g\n",
      "The character present at 3 index is: a\n",
      "The character present at 4 index is: r\n"
     ]
    }
   ],
   "source": [
    "s=input(\"Enter some string.\")\n",
    "i=0\n",
    "for x in s:\n",
    "    print(\"The character present at\",i,\"index is:\",x)\n",
    "    i=i+1"
   ]
  },
  {
   "cell_type": "code",
   "execution_count": 62,
   "id": "ae499294-27c3-432b-b2d6-a1de889cd76d",
   "metadata": {},
   "outputs": [
    {
     "name": "stdin",
     "output_type": "stream",
     "text": [
      "Enter some string. sagar\n"
     ]
    },
    {
     "name": "stdout",
     "output_type": "stream",
     "text": [
      "sgr\n"
     ]
    }
   ],
   "source": [
    "s=input(\"Enter some string.\")\n",
    "print(s[:5:2])"
   ]
  },
  {
   "cell_type": "code",
   "execution_count": 64,
   "id": "d55633a3-08d1-46db-9494-9c74fcac1486",
   "metadata": {},
   "outputs": [
    {
     "name": "stdout",
     "output_type": "stream",
     "text": [
      "sagar\n",
      "sagar\n",
      "sagar\n",
      "sagar\n",
      "sagar\n",
      "sagar\n",
      "sagar\n",
      "sagar\n",
      "sagar\n",
      "sagar\n"
     ]
    }
   ],
   "source": [
    "for x in range(10):\n",
    "    print(\"sagar\")"
   ]
  },
  {
   "cell_type": "code",
   "execution_count": 66,
   "id": "6684681b-b78b-4199-9787-9dea99aa2bc3",
   "metadata": {},
   "outputs": [
    {
     "name": "stdout",
     "output_type": "stream",
     "text": [
      "0\n",
      "1\n",
      "2\n",
      "3\n",
      "4\n",
      "5\n",
      "6\n",
      "7\n",
      "8\n",
      "9\n",
      "10\n",
      "11\n",
      "12\n",
      "13\n",
      "14\n",
      "15\n",
      "16\n",
      "17\n",
      "18\n",
      "19\n",
      "20\n",
      "21\n",
      "22\n",
      "23\n",
      "24\n",
      "25\n",
      "26\n",
      "27\n",
      "28\n",
      "29\n",
      "30\n",
      "31\n",
      "32\n",
      "33\n",
      "34\n",
      "35\n",
      "36\n",
      "37\n",
      "38\n",
      "39\n",
      "40\n",
      "41\n",
      "42\n",
      "43\n",
      "44\n",
      "45\n",
      "46\n",
      "47\n",
      "48\n",
      "49\n",
      "50\n",
      "51\n",
      "52\n",
      "53\n",
      "54\n",
      "55\n",
      "56\n",
      "57\n",
      "58\n",
      "59\n",
      "60\n",
      "61\n",
      "62\n",
      "63\n",
      "64\n",
      "65\n",
      "66\n",
      "67\n",
      "68\n",
      "69\n",
      "70\n",
      "71\n",
      "72\n",
      "73\n",
      "74\n",
      "75\n",
      "76\n",
      "77\n",
      "78\n",
      "79\n",
      "80\n",
      "81\n",
      "82\n",
      "83\n",
      "84\n",
      "85\n",
      "86\n",
      "87\n",
      "88\n",
      "89\n",
      "90\n",
      "91\n",
      "92\n",
      "93\n",
      "94\n",
      "95\n",
      "96\n",
      "97\n",
      "98\n",
      "99\n",
      "100\n"
     ]
    }
   ],
   "source": [
    "for x in range(101):\n",
    "    print(x)"
   ]
  },
  {
   "cell_type": "code",
   "execution_count": 78,
   "id": "9c93f8f8-fea0-4bd4-9b4d-b6f132ffe695",
   "metadata": {},
   "outputs": [
    {
     "name": "stdout",
     "output_type": "stream",
     "text": [
      "[1 2 3]\n",
      "[[1]\n",
      " [2]\n",
      " [3]]\n"
     ]
    }
   ],
   "source": [
    "import numpy as np\n",
    "vector_row=np.array([1,2,3])\n",
    "vector_col=np.array([[1],[2],[3]])\n",
    "print(vector_row)\n",
    "print(vector_col)"
   ]
  },
  {
   "cell_type": "code",
   "execution_count": 82,
   "id": "6bca8579-e7dc-4703-b50b-be6205463b88",
   "metadata": {},
   "outputs": [
    {
     "name": "stdout",
     "output_type": "stream",
     "text": [
      "[[1 2]\n",
      " [1 2]\n",
      " [1 2]]\n"
     ]
    }
   ],
   "source": [
    "import numpy as np\n",
    "x=np.array([[1,2],[1,2],[1,2]])\n",
    "print(x)"
   ]
  },
  {
   "cell_type": "code",
   "execution_count": 106,
   "id": "5a0c2f90-9cd3-437c-93af-dda4da73594e",
   "metadata": {},
   "outputs": [
    {
     "name": "stdout",
     "output_type": "stream",
     "text": [
      "  (1, 1)\t1\n",
      "  (2, 0)\t3\n"
     ]
    }
   ],
   "source": [
    "import numpy as np\n",
    "from scipy import sparse\n",
    "#creating matrix\n",
    "matrix = np.array([[0, 0],[0, 1],[3, 0]])\n",
    "#create a compressed sparse row(csr) matrix\n",
    "sparse_matrix = sparse.csr_matrix(matrix)\n",
    "print(sparse_matrix)"
   ]
  },
  {
   "cell_type": "code",
   "execution_count": 118,
   "id": "db5d2e92-5b74-4cb9-9545-229769088d90",
   "metadata": {},
   "outputs": [
    {
     "data": {
      "text/plain": [
       "4"
      ]
     },
     "execution_count": 118,
     "metadata": {},
     "output_type": "execute_result"
    }
   ],
   "source": [
    "import numpy as np\n",
    "from scipy import sparse\n",
    "vector=np.array([1,2,3,4,5,6])\n",
    "matrix=np.array([[1,2,3],[4,5,6],[7,8,9]])\n",
    "vector[3]"
   ]
  },
  {
   "cell_type": "code",
   "execution_count": 120,
   "id": "935c1d9e-4d29-49ae-9bc4-d9ff04d70e30",
   "metadata": {},
   "outputs": [
    {
     "data": {
      "text/plain": [
       "6"
      ]
     },
     "execution_count": 120,
     "metadata": {},
     "output_type": "execute_result"
    }
   ],
   "source": [
    "matrix[1,2]"
   ]
  },
  {
   "cell_type": "code",
   "execution_count": null,
   "id": "cd3e408f-1156-488e-bff5-b71221e35eb4",
   "metadata": {},
   "outputs": [],
   "source": []
  }
 ],
 "metadata": {
  "kernelspec": {
   "display_name": "Python [conda env:base] *",
   "language": "python",
   "name": "conda-base-py"
  },
  "language_info": {
   "codemirror_mode": {
    "name": "ipython",
    "version": 3
   },
   "file_extension": ".py",
   "mimetype": "text/x-python",
   "name": "python",
   "nbconvert_exporter": "python",
   "pygments_lexer": "ipython3",
   "version": "3.12.7"
  }
 },
 "nbformat": 4,
 "nbformat_minor": 5
}
