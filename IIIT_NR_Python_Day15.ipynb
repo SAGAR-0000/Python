{
 "cells": [
  {
   "cell_type": "code",
   "execution_count": 21,
   "id": "c80ea482-1a0d-4b08-8821-d25ae8939e68",
   "metadata": {},
   "outputs": [],
   "source": [
    "#Mean squared error (outlier present hai to mse sahi nahi rhaega use karna )"
   ]
  },
  {
   "cell_type": "code",
   "execution_count": 5,
   "id": "9a54c5a2-e9b6-4f59-82f5-6f3db3f6e56a",
   "metadata": {},
   "outputs": [
    {
     "name": "stdout",
     "output_type": "stream",
     "text": [
      "Mse:  17.0\n"
     ]
    }
   ],
   "source": [
    "import numpy as np \n",
    "\n",
    "def mean_squared_error(y_true,y_pred):\n",
    "    return np.mean((y_true-y_pred)**2)\n",
    "\n",
    "y_true=np.array([25,50,65,80,100])\n",
    "y_pred=np.array([29,48,67,86,105])\n",
    "mse=mean_squared_error(y_true,y_pred)\n",
    "print(\"Mse: \",mse)"
   ]
  },
  {
   "cell_type": "code",
   "execution_count": 11,
   "id": "538534c8-0430-4586-a044-0237de0bb3c9",
   "metadata": {},
   "outputs": [
    {
     "name": "stdout",
     "output_type": "stream",
     "text": [
      "Mae:  3.8\n"
     ]
    }
   ],
   "source": [
    "#Mean absolute error\n",
    "import numpy as np \n",
    "\n",
    "def mean_absolute_error(y_true,y_pred):\n",
    "    return np.mean(np.abs(y_true-y_pred))\n",
    "\n",
    "y_true=np.array([25,50,65,80,100])\n",
    "y_pred=np.array([29,48,67,86,105])\n",
    "mae=mean_absolute_error(y_true,y_pred)\n",
    "print(\"Mae: \",mae)"
   ]
  },
  {
   "cell_type": "code",
   "execution_count": 13,
   "id": "8b878643-2b61-4eae-9e98-84ab008603c0",
   "metadata": {},
   "outputs": [],
   "source": [
    "#root mean square"
   ]
  },
  {
   "cell_type": "code",
   "execution_count": 5,
   "id": "23a144c3-e496-4f8a-9d80-11468c794412",
   "metadata": {},
   "outputs": [
    {
     "name": "stdout",
     "output_type": "stream",
     "text": [
      "RMSE: 4.123105625617661\n"
     ]
    }
   ],
   "source": [
    "import numpy as np \n",
    "\n",
    "def root_mean_square_error(y_true, y_pred):\n",
    "    return np.sqrt(np.mean((y_true - y_pred) ** 2))\n",
    "\n",
    "y_true = np.array([25, 50, 65, 80, 100])\n",
    "y_pred = np.array([29, 48, 67, 86, 105])\n",
    "rmse = root_mean_square_error(y_true, y_pred)\n",
    "print(\"RMSE:\", rmse)"
   ]
  },
  {
   "cell_type": "code",
   "execution_count": 1,
   "id": "cefd4031-0c1b-49d2-a163-acb1a4a0f130",
   "metadata": {},
   "outputs": [],
   "source": [
    "#HW"
   ]
  },
  {
   "cell_type": "code",
   "execution_count": 7,
   "id": "ebada0c8-dd0a-473b-b7cb-be62c4c35c88",
   "metadata": {},
   "outputs": [
    {
     "name": "stdout",
     "output_type": "stream",
     "text": [
      "Mse:  5.375\n"
     ]
    }
   ],
   "source": [
    "import numpy as np \n",
    "\n",
    "def mean_squared_error(y_true,y_pred):\n",
    "    return np.mean((y_true-y_pred)**2)\n",
    "\n",
    "y_true=np.array([9,7,11,14,19,21,25,28])\n",
    "y_pred=np.array([11,5,14,17,21,18,23,28])\n",
    "mse=mean_squared_error(y_true,y_pred)\n",
    "print(\"Mse: \",mse)"
   ]
  },
  {
   "cell_type": "code",
   "execution_count": 9,
   "id": "5bcc2fd4-d41c-4d1c-90a3-10efaf23bad5",
   "metadata": {},
   "outputs": [
    {
     "name": "stdout",
     "output_type": "stream",
     "text": [
      "Mae:  2.125\n"
     ]
    }
   ],
   "source": [
    "#Mean absolute error\n",
    "import numpy as np \n",
    "\n",
    "def mean_absolute_error(y_true,y_pred):\n",
    "    return np.mean(np.abs(y_true-y_pred))\n",
    "\n",
    "y_true=np.array([9,7,11,14,19,21,25,28])\n",
    "y_pred=np.array([11,5,14,17,21,18,23,28])\n",
    "mae=mean_absolute_error(y_true,y_pred)\n",
    "print(\"Mae: \",mae)"
   ]
  },
  {
   "cell_type": "code",
   "execution_count": 11,
   "id": "b881a4ea-cad9-4df5-84cd-76d3cc383de8",
   "metadata": {},
   "outputs": [
    {
     "name": "stdout",
     "output_type": "stream",
     "text": [
      "RMSE: 2.318404623873926\n"
     ]
    }
   ],
   "source": [
    "import numpy as np \n",
    "\n",
    "def root_mean_square_error(y_true, y_pred):\n",
    "    return np.sqrt(np.mean((y_true - y_pred) ** 2))\n",
    "\n",
    "y_true=np.array([9,7,11,14,19,21,25,28])\n",
    "y_pred=np.array([11,5,14,17,21,18,23,28])\n",
    "rmse = root_mean_square_error(y_true, y_pred)\n",
    "print(\"RMSE:\", rmse)"
   ]
  },
  {
   "cell_type": "code",
   "execution_count": 19,
   "id": "98496177-9cd5-44a0-afe1-56d800896c6a",
   "metadata": {},
   "outputs": [
    {
     "data": {
      "text/plain": [
       "0.8960096735187424"
      ]
     },
     "execution_count": 19,
     "metadata": {},
     "output_type": "execute_result"
    }
   ],
   "source": [
    "import numpy as np \n",
    "\n",
    "def r2_score(y_true, y_pred):\n",
    "    error = np.sum((y_true - y_pred) ** 2)\n",
    "    total = np.sum((y_true - np.mean(y_true)) ** 2)\n",
    "    return 1 - error / total\n",
    "\n",
    "y_true=np.array([9,7,11,14,19,21,25,28])\n",
    "y_pred=np.array([11,5,14,17,21,18,23,28])\n",
    "r2_score(y_true,y_pred)"
   ]
  },
  {
   "cell_type": "code",
   "execution_count": null,
   "id": "c9fc0a85-9959-4d41-bbdb-b8a4e629aa7b",
   "metadata": {},
   "outputs": [],
   "source": []
  }
 ],
 "metadata": {
  "kernelspec": {
   "display_name": "Python [conda env:base] *",
   "language": "python",
   "name": "conda-base-py"
  },
  "language_info": {
   "codemirror_mode": {
    "name": "ipython",
    "version": 3
   },
   "file_extension": ".py",
   "mimetype": "text/x-python",
   "name": "python",
   "nbconvert_exporter": "python",
   "pygments_lexer": "ipython3",
   "version": "3.12.7"
  }
 },
 "nbformat": 4,
 "nbformat_minor": 5
}
