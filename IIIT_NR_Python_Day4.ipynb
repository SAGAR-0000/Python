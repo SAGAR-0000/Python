{
 "cells": [
  {
   "cell_type": "code",
   "execution_count": 12,
   "id": "8b31b9fe-3a41-4279-a403-ae705f166906",
   "metadata": {},
   "outputs": [
    {
     "name": "stdout",
     "output_type": "stream",
     "text": [
      "0 km\n",
      "1 km\n",
      "2 km\n",
      "3 km\n",
      "4 km\n",
      "5 km\n",
      "6 km\n",
      "7 km\n",
      "8 km\n",
      "9 km\n",
      "10 km\n",
      "11 km\n",
      "12 km\n",
      "13 km\n",
      "14 km\n",
      "15 km\n",
      "16 km\n",
      "17 km\n",
      "18 km\n",
      "19 km\n",
      "20 km\n",
      "21 km\n",
      "22 km\n",
      "23 km\n",
      "24 km\n",
      "25 km\n",
      "26 km\n",
      "27 km\n",
      "28 km\n",
      "29 km\n",
      "30 km\n",
      "31 km\n",
      "32 km\n",
      "33 km\n",
      "34 km\n",
      "35 km\n",
      "36 km\n",
      "37 km\n",
      "38 km\n",
      "39 km\n",
      "40 km\n",
      "41 km\n",
      "42 km\n",
      "43 km\n",
      "44 km\n",
      "45 km\n",
      "46 km\n",
      "47 km\n",
      "48 km\n",
      "49 km\n",
      "50 km\n",
      "Fuel not available.\n"
     ]
    }
   ],
   "source": [
    "j=1\n",
    "for j in range(100):\n",
    "    print(j,\"km\")\n",
    "    if(j==50):\n",
    "        print(\"Fuel not available.\")\n",
    "        break  "
   ]
  },
  {
   "cell_type": "code",
   "execution_count": 4,
   "id": "39b798ce-9ed3-4041-bb87-30fbe60383bc",
   "metadata": {},
   "outputs": [
    {
     "name": "stdout",
     "output_type": "stream",
     "text": [
      "0 km/hr\n",
      "Keep Going.\n",
      "1 km/hr\n",
      "Keep Going.\n",
      "2 km/hr\n",
      "Keep Going.\n",
      "3 km/hr\n",
      "Keep Going.\n",
      "4 km/hr\n",
      "Keep Going.\n",
      "5 km/hr\n",
      "Keep Going.\n",
      "6 km/hr\n",
      "Keep Going.\n",
      "7 km/hr\n",
      "Keep Going.\n",
      "8 km/hr\n",
      "Keep Going.\n",
      "9 km/hr\n",
      "Keep Going.\n",
      "10 km/hr\n",
      "Keep Going.\n",
      "11 km/hr\n",
      "Keep Going.\n",
      "12 km/hr\n",
      "Keep Going.\n",
      "13 km/hr\n",
      "Keep Going.\n",
      "14 km/hr\n",
      "Keep Going.\n",
      "15 km/hr\n",
      "Keep Going.\n",
      "16 km/hr\n",
      "Keep Going.\n",
      "17 km/hr\n",
      "Keep Going.\n",
      "18 km/hr\n",
      "Keep Going.\n",
      "19 km/hr\n",
      "Keep Going.\n",
      "20 km/hr\n",
      "Keep Going.\n",
      "21 km/hr\n",
      "Keep Going.\n",
      "22 km/hr\n",
      "Keep Going.\n",
      "23 km/hr\n",
      "Keep Going.\n",
      "24 km/hr\n",
      "Keep Going.\n",
      "25 km/hr\n",
      "Keep Going.\n",
      "26 km/hr\n",
      "Keep Going.\n",
      "27 km/hr\n",
      "Keep Going.\n",
      "28 km/hr\n",
      "Keep Going.\n",
      "29 km/hr\n",
      "Keep Going.\n",
      "30 km/hr\n",
      "Keep Going.\n",
      "31 km/hr\n",
      "Keep Going.\n",
      "32 km/hr\n",
      "Keep Going.\n",
      "33 km/hr\n",
      "Keep Going.\n",
      "34 km/hr\n",
      "Keep Going.\n",
      "35 km/hr\n",
      "Keep Going.\n",
      "36 km/hr\n",
      "Keep Going.\n",
      "37 km/hr\n",
      "Keep Going.\n",
      "38 km/hr\n",
      "Keep Going.\n",
      "39 km/hr\n",
      "Keep Going.\n",
      "40 km/hr\n",
      "Keep Going.\n",
      "41 km/hr\n",
      "Keep Going.\n",
      "42 km/hr\n",
      "Keep Going.\n",
      "43 km/hr\n",
      "Keep Going.\n",
      "44 km/hr\n",
      "Keep Going.\n",
      "45 km/hr\n",
      "Keep Going.\n",
      "46 km/hr\n",
      "Keep Going.\n",
      "47 km/hr\n",
      "Keep Going.\n",
      "48 km/hr\n",
      "Keep Going.\n",
      "49 km/hr\n",
      "Keep Going.\n",
      "50 km/hr\n",
      "Keep Going.\n",
      "51 km/hr\n",
      "Keep Going.\n",
      "52 km/hr\n",
      "Keep Going.\n",
      "53 km/hr\n",
      "Keep Going.\n",
      "54 km/hr\n",
      "Keep Going.\n",
      "55 km/hr\n",
      "Keep Going.\n",
      "56 km/hr\n",
      "Keep Going.\n",
      "57 km/hr\n",
      "Keep Going.\n",
      "58 km/hr\n",
      "Keep Going.\n",
      "59 km/hr\n",
      "Keep Going.\n",
      "60 km/hr\n",
      "Keep Going.\n",
      "61 km/hr\n",
      "Keep Going.\n",
      "62 km/hr\n",
      "Keep Going.\n",
      "63 km/hr\n",
      "Keep Going.\n",
      "64 km/hr\n",
      "Keep Going.\n",
      "65 km/hr\n",
      "Keep Going.\n",
      "66 km/hr\n",
      "Keep Going.\n",
      "67 km/hr\n",
      "Keep Going.\n",
      "68 km/hr\n",
      "Keep Going.\n",
      "69 km/hr\n",
      "Keep Going.\n",
      "70 km/hr\n",
      "Keep Going.\n",
      "71 km/hr\n",
      "Keep Going.\n",
      "72 km/hr\n",
      "Keep Going.\n",
      "73 km/hr\n",
      "Keep Going.\n",
      "74 km/hr\n",
      "Keep Going.\n",
      "75 km/hr\n",
      "Keep Going.\n",
      "76 km/hr\n",
      "Keep Going.\n",
      "77 km/hr\n",
      "Keep Going.\n",
      "78 km/hr\n",
      "Keep Going.\n",
      "79 km/hr\n",
      "Keep Going.\n",
      "80 km/hr\n",
      "Keep Going.\n",
      "81 km/hr\n",
      "Keep Going.\n",
      "82 km/hr\n",
      "Keep Going.\n",
      "83 km/hr\n",
      "Keep Going.\n",
      "84 km/hr\n",
      "Keep Going.\n",
      "85 km/hr\n",
      "Keep Going.\n",
      "86 km/hr\n",
      "Keep Going.\n",
      "87 km/hr\n",
      "Keep Going.\n",
      "88 km/hr\n",
      "Keep Going.\n",
      "89 km/hr\n",
      "Keep Going.\n",
      "90 km/hr\n",
      "Keep Going.\n",
      "91 km/hr\n",
      "Keep Going.\n",
      "92 km/hr\n",
      "Keep Going.\n",
      "93 km/hr\n",
      "Keep Going.\n",
      "94 km/hr\n",
      "Keep Going.\n",
      "95 km/hr\n",
      "Keep Going.\n",
      "96 km/hr\n",
      "Keep Going.\n",
      "97 km/hr\n",
      "Keep Going.\n",
      "98 km/hr\n",
      "Keep Going.\n",
      "99 km/hr\n",
      "Slow Down.\n"
     ]
    }
   ],
   "source": [
    "j=1\n",
    "for j in range(100):\n",
    "    print(j,\"km/hr\")\n",
    "    if(j<99):\n",
    "        print(\"Keep Going.\")\n",
    "    else:\n",
    "        print(\"Slow Down.\")\n",
    "        break  "
   ]
  },
  {
   "cell_type": "code",
   "execution_count": 8,
   "id": "2a2f45f8-a38d-4489-a6a0-ec90d14add67",
   "metadata": {},
   "outputs": [
    {
     "name": "stdin",
     "output_type": "stream",
     "text": [
      "Enter Speed:  129\n"
     ]
    },
    {
     "name": "stdout",
     "output_type": "stream",
     "text": [
      "DANGER! Slow down.\n"
     ]
    }
   ],
   "source": [
    "j=int(input(\"Enter Speed: \"))\n",
    "if(j<40):\n",
    "    print(\"Increase speed.\")\n",
    "elif(j<65):\n",
    "    print(\"Decent speed.\")\n",
    "elif(j<100 ):\n",
    "    print(\"Slow a bit down.\")\n",
    "else:\n",
    "    print(\"DANGER! Slow down.\")"
   ]
  },
  {
   "cell_type": "code",
   "execution_count": 22,
   "id": "4001c331-4b46-4e9f-9b3b-c1d2c9f40814",
   "metadata": {},
   "outputs": [
    {
     "name": "stdout",
     "output_type": "stream",
     "text": [
      "Total student:  100\n"
     ]
    },
    {
     "name": "stdin",
     "output_type": "stream",
     "text": [
      "No of students who recieved Notebook:  70\n"
     ]
    },
    {
     "name": "stdout",
     "output_type": "stream",
     "text": [
      "Remaining Student:  30\n"
     ]
    }
   ],
   "source": [
    "max=100\n",
    "print(\"Total student: \",max)\n",
    "a=int(input(\"No of students who recieved Notebook: \"))\n",
    "b=max-a\n",
    "print(\"Remaining Student: \",b)"
   ]
  },
  {
   "cell_type": "code",
   "execution_count": 52,
   "id": "4df7976e-9652-4610-a30e-5b29211af023",
   "metadata": {},
   "outputs": [
    {
     "name": "stdout",
     "output_type": "stream",
     "text": [
      "*\n",
      "**\n",
      "***\n",
      "****\n",
      "*****\n"
     ]
    }
   ],
   "source": [
    "rows=5\n",
    "for i in range(1,rows+1):\n",
    "    print(\"*\"*i)      "
   ]
  },
  {
   "cell_type": "code",
   "execution_count": 72,
   "id": "a1573cd6-a6ca-4aa1-8fcf-886cb9801385",
   "metadata": {},
   "outputs": [
    {
     "name": "stdout",
     "output_type": "stream",
     "text": [
      "*****\n",
      "****\n",
      "***\n",
      "**\n",
      "*\n"
     ]
    }
   ],
   "source": [
    "rows=5\n",
    "i=1\n",
    "while(rows>=i):\n",
    "    print(\"*\"*(rows))\n",
    "    rows-=1"
   ]
  },
  {
   "cell_type": "code",
   "execution_count": 184,
   "id": "39d438d4-ab7e-4bc5-8643-dee960e94fca",
   "metadata": {},
   "outputs": [
    {
     "name": "stdout",
     "output_type": "stream",
     "text": [
      "    *\n",
      "   ***\n",
      "  *****\n",
      " *******\n",
      "*********\n"
     ]
    }
   ],
   "source": [
    "ROWS=5\n",
    "for i in range(1,rows+1):\n",
    "    print(\" \"*(rows-i)+\"*\"*(2*i-1))"
   ]
  },
  {
   "cell_type": "code",
   "execution_count": 174,
   "id": "dcc1fa9d-6114-41f7-aac9-9222efb04a48",
   "metadata": {},
   "outputs": [
    {
     "name": "stdout",
     "output_type": "stream",
     "text": [
      "1\n",
      "22\n",
      "333\n",
      "4444\n",
      "55555\n"
     ]
    }
   ],
   "source": [
    "rows=5\n",
    "a=1\n",
    "for i in range(1,rows+1):\n",
    "    for j in range(i):\n",
    "        print(i,end=\"\")\n",
    "    print(\"\")"
   ]
  },
  {
   "cell_type": "code",
   "execution_count": 182,
   "id": "393c576d-5959-4e43-b4e7-929d7d76a59c",
   "metadata": {},
   "outputs": [
    {
     "name": "stdout",
     "output_type": "stream",
     "text": [
      "1\n",
      "12\n",
      "123\n",
      "1234\n",
      "12345\n"
     ]
    }
   ],
   "source": [
    "rows=5\n",
    "a=1\n",
    "for i in range(1,rows+1):\n",
    "    for j in range(i):\n",
    "        print(j+1,end=\"\")\n",
    "    print(\"\")"
   ]
  },
  {
   "cell_type": "code",
   "execution_count": null,
   "id": "1ea41ff9-2bed-47f0-adeb-c6d29f13c40f",
   "metadata": {},
   "outputs": [],
   "source": []
  },
  {
   "cell_type": "code",
   "execution_count": null,
   "id": "920d94a6-2134-480c-9293-6cc41d17b67f",
   "metadata": {},
   "outputs": [],
   "source": []
  }
 ],
 "metadata": {
  "kernelspec": {
   "display_name": "Python [conda env:base] *",
   "language": "python",
   "name": "conda-base-py"
  },
  "language_info": {
   "codemirror_mode": {
    "name": "ipython",
    "version": 3
   },
   "file_extension": ".py",
   "mimetype": "text/x-python",
   "name": "python",
   "nbconvert_exporter": "python",
   "pygments_lexer": "ipython3",
   "version": "3.12.7"
  }
 },
 "nbformat": 4,
 "nbformat_minor": 5
}
