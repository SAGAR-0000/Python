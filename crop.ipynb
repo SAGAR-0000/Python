{
 "cells": [
  {
   "cell_type": "code",
   "execution_count": 14,
   "id": "2c5cfd7d-c8cc-4753-a356-1e17495134ec",
   "metadata": {},
   "outputs": [
    {
     "name": "stdout",
     "output_type": "stream",
     "text": [
      "Found 13324 files belonging to 17 classes.\n",
      "Using 10660 files for training.\n",
      "Found 13324 files belonging to 17 classes.\n",
      "Using 2664 files for validation.\n"
     ]
    }
   ],
   "source": [
    "import tensorflow as tf\n",
    "from tensorflow.keras.preprocessing import image_dataset_from_directory\n",
    "\n",
    "dataset_path = \"E:/SIH/archive/Crop Diseases\"\n",
    "\n",
    "batch_size = 32\n",
    "img_height = 224\n",
    "img_width = 224\n",
    "\n",
    "train_ds = image_dataset_from_directory(\n",
    "    dataset_path,\n",
    "    validation_split=0.2,\n",
    "    subset=\"training\",\n",
    "    seed=123,\n",
    "    image_size=(img_height, img_width),\n",
    "    batch_size=batch_size\n",
    ")\n",
    "\n",
    "val_ds = image_dataset_from_directory(\n",
    "    dataset_path,\n",
    "    validation_split=0.2,\n",
    "    subset=\"validation\",\n",
    "    seed=123,\n",
    "    image_size=(img_height, img_width),\n",
    "    batch_size=batch_size\n",
    ")\n"
   ]
  },
  {
   "cell_type": "code",
   "execution_count": 15,
   "id": "8c06b6ad-4dc0-47a2-bdcb-6169eee263f8",
   "metadata": {},
   "outputs": [],
   "source": [
    "from tensorflow.keras import layers\n",
    "\n",
    "data_augmentation = tf.keras.Sequential([\n",
    "    layers.RandomFlip('horizontal'),\n",
    "    layers.RandomRotation(0.1),\n",
    "])\n"
   ]
  },
  {
   "cell_type": "code",
   "execution_count": 16,
   "id": "9b272b3e-bfb4-4225-9068-b44263ef59ed",
   "metadata": {},
   "outputs": [
    {
     "name": "stdout",
     "output_type": "stream",
     "text": [
      "Number of classes: 17\n"
     ]
    }
   ],
   "source": [
    "import os\n",
    "\n",
    "dataset_path = \"E:/SIH/archive/Crop Diseases\"\n",
    "num_classes = len(next(os.walk(dataset_path))[1])\n",
    "print(f\"Number of classes: {num_classes}\")\n"
   ]
  },
  {
   "cell_type": "code",
   "execution_count": 17,
   "id": "08987089-2af0-47d8-bd2c-69d857bf96d5",
   "metadata": {},
   "outputs": [],
   "source": [
    "from tensorflow.keras.applications import MobileNetV2\n",
    "from tensorflow.keras.models import Sequential\n",
    "from tensorflow.keras.layers import Dense, GlobalAveragePooling2D\n",
    "\n",
    "base_model = MobileNetV2(input_shape=(img_height, img_width, 3),\n",
    "                         include_top=False,\n",
    "                         weights='imagenet')\n",
    "\n",
    "base_model.trainable = False  # Freeze the base\n",
    "\n",
    "model = Sequential([\n",
    "    data_augmentation,\n",
    "    base_model,\n",
    "    GlobalAveragePooling2D(),\n",
    "    Dense(128, activation='relu'),\n",
    "    Dense(num_classes, activation='softmax')\n",
    "])\n"
   ]
  },
  {
   "cell_type": "code",
   "execution_count": 18,
   "id": "036b03ab-77d8-400a-b44e-0a7ff5de6c9e",
   "metadata": {},
   "outputs": [
    {
     "name": "stdout",
     "output_type": "stream",
     "text": [
      "Epoch 1/10\n",
      "\u001b[1m334/334\u001b[0m \u001b[32m━━━━━━━━━━━━━━━━━━━━\u001b[0m\u001b[37m\u001b[0m \u001b[1m229s\u001b[0m 662ms/step - accuracy: 0.6453 - loss: 1.0910 - val_accuracy: 0.7845 - val_loss: 0.5858\n",
      "Epoch 2/10\n",
      "\u001b[1m334/334\u001b[0m \u001b[32m━━━━━━━━━━━━━━━━━━━━\u001b[0m\u001b[37m\u001b[0m \u001b[1m221s\u001b[0m 662ms/step - accuracy: 0.7965 - loss: 0.5191 - val_accuracy: 0.8146 - val_loss: 0.4931\n",
      "Epoch 3/10\n",
      "\u001b[1m334/334\u001b[0m \u001b[32m━━━━━━━━━━━━━━━━━━━━\u001b[0m\u001b[37m\u001b[0m \u001b[1m221s\u001b[0m 660ms/step - accuracy: 0.8114 - loss: 0.4662 - val_accuracy: 0.8007 - val_loss: 0.5002\n",
      "Epoch 4/10\n",
      "\u001b[1m334/334\u001b[0m \u001b[32m━━━━━━━━━━━━━━━━━━━━\u001b[0m\u001b[37m\u001b[0m \u001b[1m215s\u001b[0m 644ms/step - accuracy: 0.8310 - loss: 0.4206 - val_accuracy: 0.8127 - val_loss: 0.4788\n",
      "Epoch 5/10\n",
      "\u001b[1m334/334\u001b[0m \u001b[32m━━━━━━━━━━━━━━━━━━━━\u001b[0m\u001b[37m\u001b[0m \u001b[1m216s\u001b[0m 647ms/step - accuracy: 0.8367 - loss: 0.4132 - val_accuracy: 0.8224 - val_loss: 0.4480\n",
      "Epoch 6/10\n",
      "\u001b[1m334/334\u001b[0m \u001b[32m━━━━━━━━━━━━━━━━━━━━\u001b[0m\u001b[37m\u001b[0m \u001b[1m215s\u001b[0m 643ms/step - accuracy: 0.8356 - loss: 0.4093 - val_accuracy: 0.8236 - val_loss: 0.4791\n",
      "Epoch 7/10\n",
      "\u001b[1m334/334\u001b[0m \u001b[32m━━━━━━━━━━━━━━━━━━━━\u001b[0m\u001b[37m\u001b[0m \u001b[1m215s\u001b[0m 644ms/step - accuracy: 0.8451 - loss: 0.3858 - val_accuracy: 0.8224 - val_loss: 0.4655\n",
      "Epoch 8/10\n",
      "\u001b[1m334/334\u001b[0m \u001b[32m━━━━━━━━━━━━━━━━━━━━\u001b[0m\u001b[37m\u001b[0m \u001b[1m215s\u001b[0m 643ms/step - accuracy: 0.8450 - loss: 0.3813 - val_accuracy: 0.8213 - val_loss: 0.4623\n",
      "Epoch 9/10\n",
      "\u001b[1m334/334\u001b[0m \u001b[32m━━━━━━━━━━━━━━━━━━━━\u001b[0m\u001b[37m\u001b[0m \u001b[1m225s\u001b[0m 673ms/step - accuracy: 0.8533 - loss: 0.3734 - val_accuracy: 0.8292 - val_loss: 0.4663\n",
      "Epoch 10/10\n",
      "\u001b[1m334/334\u001b[0m \u001b[32m━━━━━━━━━━━━━━━━━━━━\u001b[0m\u001b[37m\u001b[0m \u001b[1m220s\u001b[0m 656ms/step - accuracy: 0.8527 - loss: 0.3656 - val_accuracy: 0.8322 - val_loss: 0.4373\n"
     ]
    }
   ],
   "source": [
    "model.compile(optimizer='adam',\n",
    "              loss='sparse_categorical_crossentropy',\n",
    "              metrics=['accuracy'])\n",
    "\n",
    "epochs = 10\n",
    "\n",
    "history = model.fit(\n",
    "    train_ds,\n",
    "    validation_data=val_ds,\n",
    "    epochs=epochs\n",
    ")\n",
    "model.compile(optimizer='adam',\n",
    "              loss='sparse_categorical_crossentropy',\n",
    "              metrics=['accuracy'])"
   ]
  },
  {
   "cell_type": "code",
   "execution_count": 19,
   "id": "68d8b4ef-45a6-45e3-998c-6a9ffe571fe0",
   "metadata": {},
   "outputs": [
    {
     "name": "stdout",
     "output_type": "stream",
     "text": [
      "Epoch 10/20\n",
      "\u001b[1m334/334\u001b[0m \u001b[32m━━━━━━━━━━━━━━━━━━━━\u001b[0m\u001b[37m\u001b[0m \u001b[1m330s\u001b[0m 930ms/step - accuracy: 0.4023 - loss: 3.5136 - val_accuracy: 0.6858 - val_loss: 0.9078\n",
      "Epoch 11/20\n",
      "\u001b[1m334/334\u001b[0m \u001b[32m━━━━━━━━━━━━━━━━━━━━\u001b[0m\u001b[37m\u001b[0m \u001b[1m312s\u001b[0m 933ms/step - accuracy: 0.7339 - loss: 0.7206 - val_accuracy: 0.7282 - val_loss: 0.7638\n",
      "Epoch 12/20\n",
      "\u001b[1m334/334\u001b[0m \u001b[32m━━━━━━━━━━━━━━━━━━━━\u001b[0m\u001b[37m\u001b[0m \u001b[1m312s\u001b[0m 934ms/step - accuracy: 0.7801 - loss: 0.5778 - val_accuracy: 0.7624 - val_loss: 0.6275\n",
      "Epoch 13/20\n",
      "\u001b[1m334/334\u001b[0m \u001b[32m━━━━━━━━━━━━━━━━━━━━\u001b[0m\u001b[37m\u001b[0m \u001b[1m308s\u001b[0m 922ms/step - accuracy: 0.7992 - loss: 0.5152 - val_accuracy: 0.7755 - val_loss: 0.5814\n",
      "Epoch 14/20\n",
      "\u001b[1m334/334\u001b[0m \u001b[32m━━━━━━━━━━━━━━━━━━━━\u001b[0m\u001b[37m\u001b[0m \u001b[1m306s\u001b[0m 918ms/step - accuracy: 0.8128 - loss: 0.4685 - val_accuracy: 0.8029 - val_loss: 0.4988\n",
      "Epoch 15/20\n",
      "\u001b[1m334/334\u001b[0m \u001b[32m━━━━━━━━━━━━━━━━━━━━\u001b[0m\u001b[37m\u001b[0m \u001b[1m301s\u001b[0m 901ms/step - accuracy: 0.8317 - loss: 0.4226 - val_accuracy: 0.8134 - val_loss: 0.4722\n",
      "Epoch 16/20\n",
      "\u001b[1m334/334\u001b[0m \u001b[32m━━━━━━━━━━━━━━━━━━━━\u001b[0m\u001b[37m\u001b[0m \u001b[1m301s\u001b[0m 899ms/step - accuracy: 0.8382 - loss: 0.4153 - val_accuracy: 0.8209 - val_loss: 0.4584\n",
      "Epoch 17/20\n",
      "\u001b[1m334/334\u001b[0m \u001b[32m━━━━━━━━━━━━━━━━━━━━\u001b[0m\u001b[37m\u001b[0m \u001b[1m302s\u001b[0m 904ms/step - accuracy: 0.8401 - loss: 0.3986 - val_accuracy: 0.8273 - val_loss: 0.4440\n",
      "Epoch 18/20\n",
      "\u001b[1m334/334\u001b[0m \u001b[32m━━━━━━━━━━━━━━━━━━━━\u001b[0m\u001b[37m\u001b[0m \u001b[1m331s\u001b[0m 990ms/step - accuracy: 0.8470 - loss: 0.3796 - val_accuracy: 0.8360 - val_loss: 0.4168\n",
      "Epoch 19/20\n",
      "\u001b[1m334/334\u001b[0m \u001b[32m━━━━━━━━━━━━━━━━━━━━\u001b[0m\u001b[37m\u001b[0m \u001b[1m325s\u001b[0m 972ms/step - accuracy: 0.8531 - loss: 0.3621 - val_accuracy: 0.8382 - val_loss: 0.4225\n",
      "Epoch 20/20\n",
      "\u001b[1m334/334\u001b[0m \u001b[32m━━━━━━━━━━━━━━━━━━━━\u001b[0m\u001b[37m\u001b[0m \u001b[1m345s\u001b[0m 1s/step - accuracy: 0.8605 - loss: 0.3549 - val_accuracy: 0.8408 - val_loss: 0.4000\n"
     ]
    }
   ],
   "source": [
    "base_model.trainable = True\n",
    "\n",
    "# Optionally fine-tune from a specific layer onwards                 \n",
    "fine_tune_at = 100\n",
    "\n",
    "for layer in base_model.layers[:fine_tune_at]:\n",
    "    layer.trainable = False\n",
    "\n",
    "model.compile(optimizer=tf.keras.optimizers.Adam(1e-5),\n",
    "              loss='sparse_categorical_crossentropy',\n",
    "              metrics=['accuracy'])\n",
    "\n",
    "fine_tune_epochs = 10\n",
    "\n",
    "history_fine = model.fit(\n",
    "    train_ds,\n",
    "    validation_data=val_ds,\n",
    "    epochs=epochs + fine_tune_epochs,\n",
    "    initial_epoch=history.epoch[-1]\n",
    ")\n"
   ]
  },
  {
   "cell_type": "code",
   "execution_count": 20,
   "id": "8859b9e9-fa6f-42ab-a58b-1796ecbb60a9",
   "metadata": {},
   "outputs": [
    {
     "name": "stderr",
     "output_type": "stream",
     "text": [
      "WARNING:absl:You are saving your model as an HDF5 file via `model.save()` or `keras.saving.save_model(model)`. This file format is considered legacy. We recommend using instead the native Keras format, e.g. `model.save('my_model.keras')` or `keras.saving.save_model(model, 'my_model.keras')`. \n"
     ]
    }
   ],
   "source": [
    "model.save(\"crop_disease_classifier.h5\")"
   ]
  },
  {
   "cell_type": "code",
   "execution_count": 21,
   "id": "f8352f7a-b591-4753-ae59-caeb94359f7f",
   "metadata": {},
   "outputs": [
    {
     "data": {
      "image/png": "[encoded data removed]",
      "text/plain": [
       "<Figure size 640x480 with 1 Axes>"
      ]
     },
     "metadata": {},
     "output_type": "display_data"
    }
   ],
   "source": [
    "import matplotlib.pyplot as plt\n",
    "\n",
    "plt.plot(history.history['accuracy'] + history_fine.history['accuracy'])\n",
    "plt.plot(history.history['val_accuracy'] + history_fine.history['val_accuracy'])\n",
    "plt.xlabel('Epoch')\n",
    "plt.ylabel('Accuracy')\n",
    "plt.legend(['Train', 'Validation'])\n",
    "plt.show()\n"
   ]
  },
  {
   "cell_type": "code",
   "execution_count": 30,
   "id": "e3ba183d-4176-4b47-a19a-3043a9dc275f",
   "metadata": {},
   "outputs": [],
   "source": [
    "model.save('crop_disease_model.keras')\n"
   ]
  },
  {
   "cell_type": "code",
   "execution_count": null,
   "id": "b6deeab7-35f4-4c41-8e9b-88c643206033",
   "metadata": {},
   "outputs": [],
   "source": []
  }
 ],
 "metadata": {
  "kernelspec": {
   "display_name": "Python [conda env:base] *",
   "language": "python",
   "name": "conda-base-py"
  },
  "language_info": {
   "codemirror_mode": {
    "name": "ipython",
    "version": 3
   },
   "file_extension": ".py",
   "mimetype": "text/x-python",
   "name": "python",
   "nbconvert_exporter": "python",
   "pygments_lexer": "ipython3",
   "version": "3.12.7"
  }
 },
 "nbformat": 4,
 "nbformat_minor": 5
}
