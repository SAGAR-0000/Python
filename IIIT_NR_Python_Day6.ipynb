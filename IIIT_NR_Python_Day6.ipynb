{
 "cells": [
  {
   "cell_type": "markdown",
   "id": "6b5fd8ff-96d9-48c2-9803-6943869cf09a",
   "metadata": {},
   "source": [
    "# Functions"
   ]
  },
  {
   "cell_type": "code",
   "execution_count": null,
   "id": "48e8b956-d936-48bc-9d56-4c0e9b02f61f",
   "metadata": {},
   "outputs": [],
   "source": [
    "#Inbuilt\n",
    "\"\"\"\n",
    "id()\n",
    "input()\n",
    "type()\n",
    "eval()\n",
    "\"\"\""
   ]
  },
  {
   "cell_type": "code",
   "execution_count": 13,
   "id": "b6e9e837-3a6f-4b00-9c56-0b70fe67a007",
   "metadata": {},
   "outputs": [],
   "source": [
    "#user defined"
   ]
  },
  {
   "cell_type": "code",
   "execution_count": 15,
   "id": "0193b340-211c-44f0-bb70-fe5e4802aee8",
   "metadata": {},
   "outputs": [],
   "source": [
    "#def function_name(parameters):"
   ]
  },
  {
   "cell_type": "code",
   "execution_count": 19,
   "id": "2453f428-d084-4f8a-acd1-7264529a89f1",
   "metadata": {},
   "outputs": [
    {
     "name": "stdout",
     "output_type": "stream",
     "text": [
      "Hello Durga Good morning!\n",
      "Hello Omcar Good morning!\n"
     ]
    }
   ],
   "source": [
    "def wish(name):\n",
    "    print(\"Hello\",name,\"Good morning!\")\n",
    "wish(\"Durga\")\n",
    "wish(\"Omcar\")"
   ]
  },
  {
   "cell_type": "code",
   "execution_count": 27,
   "id": "a4b0a880-658c-4243-9c1a-618da1bbcdbf",
   "metadata": {},
   "outputs": [
    {
     "name": "stdin",
     "output_type": "stream",
     "text": [
      "Enter a Number 5\n"
     ]
    },
    {
     "name": "stdout",
     "output_type": "stream",
     "text": [
      "Square of Number:  25\n"
     ]
    }
   ],
   "source": [
    "def squaret(num):\n",
    "    print(\"Square of Number: \",num*num)\n",
    "num=int(input(\"Enter a Number\"))\n",
    "squaret(num)"
   ]
  },
  {
   "cell_type": "code",
   "execution_count": 29,
   "id": "2f1ba5f1-d91b-4292-9d60-49c19ca36f45",
   "metadata": {},
   "outputs": [
    {
     "name": "stdin",
     "output_type": "stream",
     "text": [
      "Enter x:  5\n",
      "Enter y:  6\n"
     ]
    },
    {
     "name": "stdout",
     "output_type": "stream",
     "text": [
      "11\n"
     ]
    }
   ],
   "source": [
    "def add(x,y):\n",
    "    print(x+y)\n",
    "x=int(input(\"Enter x: \"))\n",
    "y=int(input(\"Enter y: \"))\n",
    "add(x,y)"
   ]
  },
  {
   "cell_type": "code",
   "execution_count": 37,
   "id": "4401aaff-a89c-45ba-ac40-265cf2cad48e",
   "metadata": {},
   "outputs": [
    {
     "name": "stdout",
     "output_type": "stream",
     "text": [
      "11\n",
      "300\n"
     ]
    }
   ],
   "source": [
    "def add(x,y):\n",
    "    return(x+y)\n",
    "sum=add(5,6)\n",
    "print(sum)\n",
    "print(add(100,200))"
   ]
  },
  {
   "cell_type": "code",
   "execution_count": 43,
   "id": "a38c59d2-fecd-420f-ba57-f91eb9170185",
   "metadata": {},
   "outputs": [
    {
     "name": "stdin",
     "output_type": "stream",
     "text": [
      "Enter a Number:  5\n"
     ]
    },
    {
     "name": "stdout",
     "output_type": "stream",
     "text": [
      "Odd\n",
      "Even\n",
      "Odd\n"
     ]
    }
   ],
   "source": [
    "def even_odd(x):\n",
    "    if(x%2==0):\n",
    "        print(\"Even\")\n",
    "    else:\n",
    "        print(\"Odd\")\n",
    "x=int(input(\"Enter a Number: \"))\n",
    "even_odd(x)\n",
    "even_odd(8)\n",
    "even_odd(1)"
   ]
  },
  {
   "cell_type": "code",
   "execution_count": 91,
   "id": "ceac21a2-e473-48a6-9024-f1216facbf7c",
   "metadata": {},
   "outputs": [
    {
     "name": "stdin",
     "output_type": "stream",
     "text": [
      "Enter Number: 121\n"
     ]
    },
    {
     "name": "stdout",
     "output_type": "stream",
     "text": [
      "Palindrom.\n"
     ]
    }
   ],
   "source": [
    "num=int(input(\"Enter Number:\"))\n",
    "a=str(num)\n",
    "if(a==a[::-1]):\n",
    "    print(\"Palindrom.\")\n",
    "else:\n",
    "    print(\"Not Palindrom.\")"
   ]
  },
  {
   "cell_type": "code",
   "execution_count": 69,
   "id": "4ac73906-a7af-4bf9-ad89-c395b01174c7",
   "metadata": {},
   "outputs": [
    {
     "name": "stdin",
     "output_type": "stream",
     "text": [
      "Enter Number: 5\n"
     ]
    },
    {
     "name": "stdout",
     "output_type": "stream",
     "text": [
      "120\n"
     ]
    }
   ],
   "source": [
    "n = int(input(\"Enter Number:\"))\n",
    "result=1\n",
    "for i in range(1, n + 1):\n",
    "    result *= i \n",
    "print(result)"
   ]
  },
  {
   "cell_type": "code",
   "execution_count": 71,
   "id": "1eb7cb47-19e9-4e9c-a954-b3d1b43ffd95",
   "metadata": {},
   "outputs": [
    {
     "name": "stdout",
     "output_type": "stream",
     "text": [
      "Even: 5 \n",
      " Odd: 5\n"
     ]
    }
   ],
   "source": [
    "def even_odd(x):\n",
    "    evennum=0\n",
    "    oddnum=0\n",
    "    for i in x:\n",
    "        if(i%2==0):\n",
    "            evennum+=1\n",
    "        else:\n",
    "            oddnum+=1\n",
    "    print(\"Even:\",evennum,\"\\n\",\"Odd:\",oddnum)\n",
    "        \n",
    "x=[1,2,3,4,5,6,7,8,9,10]\n",
    "even_odd(x)"
   ]
  },
  {
   "cell_type": "code",
   "execution_count": 87,
   "id": "a7680bb3-0099-422f-b9c8-b84f9fe501d9",
   "metadata": {},
   "outputs": [
    {
     "name": "stdout",
     "output_type": "stream",
     "text": [
      "3 2 4 8\n",
      "10 20 30 40\n",
      "2 3 4 5\n"
     ]
    }
   ],
   "source": [
    "#argument\n",
    "def f(arg1,arg2,arg3=4,arg4=8):\n",
    "    print(arg1,arg2,arg3,arg4)\n",
    "f(3,2)\n",
    "f(10,20,30,40)\n",
    "f(2,3,arg4=5)"
   ]
  },
  {
   "cell_type": "code",
   "execution_count": 11,
   "id": "e6b4c2e8-f7d8-463b-b1f2-3c7ad76ccd8c",
   "metadata": {},
   "outputs": [
    {
     "name": "stdout",
     "output_type": "stream",
     "text": [
      "10\n",
      "10\n"
     ]
    }
   ],
   "source": [
    "a=10 #global var\n",
    "def f():\n",
    "    print(a)\n",
    "    x=10 #local var\n",
    "    print(x)\n",
    "f()"
   ]
  },
  {
   "cell_type": "markdown",
   "id": "432cc530-74c4-45c6-865b-9c4141883088",
   "metadata": {},
   "source": [
    "# Anonymous function(lambda)"
   ]
  },
  {
   "cell_type": "code",
   "execution_count": 13,
   "id": "89b8c69f-f640-42ca-97a4-9882d3ece205",
   "metadata": {},
   "outputs": [
    {
     "data": {
      "text/plain": [
       "<function __main__.<lambda>(n)>"
      ]
     },
     "execution_count": 13,
     "metadata": {},
     "output_type": "execute_result"
    }
   ],
   "source": [
    "#nameless\n",
    "lambda n:n*n"
   ]
  },
  {
   "cell_type": "code",
   "execution_count": 15,
   "id": "11e942a4-28ba-4f81-ba46-fa996cc9d586",
   "metadata": {},
   "outputs": [
    {
     "data": {
      "text/plain": [
       "<function __main__.<lambda>(argument_list)>"
      ]
     },
     "execution_count": 15,
     "metadata": {},
     "output_type": "execute_result"
    }
   ],
   "source": [
    "lambda argument_list:expression"
   ]
  },
  {
   "cell_type": "markdown",
   "id": "20685229-8be7-4772-97cd-8bcd8df7ec45",
   "metadata": {},
   "source": [
    "# Concise readablity"
   ]
  },
  {
   "cell_type": "code",
   "execution_count": 29,
   "id": "cff0c3e9-74aa-45f2-90d3-d77e23d37ee9",
   "metadata": {},
   "outputs": [
    {
     "name": "stdout",
     "output_type": "stream",
     "text": [
      "The square of 4 is: 16\n",
      "The square of 5 is: 25\n"
     ]
    }
   ],
   "source": [
    "s=lambda n:n*n\n",
    "print(\"The square of 4 is:\",s(4))\n",
    "print(\"The square of 5 is:\",s(5))"
   ]
  },
  {
   "cell_type": "code",
   "execution_count": 37,
   "id": "92985344-013b-4582-9de6-660bffa1cce0",
   "metadata": {},
   "outputs": [
    {
     "name": "stdout",
     "output_type": "stream",
     "text": [
      "Sum: 3\n"
     ]
    }
   ],
   "source": [
    "s=lambda a,b:a+b\n",
    "print(\"Sum:\",s(1,2))"
   ]
  },
  {
   "cell_type": "code",
   "execution_count": 43,
   "id": "344c1173-9ffa-49e3-b4ae-3fb908cec04a",
   "metadata": {},
   "outputs": [
    {
     "name": "stdout",
     "output_type": "stream",
     "text": [
      "The Biggest of 10,20 is: 20\n",
      "The Biggest of 100,200 is: 200\n"
     ]
    }
   ],
   "source": [
    "s=lambda a,b:a if a>b else b\n",
    "print(\"The Biggest of 10,20 is:\",s(10,20))\n",
    "print(\"The Biggest of 100,200 is:\",s(100,200))"
   ]
  },
  {
   "cell_type": "markdown",
   "id": "dd36c7b7-c43b-48eb-98d3-799b3ad0dd38",
   "metadata": {},
   "source": [
    "# Inbuilt: filter() func\n",
    "# Filter(function,sequence)"
   ]
  },
  {
   "cell_type": "code",
   "execution_count": 49,
   "id": "c2c8a5c7-f839-4973-b7db-7bc92f2b7001",
   "metadata": {},
   "outputs": [
    {
     "name": "stdout",
     "output_type": "stream",
     "text": [
      "[0, 10, 20, 30]\n"
     ]
    }
   ],
   "source": [
    "def isEven(x):\n",
    "    if x%2==0:\n",
    "        return True\n",
    "    else:\n",
    "        return False\n",
    "l=[0,5,10,15,20,25,30]\n",
    "l1=list(filter(isEven,l))\n",
    "print(l1)"
   ]
  },
  {
   "cell_type": "code",
   "execution_count": 59,
   "id": "d6ad7a16-2693-48e9-88ec-1421ab19cb51",
   "metadata": {},
   "outputs": [
    {
     "name": "stdout",
     "output_type": "stream",
     "text": [
      "[121, 222, 323, 565]\n"
     ]
    }
   ],
   "source": [
    "def isPalindrom(num):\n",
    "    a=str(num)\n",
    "    if(a[::]==a[::-1]):\n",
    "        return True\n",
    "    else:\n",
    "        return False\n",
    "        \n",
    "l=[121,222,323,565,123,544]\n",
    "l1=list(filter(isPalindrom,l))\n",
    "print(l1)"
   ]
  },
  {
   "cell_type": "code",
   "execution_count": 63,
   "id": "43472f61-dcba-4134-ac27-df4959a8a850",
   "metadata": {},
   "outputs": [
    {
     "name": "stdout",
     "output_type": "stream",
     "text": [
      "[0, 10, 20, 30]\n",
      "[5, 15, 25]\n"
     ]
    }
   ],
   "source": [
    "l=[0,5,10,15,20,25,30]\n",
    "l1=list(filter(lambda x:x%2==0,l))\n",
    "print(l1)\n",
    "l2=list(filter(lambda x:x%2!=0,l))\n",
    "print(l2)"
   ]
  },
  {
   "cell_type": "code",
   "execution_count": 89,
   "id": "fcaf7dfe-f75c-4fcf-9fec-a1faaafc8d38",
   "metadata": {},
   "outputs": [
    {
     "name": "stdout",
     "output_type": "stream",
     "text": [
      "[121, 222, 323, 565]\n"
     ]
    }
   ],
   "source": [
    "l=[121,222,323,565,123,544]\n",
    "l1=list(filter(lambda x: str(x)==str(x)[::-1],l))\n",
    "print(l1)"
   ]
  },
  {
   "cell_type": "markdown",
   "id": "1a6de75b-4e2b-4a4f-8730-cb7f37dc7188",
   "metadata": {},
   "source": [
    "# Map() function"
   ]
  },
  {
   "cell_type": "code",
   "execution_count": 99,
   "id": "96f82879-885f-4f1a-96b7-95dca21d624a",
   "metadata": {},
   "outputs": [
    {
     "name": "stdout",
     "output_type": "stream",
     "text": [
      "[2, 4, 6, 8, 10]\n"
     ]
    }
   ],
   "source": [
    "l=[1,2,3,4,5]\n",
    "def double(x):\n",
    "    return 2*x\n",
    "l1=list(map(double,l))\n",
    "print(l1)"
   ]
  },
  {
   "cell_type": "code",
   "execution_count": 101,
   "id": "1de5b438-bf9f-49cf-b7d3-62e15edb772f",
   "metadata": {},
   "outputs": [
    {
     "name": "stdout",
     "output_type": "stream",
     "text": [
      "[2, 4, 6, 8, 10]\n"
     ]
    }
   ],
   "source": [
    "l=[1,2,3,4,5]\n",
    "l1=list(map(lambda x:2*x,l))\n",
    "print(l1)"
   ]
  },
  {
   "cell_type": "markdown",
   "id": "56bc43cd-84c6-49df-b3e9-072c39891a66",
   "metadata": {},
   "source": [
    "# Reduce() functiom"
   ]
  },
  {
   "cell_type": "code",
   "execution_count": 116,
   "id": "9df94f12-13a3-4880-a0f0-f9cf7c08c6bc",
   "metadata": {},
   "outputs": [
    {
     "name": "stdout",
     "output_type": "stream",
     "text": [
      "150\n"
     ]
    }
   ],
   "source": [
    "from functools import *\n",
    "l=[10,20,30,40,50]\n",
    "result=reduce(lambda x,y:x+y,l)\n",
    "print(result)"
   ]
  },
  {
   "cell_type": "markdown",
   "id": "1a89c2d0-c27d-4aaf-8a74-ac0adb788a1e",
   "metadata": {},
   "source": [
    "# Function Aliasing"
   ]
  },
  {
   "cell_type": "code",
   "execution_count": 125,
   "id": "f3834a3f-8e37-4798-bed1-03357ce00fb3",
   "metadata": {},
   "outputs": [
    {
     "name": "stdout",
     "output_type": "stream",
     "text": [
      "2449532071072\n",
      "2449532071072\n",
      "Good Morning Omcar\n",
      "Good Morning Ptanshu\n"
     ]
    }
   ],
   "source": [
    "def wish(name):\n",
    "    print(\"Good Morning\",name)\n",
    "greeting=wish\n",
    "print(id(wish))\n",
    "print(id(greeting))\n",
    "wish(\"Omcar\")\n",
    "greeting(\"Ptanshu\")"
   ]
  },
  {
   "cell_type": "code",
   "execution_count": null,
   "id": "0b2c50f1-9ac8-4ff3-bc5f-d700878bc39d",
   "metadata": {},
   "outputs": [],
   "source": []
  }
 ],
 "metadata": {
  "kernelspec": {
   "display_name": "Python [conda env:base] *",
   "language": "python",
   "name": "conda-base-py"
  },
  "language_info": {
   "codemirror_mode": {
    "name": "ipython",
    "version": 3
   },
   "file_extension": ".py",
   "mimetype": "text/x-python",
   "name": "python",
   "nbconvert_exporter": "python",
   "pygments_lexer": "ipython3",
   "version": "3.12.7"
  }
 },
 "nbformat": 4,
 "nbformat_minor": 5
}
