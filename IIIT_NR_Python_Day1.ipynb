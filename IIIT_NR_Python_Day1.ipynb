{
 "cells": [
  {
   "cell_type": "code",
   "execution_count": 10,
   "id": "d327df20-5110-49e5-b397-bd0540db2236",
   "metadata": {},
   "outputs": [
    {
     "name": "stdout",
     "output_type": "stream",
     "text": [
      "Hello IIIT !\n"
     ]
    }
   ],
   "source": [
    "print(\"Hello IIIT !\")"
   ]
  },
  {
   "cell_type": "code",
   "execution_count": 17,
   "id": "a808660c-399f-4d76-bd1f-891342f0c9ee",
   "metadata": {},
   "outputs": [
    {
     "name": "stdin",
     "output_type": "stream",
     "text": [
      "Enter a:  5\n",
      "Enter b:  5\n"
     ]
    },
    {
     "name": "stdout",
     "output_type": "stream",
     "text": [
      "10\n",
      "10\n"
     ]
    }
   ],
   "source": [
    "a=int(input(\"Enter a: \"))\n",
    "b=int(input(\"Enter b: \"))\n",
    "c=a+b \n",
    "print(c) \n",
    "print(a+b)"
   ]
  },
  {
   "cell_type": "code",
   "execution_count": 31,
   "id": "212c90d4-5846-4e29-8646-d514ff88c8d5",
   "metadata": {},
   "outputs": [],
   "source": [
    "#comment"
   ]
  },
  {
   "cell_type": "code",
   "execution_count": 35,
   "id": "44f9c322-ba5a-4c71-abf4-16bbdc30dc47",
   "metadata": {},
   "outputs": [
    {
     "name": "stdout",
     "output_type": "stream",
     "text": [
      "3\n"
     ]
    }
   ],
   "source": [
    "a,b=1,\"2\"\n",
    "#print(a+b)error(type difference)\n",
    "c=int(b)\n",
    "print(a+c)"
   ]
  },
  {
   "cell_type": "code",
   "execution_count": 47,
   "id": "b76a661b-5328-4fc8-b68e-0d4b18b15ea2",
   "metadata": {},
   "outputs": [
    {
     "name": "stdin",
     "output_type": "stream",
     "text": [
      "Enter a name to get there age:  Alice\n"
     ]
    },
    {
     "name": "stdout",
     "output_type": "stream",
     "text": [
      "25\n"
     ]
    }
   ],
   "source": [
    "age_dict={\n",
    "    \"Alice\": 25,\n",
    "    \"Bob\": 30,\n",
    "    \"Charlie\": 22,\n",
    "    \"Dalid\": 20,\n",
    "    \"Emma\": 35\n",
    "}\n",
    "#Ask user to Enter Name\n",
    "name=input(\"Enter a name to get there age: \")\n",
    "#get method to retrieve age or default msg.\n",
    "print(age_dict.get(name,f\"Sorry, the age for '{name}' is not available.\"))"
   ]
  },
  {
   "cell_type": "code",
   "execution_count": 51,
   "id": "a3c48b98-4f88-4879-94f3-57a4a2519836",
   "metadata": {},
   "outputs": [
    {
     "name": "stdin",
     "output_type": "stream",
     "text": [
      "Enter a name to get there age:  david\n"
     ]
    },
    {
     "name": "stdout",
     "output_type": "stream",
     "text": [
      "Sorry, the age for 'david' is not available.\n"
     ]
    }
   ],
   "source": [
    "age_dict={\n",
    "    \"Alice\": 25,\n",
    "    \"Bob\": 30,\n",
    "    \"Charlie\": 22,\n",
    "    \"David\": 20,\n",
    "    \"Emma\": 35\n",
    "}\n",
    "#Ask user to Enter Name\n",
    "name=input(\"Enter a name to get there age: \")\n",
    "#get method to retrieve age or default msg.\n",
    "print(age_dict.get(name,f\"Sorry, the age for '{name}' is not available.\"))"
   ]
  },
  {
   "cell_type": "code",
   "execution_count": 53,
   "id": "7201d5a8-eda3-4bb5-b170-ed3efadfee32",
   "metadata": {},
   "outputs": [],
   "source": [
    "#Assignment:\n",
    "#square\n",
    "#2 float input and avg\n",
    "#area"
   ]
  },
  {
   "cell_type": "code",
   "execution_count": 1,
   "id": "521508a4-1336-4c66-9b41-1daa820d6116",
   "metadata": {},
   "outputs": [
    {
     "name": "stdin",
     "output_type": "stream",
     "text": [
      "Enter a: 5\n",
      "Enter b: 6\n"
     ]
    },
    {
     "name": "stdout",
     "output_type": "stream",
     "text": [
      "30\n"
     ]
    }
   ],
   "source": [
    "a=int(input(\"Enter a:\"))\n",
    "b=int(input(\"Enter b:\"))\n",
    "c=a*b\n",
    "print(c)"
   ]
  },
  {
   "cell_type": "code",
   "execution_count": 7,
   "id": "ea1a8f62-5b58-4a4f-b959-a25d24755c6a",
   "metadata": {},
   "outputs": [
    {
     "name": "stdin",
     "output_type": "stream",
     "text": [
      "Enter a: 5\n"
     ]
    },
    {
     "name": "stdout",
     "output_type": "stream",
     "text": [
      "Square:  25\n"
     ]
    }
   ],
   "source": [
    "a=int(input(\"Enter a:\"))\n",
    "print(\"Square: \",a*a)"
   ]
  },
  {
   "cell_type": "code",
   "execution_count": 9,
   "id": "c61acf13-f52d-40b2-ae29-b0585159b44d",
   "metadata": {},
   "outputs": [
    {
     "name": "stdin",
     "output_type": "stream",
     "text": [
      "Enter a: 5\n",
      "Enter b: 5\n"
     ]
    },
    {
     "name": "stdout",
     "output_type": "stream",
     "text": [
      "Average 5.0\n"
     ]
    }
   ],
   "source": [
    "a=float(input(\"Enter a:\"))\n",
    "b=float(input(\"Enter b:\"))\n",
    "avg=(a+b)/2\n",
    "print(\"Average\",avg)"
   ]
  },
  {
   "cell_type": "code",
   "execution_count": 3,
   "id": "e591d59d-5c29-46a9-b9d3-47f96061aeb0",
   "metadata": {},
   "outputs": [
    {
     "name": "stdin",
     "output_type": "stream",
     "text": [
      "Enter A: 5\n",
      "Enter B: 6\n"
     ]
    },
    {
     "name": "stdout",
     "output_type": "stream",
     "text": [
      "B is greater\n"
     ]
    }
   ],
   "source": [
    "a=int(input(\"Enter A:\"))\n",
    "b=int(input(\"Enter B:\"))\n",
    "if(a>b):\n",
    "    print(\"A is greater\")\n",
    "else:\n",
    "    print(\"B is greater\")\n",
    "    "
   ]
  },
  {
   "cell_type": "code",
   "execution_count": null,
   "id": "0f6ba65e-0356-4d2f-96e9-75ea65ddf754",
   "metadata": {},
   "outputs": [],
   "source": []
  }
 ],
 "metadata": {
  "kernelspec": {
   "display_name": "Python [conda env:base] *",
   "language": "python",
   "name": "conda-base-py"
  },
  "language_info": {
   "codemirror_mode": {
    "name": "ipython",
    "version": 3
   },
   "file_extension": ".py",
   "mimetype": "text/x-python",
   "name": "python",
   "nbconvert_exporter": "python",
   "pygments_lexer": "ipython3",
   "version": "3.12.7"
  }
 },
 "nbformat": 4,
 "nbformat_minor": 5
}
