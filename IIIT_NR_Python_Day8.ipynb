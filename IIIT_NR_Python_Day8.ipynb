{
 "cells": [
  {
   "cell_type": "code",
   "execution_count": null,
   "id": "2d54039c-2aed-49d8-ab80-7975ca80ec78",
   "metadata": {},
   "outputs": [],
   "source": [
    "\"\"\"\n",
    "Measures of centrality: mean,   sumation\n",
    "                        median,  mid or avg\n",
    "                        mode,    most appeared value\n",
    "                        range,\n",
    "                        standard deviation,\n",
    "                        variance\n",
    "\n",
    "Excel:\n",
    "mean:age_avg   ->  =average(range)\n",
    "median         ->  =median(range)\n",
    "mode           ->  =mode(range)\n",
    "variance       ->  =var(range)\n",
    "stdev          ->  =stdev(range)\n",
    "\n",
    "\n",
    "complete case analysis: (cca)\n",
    "        remove null rows - using notnull : pd.dropna()\n",
    "\"\"\""
   ]
  },
  {
   "cell_type": "code",
   "execution_count": 9,
   "id": "4ced9f43-ad87-4c59-ac35-6fc3f56607e0",
   "metadata": {},
   "outputs": [
    {
     "name": "stdout",
     "output_type": "stream",
     "text": [
      "    BookID Bname Author  Price     YoP\n",
      "0        1     C    AAA   20.0  2021.0\n",
      "2        3  Java    CCC   40.0  2020.0\n",
      "4        5     R    EEE   60.0  2018.0\n",
      "7        8   DSA    HHH   20.0  2015.0\n",
      "10      11  FLAT    KKK   45.0  2012.0\n",
      "13      14    AI    NNN   40.0  2020.0\n",
      "16      17    DL    PPP   34.0  2013.0\n",
      "18      19   DSA    RRR   55.0  2007.0\n"
     ]
    }
   ],
   "source": [
    "#Removing null value rows\n",
    "import pandas as pd\n",
    "df=pd.read_csv(r\"C:\\Users\\Asus\\Desktop\\day 7\\Book.csv\")\n",
    "new_df=df.dropna()\n",
    "print(new_df.to_string())"
   ]
  },
  {
   "cell_type": "code",
   "execution_count": 11,
   "id": "e369f1dc-22ea-48c4-b973-348dd9f92a72",
   "metadata": {},
   "outputs": [
    {
     "name": "stdout",
     "output_type": "stream",
     "text": [
      "    BookID     Bname Author  Price     YoP\n",
      "0        1         C    AAA   20.0  2021.0\n",
      "1        2       CPP    BBB   30.0     NaN\n",
      "2        3      Java    CCC   40.0  2020.0\n",
      "3        4    Python    DDD    NaN  2019.0\n",
      "4        5         R    EEE   60.0  2018.0\n",
      "5        6      Ruby    FFF    NaN  2017.0\n",
      "6        7        OS    NaN   80.0  2016.0\n",
      "7        8       DSA    HHH   20.0  2015.0\n",
      "8        9  Robotics    NaN   45.0  2014.0\n",
      "9       10        DP    JJJ   35.0     NaN\n",
      "10      11      FLAT    KKK   45.0  2012.0\n",
      "11      12        SE    NaN   65.0  2017.0\n",
      "12      13      OOAD    MMM    NaN  2019.0\n",
      "13      14        AI    NNN   40.0  2020.0\n",
      "14      15       NaN    OOO   45.0  2012.0\n",
      "15      16        ML    NaN   33.0  2021.0\n",
      "16      17        DL    PPP   34.0  2013.0\n",
      "17      18       NaN    QQQ    NaN  2009.0\n",
      "18      19       DSA    RRR   55.0  2007.0\n",
      "19      20        DP    NaN   32.0  2003.0\n"
     ]
    }
   ],
   "source": [
    "#Normal Print\n",
    "import pandas as pd\n",
    "df=pd.read_csv(r\"C:\\Users\\Asus\\Desktop\\day 7\\Book.csv\")\n",
    "print(df)"
   ]
  },
  {
   "cell_type": "code",
   "execution_count": 27,
   "id": "7c5a861c-b082-462b-a941-5fbe49601dbf",
   "metadata": {},
   "outputs": [
    {
     "name": "stdout",
     "output_type": "stream",
     "text": [
      "    BookID     Bname Author  Price     YoP\n",
      "0        1         C    AAA   20.0  2021.0\n",
      "1        2       CPP    BBB   30.0   130.0\n",
      "2        3      Java    CCC   40.0  2020.0\n",
      "3        4    Python    DDD  130.0  2019.0\n",
      "4        5         R    EEE   60.0  2018.0\n",
      "5        6      Ruby    FFF  130.0  2017.0\n",
      "6        7        OS    130   80.0  2016.0\n",
      "7        8       DSA    HHH   20.0  2015.0\n",
      "8        9  Robotics    130   45.0  2014.0\n",
      "9       10        DP    JJJ   35.0   130.0\n",
      "10      11      FLAT    KKK   45.0  2012.0\n",
      "11      12        SE    130   65.0  2017.0\n",
      "12      13      OOAD    MMM  130.0  2019.0\n",
      "13      14        AI    NNN   40.0  2020.0\n",
      "14      15       130    OOO   45.0  2012.0\n",
      "15      16        ML    130   33.0  2021.0\n",
      "16      17        DL    PPP   34.0  2013.0\n",
      "17      18       130    QQQ  130.0  2009.0\n",
      "18      19       DSA    RRR   55.0  2007.0\n",
      "19      20        DP    130   32.0  2003.0\n"
     ]
    }
   ],
   "source": [
    "#Fills data where null values are present\n",
    "import pandas as pd\n",
    "df=pd.read_csv(r\"C:\\Users\\Asus\\Desktop\\day 7\\Book.csv\")\n",
    "df.fillna(130,inplace=True)\n",
    "print(df)"
   ]
  },
  {
   "cell_type": "code",
   "execution_count": 80,
   "id": "1cabd331-0620-44bd-b129-0fae39578041",
   "metadata": {},
   "outputs": [
    {
     "name": "stdout",
     "output_type": "stream",
     "text": [
      "    BookID     Bname Author  Price     YoP\n",
      "0        1         C    AAA   20.0  2021.0\n",
      "1        2       CPP    BBB   30.0     NaN\n",
      "2        3      Java    CCC   40.0  2020.0\n",
      "3        4    Python    DDD    0.0  2019.0\n",
      "4        5         R    EEE   60.0  2018.0\n",
      "5        6      Ruby    FFF    0.0  2017.0\n",
      "6        7        OS    NaN   80.0  2016.0\n",
      "7        8       DSA    HHH   20.0  2015.0\n",
      "8        9  Robotics    NaN   45.0  2014.0\n",
      "9       10        DP    JJJ   35.0     NaN\n",
      "10      11      FLAT    KKK   45.0  2012.0\n",
      "11      12        SE    NaN   65.0  2017.0\n",
      "12      13      OOAD    MMM    0.0  2019.0\n",
      "13      14        AI    NNN   40.0  2020.0\n",
      "14      15       NaN    OOO   45.0  2012.0\n",
      "15      16        ML    NaN   33.0  2021.0\n",
      "16      17        DL    PPP   34.0  2013.0\n",
      "17      18       NaN    QQQ    0.0  2009.0\n",
      "18      19       DSA    RRR   55.0  2007.0\n",
      "19      20        DP    NaN   32.0  2003.0\n"
     ]
    },
    {
     "name": "stderr",
     "output_type": "stream",
     "text": [
      "C:\\Users\\Asus\\AppData\\Local\\Temp\\ipykernel_17068\\3242443407.py:4: FutureWarning: A value is trying to be set on a copy of a DataFrame or Series through chained assignment using an inplace method.\n",
      "The behavior will change in pandas 3.0. This inplace method will never work because the intermediate object on which we are setting values always behaves as a copy.\n",
      "\n",
      "For example, when doing 'df[col].method(value, inplace=True)', try using 'df.method({col: value}, inplace=True)' or df[col] = df[col].method(value) instead, to perform the operation inplace on the original object.\n",
      "\n",
      "\n",
      "  df[\"Price\"].fillna(0,inplace=True)\n"
     ]
    }
   ],
   "source": [
    "#Fills data where null values are present in specific column\n",
    "import pandas as pd\n",
    "df=pd.read_csv(r\"C:\\Users\\Asus\\Desktop\\day 7\\Book.csv\")\n",
    "df[\"Price\"].fillna(0,inplace=True)\n",
    "print(df)"
   ]
  },
  {
   "cell_type": "code",
   "execution_count": 53,
   "id": "4351fb12-db23-40f1-9dd9-4ecf72e5a6cc",
   "metadata": {},
   "outputs": [
    {
     "data": {
      "text/plain": [
       "BookID    0.00\n",
       "Bname     0.10\n",
       "Author    0.25\n",
       "Price     0.00\n",
       "YoP       0.10\n",
       "dtype: float64"
      ]
     },
     "execution_count": 53,
     "metadata": {},
     "output_type": "execute_result"
    }
   ],
   "source": [
    "#percentage of null values with mean\n",
    "df.isnull().mean()"
   ]
  },
  {
   "cell_type": "code",
   "execution_count": 55,
   "id": "93c4da3d-1684-475e-aeaf-6169ecf1c4c1",
   "metadata": {},
   "outputs": [
    {
     "data": {
      "text/plain": [
       "33.95"
      ]
     },
     "execution_count": 55,
     "metadata": {},
     "output_type": "execute_result"
    }
   ],
   "source": [
    "df[\"Price\"].mean()"
   ]
  },
  {
   "cell_type": "code",
   "execution_count": 57,
   "id": "d09b612f-7586-4506-8418-1f24cd12e4b5",
   "metadata": {},
   "outputs": [
    {
     "data": {
      "text/plain": [
       "2016.5"
      ]
     },
     "execution_count": 57,
     "metadata": {},
     "output_type": "execute_result"
    }
   ],
   "source": [
    "df[\"YoP\"].median()"
   ]
  },
  {
   "cell_type": "code",
   "execution_count": 63,
   "id": "8956ef3a-b64c-4da5-b4d4-31a887e02eb4",
   "metadata": {},
   "outputs": [
    {
     "data": {
      "text/plain": [
       "0    2012.0\n",
       "1    2017.0\n",
       "2    2019.0\n",
       "3    2020.0\n",
       "4    2021.0\n",
       "Name: YoP, dtype: float64"
      ]
     },
     "execution_count": 63,
     "metadata": {},
     "output_type": "execute_result"
    }
   ],
   "source": [
    "df[\"YoP\"].mode()"
   ]
  },
  {
   "cell_type": "code",
   "execution_count": 82,
   "id": "f40a2891-0f5b-4d22-ae43-0852ad705bad",
   "metadata": {},
   "outputs": [
    {
     "name": "stdout",
     "output_type": "stream",
     "text": [
      "    BookID     Bname Author  Price     YoP  mod_price\n",
      "0        1         C    AAA   20.0  2021.0    20.0000\n",
      "1        2       CPP    BBB   30.0     NaN    30.0000\n",
      "2        3      Java    CCC   40.0  2020.0    40.0000\n",
      "3        4    Python    DDD    NaN  2019.0    42.4375\n",
      "4        5         R    EEE   60.0  2018.0    60.0000\n",
      "5        6      Ruby    FFF    NaN  2017.0    42.4375\n",
      "6        7        OS    NaN   80.0  2016.0    80.0000\n",
      "7        8       DSA    HHH   20.0  2015.0    20.0000\n",
      "8        9  Robotics    NaN   45.0  2014.0    45.0000\n",
      "9       10        DP    JJJ   35.0     NaN    35.0000\n",
      "10      11      FLAT    KKK   45.0  2012.0    45.0000\n",
      "11      12        SE    NaN   65.0  2017.0    65.0000\n",
      "12      13      OOAD    MMM    NaN  2019.0    42.4375\n",
      "13      14        AI    NNN   40.0  2020.0    40.0000\n",
      "14      15       NaN    OOO   45.0  2012.0    45.0000\n",
      "15      16        ML    NaN   33.0  2021.0    33.0000\n",
      "16      17        DL    PPP   34.0  2013.0    34.0000\n",
      "17      18       NaN    QQQ    NaN  2009.0    42.4375\n",
      "18      19       DSA    RRR   55.0  2007.0    55.0000\n",
      "19      20        DP    NaN   32.0  2003.0    32.0000\n"
     ]
    }
   ],
   "source": [
    "import pandas as pd\n",
    "df=pd.read_csv(r\"C:\\Users\\Asus\\Desktop\\day 7\\Book.csv\")\n",
    "df[\"mod_price\"] = df[\"Price\"].fillna(df[\"Price\"].mean())\n",
    "print(df)"
   ]
  },
  {
   "cell_type": "code",
   "execution_count": 21,
   "id": "f8525e92-9a92-4973-918e-956b2ea94af4",
   "metadata": {},
   "outputs": [
    {
     "name": "stdout",
     "output_type": "stream",
     "text": [
      "    Id no  inst    time  status   age  Gender  ph.ecog  pat.  meal. Cal  \\\n",
      "0       1     3   306.0     2.0  74.0     1.0      1.0   100     1175.0   \n",
      "1       2     3   455.0     2.0  68.0     1.0      0.0    90     1225.0   \n",
      "2       3     3  1010.0     1.0  56.0     1.0      0.0    90        NaN   \n",
      "3       4     5   210.0     NaN  57.0     1.0      1.0    60     1150.0   \n",
      "4       5     1   883.0     2.0  60.0     1.0      0.0    90        NaN   \n",
      "5       6    12  1022.0     1.0   NaN     1.0      1.0    80      513.0   \n",
      "6       7     7   310.0     2.0  68.0     2.0      2.0    60      384.0   \n",
      "7       8    11     NaN     2.0  71.0     2.0      2.0    80      538.0   \n",
      "8       9     1   218.0     2.0  53.0     1.0      1.0    80      825.0   \n",
      "9      10     7   166.0     2.0  61.0     NaN      2.0    70      271.0   \n",
      "10     11     6   170.0     2.0  57.0     1.0      1.0    80     1025.0   \n",
      "11     12    16   654.0     2.0  68.0     2.0      2.0    70        NaN   \n",
      "12     13    11   728.0     2.0  68.0     2.0      1.0    90        NaN   \n",
      "13     14    21    71.0     2.0  60.0     1.0      NaN    70     1225.0   \n",
      "14     15    12   567.0     2.0  57.0     1.0      1.0    70     2600.0   \n",
      "\n",
      "    wt.loss  \n",
      "0       NaN  \n",
      "1      15.0  \n",
      "2      15.0  \n",
      "3      11.0  \n",
      "4       0.0  \n",
      "5       0.0  \n",
      "6      10.0  \n",
      "7       1.0  \n",
      "8      16.0  \n",
      "9      34.0  \n",
      "10     27.0  \n",
      "11     23.0  \n",
      "12      5.0  \n",
      "13     32.0  \n",
      "14     60.0  \n"
     ]
    }
   ],
   "source": [
    "import pandas as pd\n",
    "df=pd.read_csv(r\"C:\\Users\\Asus\\Desktop\\day8\\NCTT.csv\")\n",
    "print(df)"
   ]
  },
  {
   "cell_type": "code",
   "execution_count": 47,
   "id": "7a49dce2-3be5-483d-ae62-aa3f623100c1",
   "metadata": {},
   "outputs": [
    {
     "name": "stdout",
     "output_type": "stream",
     "text": [
      "993.7272727272726\n"
     ]
    }
   ],
   "source": [
    "sf=df[\"meal. Cal\"].mean()\n",
    "print(sf)"
   ]
  },
  {
   "cell_type": "code",
   "execution_count": 31,
   "id": "67b99b70-3ff9-42d0-af6a-c6985c483773",
   "metadata": {},
   "outputs": [
    {
     "data": {
      "text/plain": [
       "0    1.0\n",
       "Name: Gender, dtype: float64"
      ]
     },
     "execution_count": 31,
     "metadata": {},
     "output_type": "execute_result"
    }
   ],
   "source": [
    "df[\"Gender\"].mode()"
   ]
  },
  {
   "cell_type": "code",
   "execution_count": 33,
   "id": "0afc35f8-13cf-4c66-9f7e-52e1759ff507",
   "metadata": {},
   "outputs": [
    {
     "data": {
      "text/plain": [
       "382.5"
      ]
     },
     "execution_count": 33,
     "metadata": {},
     "output_type": "execute_result"
    }
   ],
   "source": [
    "df[\"time\"].median()"
   ]
  },
  {
   "cell_type": "code",
   "execution_count": 35,
   "id": "d2847cf6-c244-4e85-a88d-7db03407bfc5",
   "metadata": {},
   "outputs": [
    {
     "data": {
      "text/plain": [
       "Id no          8.000000\n",
       "inst           7.933333\n",
       "time         483.571429\n",
       "status         1.857143\n",
       "age           62.714286\n",
       "Gender         1.285714\n",
       "ph.ecog        1.071429\n",
       "pat.          78.666667\n",
       "meal. Cal    993.727273\n",
       "wt.loss       17.785714\n",
       "dtype: float64"
      ]
     },
     "execution_count": 35,
     "metadata": {},
     "output_type": "execute_result"
    }
   ],
   "source": [
    "df.mean()"
   ]
  },
  {
   "cell_type": "code",
   "execution_count": 59,
   "id": "538b9d69-01b3-406e-9d8a-9332652e2018",
   "metadata": {},
   "outputs": [
    {
     "name": "stdout",
     "output_type": "stream",
     "text": [
      "     PassengerId  Survived  Pclass  \\\n",
      "0              1         0       3   \n",
      "1              2         1       1   \n",
      "2              3         1       3   \n",
      "3              4         1       1   \n",
      "4              5         0       3   \n",
      "..           ...       ...     ...   \n",
      "886          887         0       2   \n",
      "887          888         1       1   \n",
      "888          889         0       3   \n",
      "889          890         1       1   \n",
      "890          891         0       3   \n",
      "\n",
      "                                                  Name     Sex   Age  SibSp  \\\n",
      "0                              Braund, Mr. Owen Harris    male  22.0      1   \n",
      "1    Cumings, Mrs. John Bradley (Florence Briggs Th...  female  38.0      1   \n",
      "2                               Heikkinen, Miss. Laina  female  26.0      0   \n",
      "3         Futrelle, Mrs. Jacques Heath (Lily May Peel)  female  35.0      1   \n",
      "4                             Allen, Mr. William Henry    male  35.0      0   \n",
      "..                                                 ...     ...   ...    ...   \n",
      "886                              Montvila, Rev. Juozas    male  27.0      0   \n",
      "887                       Graham, Miss. Margaret Edith  female  19.0      0   \n",
      "888           Johnston, Miss. Catherine Helen \"Carrie\"  female   NaN      1   \n",
      "889                              Behr, Mr. Karl Howell    male  26.0      0   \n",
      "890                                Dooley, Mr. Patrick    male  32.0      0   \n",
      "\n",
      "     Parch            Ticket     Fare Cabin Embarked  \n",
      "0        0         A/5 21171   7.2500   NaN        S  \n",
      "1        0          PC 17599  71.2833   C85        C  \n",
      "2        0  STON/O2. 3101282   7.9250   NaN        S  \n",
      "3        0            113803  53.1000  C123        S  \n",
      "4        0            373450   8.0500   NaN        S  \n",
      "..     ...               ...      ...   ...      ...  \n",
      "886      0            211536  13.0000   NaN        S  \n",
      "887      0            112053  30.0000   B42        S  \n",
      "888      2        W./C. 6607  23.4500   NaN        S  \n",
      "889      0            111369  30.0000  C148        C  \n",
      "890      0            370376   7.7500   NaN        Q  \n",
      "\n",
      "[891 rows x 12 columns]\n"
     ]
    }
   ],
   "source": [
    "import pandas as pd\n",
    "df=pd.read_csv(r\"C:\\Users\\Asus\\Desktop\\day8\\titanic.csv\")\n",
    "print(df)"
   ]
  },
  {
   "cell_type": "code",
   "execution_count": 61,
   "id": "e082e798-5b23-4fa6-87fb-f506f1d2919f",
   "metadata": {},
   "outputs": [
    {
     "data": {
      "text/plain": [
       "PassengerId    0.000000\n",
       "Survived       0.000000\n",
       "Pclass         0.000000\n",
       "Name           0.000000\n",
       "Sex            0.000000\n",
       "Age            0.198653\n",
       "SibSp          0.000000\n",
       "Parch          0.000000\n",
       "Ticket         0.000000\n",
       "Fare           0.000000\n",
       "Cabin          0.771044\n",
       "Embarked       0.002245\n",
       "dtype: float64"
      ]
     },
     "execution_count": 61,
     "metadata": {},
     "output_type": "execute_result"
    }
   ],
   "source": [
    "df.isnull().mean()"
   ]
  },
  {
   "cell_type": "code",
   "execution_count": 67,
   "id": "5fb0bc1d-c1c7-43e0-bfd7-02fcaad40698",
   "metadata": {},
   "outputs": [
    {
     "name": "stdout",
     "output_type": "stream",
     "text": [
      "        Sex  Pclass Embarked\n",
      "0      male       3        S\n",
      "1    female       1        C\n",
      "2    female       3        S\n",
      "3    female       1        S\n",
      "4      male       3        S\n",
      "..      ...     ...      ...\n",
      "886    male       2        S\n",
      "887  female       1        S\n",
      "888  female       3        S\n",
      "889    male       1        C\n",
      "890    male       3        Q\n",
      "\n",
      "[891 rows x 3 columns]\n"
     ]
    }
   ],
   "source": [
    "td2=df[[\"Sex\",\"Pclass\",\"Embarked\"]]\n",
    "print(td2)"
   ]
  },
  {
   "cell_type": "code",
   "execution_count": 73,
   "id": "e4e8516f-0034-4beb-9ae5-0821370b864d",
   "metadata": {},
   "outputs": [
    {
     "name": "stdout",
     "output_type": "stream",
     "text": [
      "    Embarked   Age     Fare\n",
      "0          S  22.0   7.2500\n",
      "1          C  38.0  71.2833\n",
      "2          S  26.0   7.9250\n",
      "3          S  35.0  53.1000\n",
      "4          S  35.0   8.0500\n",
      "..       ...   ...      ...\n",
      "886        S  27.0  13.0000\n",
      "887        S  19.0  30.0000\n",
      "888        S   NaN  23.4500\n",
      "889        C  26.0  30.0000\n",
      "890        Q  32.0   7.7500\n",
      "\n",
      "[891 rows x 3 columns]\n"
     ]
    },
    {
     "data": {
      "text/html": [
       "<div>\n",
       "<style scoped>\n",
       "    .dataframe tbody tr th:only-of-type {\n",
       "        vertical-align: middle;\n",
       "    }\n",
       "\n",
       "    .dataframe tbody tr th {\n",
       "        vertical-align: top;\n",
       "    }\n",
       "\n",
       "    .dataframe thead th {\n",
       "        text-align: right;\n",
       "    }\n",
       "</style>\n",
       "<table border=\"1\" class=\"dataframe\">\n",
       "  <thead>\n",
       "    <tr style=\"text-align: right;\">\n",
       "      <th></th>\n",
       "      <th>Embarked</th>\n",
       "      <th>Age</th>\n",
       "      <th>Fare</th>\n",
       "    </tr>\n",
       "  </thead>\n",
       "  <tbody>\n",
       "    <tr>\n",
       "      <th>0</th>\n",
       "      <td>S</td>\n",
       "      <td>22.0</td>\n",
       "      <td>7.2500</td>\n",
       "    </tr>\n",
       "    <tr>\n",
       "      <th>1</th>\n",
       "      <td>C</td>\n",
       "      <td>38.0</td>\n",
       "      <td>71.2833</td>\n",
       "    </tr>\n",
       "    <tr>\n",
       "      <th>2</th>\n",
       "      <td>S</td>\n",
       "      <td>26.0</td>\n",
       "      <td>7.9250</td>\n",
       "    </tr>\n",
       "    <tr>\n",
       "      <th>3</th>\n",
       "      <td>S</td>\n",
       "      <td>35.0</td>\n",
       "      <td>53.1000</td>\n",
       "    </tr>\n",
       "    <tr>\n",
       "      <th>4</th>\n",
       "      <td>S</td>\n",
       "      <td>35.0</td>\n",
       "      <td>8.0500</td>\n",
       "    </tr>\n",
       "  </tbody>\n",
       "</table>\n",
       "</div>"
      ],
      "text/plain": [
       "  Embarked   Age     Fare\n",
       "0        S  22.0   7.2500\n",
       "1        C  38.0  71.2833\n",
       "2        S  26.0   7.9250\n",
       "3        S  35.0  53.1000\n",
       "4        S  35.0   8.0500"
      ]
     },
     "execution_count": 73,
     "metadata": {},
     "output_type": "execute_result"
    }
   ],
   "source": [
    "td1=df[[\"Embarked\",\"Age\",\"Fare\"]]\n",
    "print(td1)\n",
    "td1.head()"
   ]
  },
  {
   "cell_type": "code",
   "execution_count": 83,
   "id": "918acda1-e0dd-496b-9f0d-bcd94280ec1f",
   "metadata": {},
   "outputs": [
    {
     "data": {
      "text/html": [
       "<div>\n",
       "<style scoped>\n",
       "    .dataframe tbody tr th:only-of-type {\n",
       "        vertical-align: middle;\n",
       "    }\n",
       "\n",
       "    .dataframe tbody tr th {\n",
       "        vertical-align: top;\n",
       "    }\n",
       "\n",
       "    .dataframe thead th {\n",
       "        text-align: right;\n",
       "    }\n",
       "</style>\n",
       "<table border=\"1\" class=\"dataframe\">\n",
       "  <thead>\n",
       "    <tr style=\"text-align: right;\">\n",
       "      <th></th>\n",
       "      <th>PassengerId</th>\n",
       "      <th>Survived</th>\n",
       "      <th>Pclass</th>\n",
       "      <th>Name</th>\n",
       "      <th>Sex</th>\n",
       "      <th>Age</th>\n",
       "      <th>SibSp</th>\n",
       "      <th>Parch</th>\n",
       "      <th>Ticket</th>\n",
       "      <th>Fare</th>\n",
       "      <th>Cabin</th>\n",
       "      <th>Embarked</th>\n",
       "    </tr>\n",
       "  </thead>\n",
       "  <tbody>\n",
       "    <tr>\n",
       "      <th>0</th>\n",
       "      <td>1</td>\n",
       "      <td>0</td>\n",
       "      <td>3</td>\n",
       "      <td>Braund, Mr. Owen Harris</td>\n",
       "      <td>male</td>\n",
       "      <td>22.0</td>\n",
       "      <td>1</td>\n",
       "      <td>0</td>\n",
       "      <td>A/5 21171</td>\n",
       "      <td>7.2500</td>\n",
       "      <td>NaN</td>\n",
       "      <td>S</td>\n",
       "    </tr>\n",
       "    <tr>\n",
       "      <th>1</th>\n",
       "      <td>2</td>\n",
       "      <td>1</td>\n",
       "      <td>1</td>\n",
       "      <td>Cumings, Mrs. John Bradley (Florence Briggs Th...</td>\n",
       "      <td>female</td>\n",
       "      <td>38.0</td>\n",
       "      <td>1</td>\n",
       "      <td>0</td>\n",
       "      <td>PC 17599</td>\n",
       "      <td>71.2833</td>\n",
       "      <td>C85</td>\n",
       "      <td>C</td>\n",
       "    </tr>\n",
       "    <tr>\n",
       "      <th>2</th>\n",
       "      <td>3</td>\n",
       "      <td>1</td>\n",
       "      <td>3</td>\n",
       "      <td>Heikkinen, Miss. Laina</td>\n",
       "      <td>female</td>\n",
       "      <td>26.0</td>\n",
       "      <td>0</td>\n",
       "      <td>0</td>\n",
       "      <td>STON/O2. 3101282</td>\n",
       "      <td>7.9250</td>\n",
       "      <td>NaN</td>\n",
       "      <td>S</td>\n",
       "    </tr>\n",
       "    <tr>\n",
       "      <th>3</th>\n",
       "      <td>4</td>\n",
       "      <td>1</td>\n",
       "      <td>1</td>\n",
       "      <td>Futrelle, Mrs. Jacques Heath (Lily May Peel)</td>\n",
       "      <td>female</td>\n",
       "      <td>35.0</td>\n",
       "      <td>1</td>\n",
       "      <td>0</td>\n",
       "      <td>113803</td>\n",
       "      <td>53.1000</td>\n",
       "      <td>C123</td>\n",
       "      <td>S</td>\n",
       "    </tr>\n",
       "    <tr>\n",
       "      <th>4</th>\n",
       "      <td>5</td>\n",
       "      <td>0</td>\n",
       "      <td>3</td>\n",
       "      <td>Allen, Mr. William Henry</td>\n",
       "      <td>male</td>\n",
       "      <td>35.0</td>\n",
       "      <td>0</td>\n",
       "      <td>0</td>\n",
       "      <td>373450</td>\n",
       "      <td>8.0500</td>\n",
       "      <td>NaN</td>\n",
       "      <td>S</td>\n",
       "    </tr>\n",
       "  </tbody>\n",
       "</table>\n",
       "</div>"
      ],
      "text/plain": [
       "   PassengerId  Survived  Pclass  \\\n",
       "0            1         0       3   \n",
       "1            2         1       1   \n",
       "2            3         1       3   \n",
       "3            4         1       1   \n",
       "4            5         0       3   \n",
       "\n",
       "                                                Name     Sex   Age  SibSp  \\\n",
       "0                            Braund, Mr. Owen Harris    male  22.0      1   \n",
       "1  Cumings, Mrs. John Bradley (Florence Briggs Th...  female  38.0      1   \n",
       "2                             Heikkinen, Miss. Laina  female  26.0      0   \n",
       "3       Futrelle, Mrs. Jacques Heath (Lily May Peel)  female  35.0      1   \n",
       "4                           Allen, Mr. William Henry    male  35.0      0   \n",
       "\n",
       "   Parch            Ticket     Fare Cabin Embarked  \n",
       "0      0         A/5 21171   7.2500   NaN        S  \n",
       "1      0          PC 17599  71.2833   C85        C  \n",
       "2      0  STON/O2. 3101282   7.9250   NaN        S  \n",
       "3      0            113803  53.1000  C123        S  \n",
       "4      0            373450   8.0500   NaN        S  "
      ]
     },
     "execution_count": 83,
     "metadata": {},
     "output_type": "execute_result"
    }
   ],
   "source": [
    "df.head()"
   ]
  },
  {
   "cell_type": "code",
   "execution_count": 87,
   "id": "c0f03dca-e42c-4f11-b8c3-2ae3a6a3ba53",
   "metadata": {},
   "outputs": [
    {
     "data": {
      "text/html": [
       "<div>\n",
       "<style scoped>\n",
       "    .dataframe tbody tr th:only-of-type {\n",
       "        vertical-align: middle;\n",
       "    }\n",
       "\n",
       "    .dataframe tbody tr th {\n",
       "        vertical-align: top;\n",
       "    }\n",
       "\n",
       "    .dataframe thead th {\n",
       "        text-align: right;\n",
       "    }\n",
       "</style>\n",
       "<table border=\"1\" class=\"dataframe\">\n",
       "  <thead>\n",
       "    <tr style=\"text-align: right;\">\n",
       "      <th></th>\n",
       "      <th>PassengerId</th>\n",
       "      <th>Survived</th>\n",
       "      <th>Pclass</th>\n",
       "      <th>Name</th>\n",
       "      <th>Sex</th>\n",
       "      <th>Age</th>\n",
       "      <th>SibSp</th>\n",
       "      <th>Parch</th>\n",
       "      <th>Ticket</th>\n",
       "      <th>Fare</th>\n",
       "      <th>Cabin</th>\n",
       "      <th>Embarked</th>\n",
       "    </tr>\n",
       "  </thead>\n",
       "  <tbody>\n",
       "    <tr>\n",
       "      <th>886</th>\n",
       "      <td>887</td>\n",
       "      <td>0</td>\n",
       "      <td>2</td>\n",
       "      <td>Montvila, Rev. Juozas</td>\n",
       "      <td>male</td>\n",
       "      <td>27.0</td>\n",
       "      <td>0</td>\n",
       "      <td>0</td>\n",
       "      <td>211536</td>\n",
       "      <td>13.00</td>\n",
       "      <td>NaN</td>\n",
       "      <td>S</td>\n",
       "    </tr>\n",
       "    <tr>\n",
       "      <th>887</th>\n",
       "      <td>888</td>\n",
       "      <td>1</td>\n",
       "      <td>1</td>\n",
       "      <td>Graham, Miss. Margaret Edith</td>\n",
       "      <td>female</td>\n",
       "      <td>19.0</td>\n",
       "      <td>0</td>\n",
       "      <td>0</td>\n",
       "      <td>112053</td>\n",
       "      <td>30.00</td>\n",
       "      <td>B42</td>\n",
       "      <td>S</td>\n",
       "    </tr>\n",
       "    <tr>\n",
       "      <th>888</th>\n",
       "      <td>889</td>\n",
       "      <td>0</td>\n",
       "      <td>3</td>\n",
       "      <td>Johnston, Miss. Catherine Helen \"Carrie\"</td>\n",
       "      <td>female</td>\n",
       "      <td>NaN</td>\n",
       "      <td>1</td>\n",
       "      <td>2</td>\n",
       "      <td>W./C. 6607</td>\n",
       "      <td>23.45</td>\n",
       "      <td>NaN</td>\n",
       "      <td>S</td>\n",
       "    </tr>\n",
       "    <tr>\n",
       "      <th>889</th>\n",
       "      <td>890</td>\n",
       "      <td>1</td>\n",
       "      <td>1</td>\n",
       "      <td>Behr, Mr. Karl Howell</td>\n",
       "      <td>male</td>\n",
       "      <td>26.0</td>\n",
       "      <td>0</td>\n",
       "      <td>0</td>\n",
       "      <td>111369</td>\n",
       "      <td>30.00</td>\n",
       "      <td>C148</td>\n",
       "      <td>C</td>\n",
       "    </tr>\n",
       "    <tr>\n",
       "      <th>890</th>\n",
       "      <td>891</td>\n",
       "      <td>0</td>\n",
       "      <td>3</td>\n",
       "      <td>Dooley, Mr. Patrick</td>\n",
       "      <td>male</td>\n",
       "      <td>32.0</td>\n",
       "      <td>0</td>\n",
       "      <td>0</td>\n",
       "      <td>370376</td>\n",
       "      <td>7.75</td>\n",
       "      <td>NaN</td>\n",
       "      <td>Q</td>\n",
       "    </tr>\n",
       "  </tbody>\n",
       "</table>\n",
       "</div>"
      ],
      "text/plain": [
       "     PassengerId  Survived  Pclass                                      Name  \\\n",
       "886          887         0       2                     Montvila, Rev. Juozas   \n",
       "887          888         1       1              Graham, Miss. Margaret Edith   \n",
       "888          889         0       3  Johnston, Miss. Catherine Helen \"Carrie\"   \n",
       "889          890         1       1                     Behr, Mr. Karl Howell   \n",
       "890          891         0       3                       Dooley, Mr. Patrick   \n",
       "\n",
       "        Sex   Age  SibSp  Parch      Ticket   Fare Cabin Embarked  \n",
       "886    male  27.0      0      0      211536  13.00   NaN        S  \n",
       "887  female  19.0      0      0      112053  30.00   B42        S  \n",
       "888  female   NaN      1      2  W./C. 6607  23.45   NaN        S  \n",
       "889    male  26.0      0      0      111369  30.00  C148        C  \n",
       "890    male  32.0      0      0      370376   7.75   NaN        Q  "
      ]
     },
     "execution_count": 87,
     "metadata": {},
     "output_type": "execute_result"
    }
   ],
   "source": [
    "df.tail()"
   ]
  },
  {
   "cell_type": "code",
   "execution_count": 89,
   "id": "07e8e2fb-0581-4176-9861-92bd2b8cf4de",
   "metadata": {},
   "outputs": [
    {
     "data": {
      "text/plain": [
       "Sex         0.000000\n",
       "Pclass      0.000000\n",
       "Embarked    0.002245\n",
       "dtype: float64"
      ]
     },
     "execution_count": 89,
     "metadata": {},
     "output_type": "execute_result"
    }
   ],
   "source": [
    "td2.isnull().mean()"
   ]
  },
  {
   "cell_type": "code",
   "execution_count": 91,
   "id": "39ae08bf-93dd-49c8-8f8b-c55041a770e9",
   "metadata": {},
   "outputs": [
    {
     "data": {
      "text/plain": [
       "Embarked    0.002245\n",
       "Age         0.198653\n",
       "Fare        0.000000\n",
       "dtype: float64"
      ]
     },
     "execution_count": 91,
     "metadata": {},
     "output_type": "execute_result"
    }
   ],
   "source": [
    "td1.isnull().mean()"
   ]
  },
  {
   "cell_type": "code",
   "execution_count": 109,
   "id": "545c06b9-864a-41cd-86d1-2c13bccbf686",
   "metadata": {},
   "outputs": [
    {
     "data": {
      "text/plain": [
       "0    S\n",
       "Name: Embarked, dtype: object"
      ]
     },
     "execution_count": 109,
     "metadata": {},
     "output_type": "execute_result"
    }
   ],
   "source": [
    "td1.Embarked.mode()"
   ]
  },
  {
   "cell_type": "code",
   "execution_count": 121,
   "id": "db3e2e7c-cdc6-4bb4-85f9-407e3210fd95",
   "metadata": {},
   "outputs": [
    {
     "data": {
      "text/plain": [
       "0      S\n",
       "1      C\n",
       "2      S\n",
       "3      S\n",
       "4      S\n",
       "      ..\n",
       "886    S\n",
       "887    S\n",
       "888    S\n",
       "889    C\n",
       "890    Q\n",
       "Name: Embarked, Length: 891, dtype: object"
      ]
     },
     "execution_count": 121,
     "metadata": {},
     "output_type": "execute_result"
    }
   ],
   "source": [
    "td1.Embarked.fillna(\"S\")"
   ]
  },
  {
   "cell_type": "code",
   "execution_count": 113,
   "id": "bfbee6d6-9bf5-46b8-8fba-b6f93f2a92fb",
   "metadata": {},
   "outputs": [
    {
     "data": {
      "text/plain": [
       "0    24.0\n",
       "Name: Age, dtype: float64"
      ]
     },
     "execution_count": 113,
     "metadata": {},
     "output_type": "execute_result"
    }
   ],
   "source": [
    "td1.Age.mode()"
   ]
  },
  {
   "cell_type": "code",
   "execution_count": 123,
   "id": "23cc2415-8ddb-44e1-9c62-afbcf07dfd1b",
   "metadata": {},
   "outputs": [
    {
     "data": {
      "text/plain": [
       "0      22.0\n",
       "1      38.0\n",
       "2      26.0\n",
       "3      35.0\n",
       "4      35.0\n",
       "       ... \n",
       "886    27.0\n",
       "887    19.0\n",
       "888    24.0\n",
       "889    26.0\n",
       "890    32.0\n",
       "Name: Age, Length: 891, dtype: float64"
      ]
     },
     "execution_count": 123,
     "metadata": {},
     "output_type": "execute_result"
    }
   ],
   "source": [
    "td1.Age.fillna(24.0)"
   ]
  },
  {
   "cell_type": "code",
   "execution_count": 125,
   "id": "d2e16ca2-8be1-4991-b41a-1e5d19427025",
   "metadata": {},
   "outputs": [
    {
     "data": {
      "text/plain": [
       "0    8.05\n",
       "Name: Fare, dtype: float64"
      ]
     },
     "execution_count": 125,
     "metadata": {},
     "output_type": "execute_result"
    }
   ],
   "source": [
    "td1.Fare.mode()"
   ]
  },
  {
   "cell_type": "code",
   "execution_count": 127,
   "id": "ebc11fc2-cf7b-4ab8-b4f6-f890a3ce38b1",
   "metadata": {},
   "outputs": [
    {
     "data": {
      "text/plain": [
       "0       7.2500\n",
       "1      71.2833\n",
       "2       7.9250\n",
       "3      53.1000\n",
       "4       8.0500\n",
       "        ...   \n",
       "886    13.0000\n",
       "887    30.0000\n",
       "888    23.4500\n",
       "889    30.0000\n",
       "890     7.7500\n",
       "Name: Fare, Length: 891, dtype: float64"
      ]
     },
     "execution_count": 127,
     "metadata": {},
     "output_type": "execute_result"
    }
   ],
   "source": [
    "td1.Fare.fillna(8.05)"
   ]
  },
  {
   "cell_type": "code",
   "execution_count": 129,
   "id": "10dbeeeb-49db-4e3c-95a6-4b2c7d4fbc82",
   "metadata": {},
   "outputs": [
    {
     "name": "stdout",
     "output_type": "stream",
     "text": [
      "    Embarked   Age     Fare\n",
      "0          S  22.0   7.2500\n",
      "1          C  38.0  71.2833\n",
      "2          S  26.0   7.9250\n",
      "3          S  35.0  53.1000\n",
      "4          S  35.0   8.0500\n",
      "..       ...   ...      ...\n",
      "886        S  27.0  13.0000\n",
      "887        S  19.0  30.0000\n",
      "888        S   NaN  23.4500\n",
      "889        C  26.0  30.0000\n",
      "890        Q  32.0   7.7500\n",
      "\n",
      "[891 rows x 3 columns]\n"
     ]
    }
   ],
   "source": [
    "print(td1)"
   ]
  },
  {
   "cell_type": "code",
   "execution_count": 141,
   "id": "ece4f536-e391-4686-923f-6a479ada240c",
   "metadata": {},
   "outputs": [
    {
     "data": {
      "text/plain": [
       "<Axes: ylabel='Frequency'>"
      ]
     },
     "execution_count": 141,
     "metadata": {},
     "output_type": "execute_result"
    },
    {
     "data": {
      "image/png": "[encoded data removed]",
      "text/plain": [
       "<Figure size 640x480 with 1 Axes>"
      ]
     },
     "metadata": {},
     "output_type": "display_data"
    }
   ],
   "source": [
    "import pandas as pd\n",
    "import matplotlib.pyplot as plt \n",
    "df[\"Age\"].plot(kind=\"hist\")"
   ]
  },
  {
   "cell_type": "code",
   "execution_count": 221,
   "id": "43d73b78-f3a7-43ab-a449-6ac0d381d431",
   "metadata": {},
   "outputs": [
    {
     "name": "stderr",
     "output_type": "stream",
     "text": [
      "C:\\Users\\Asus\\AppData\\Local\\Temp\\ipykernel_10616\\47952103.py:3: FutureWarning: A value is trying to be set on a copy of a DataFrame or Series through chained assignment using an inplace method.\n",
      "The behavior will change in pandas 3.0. This inplace method will never work because the intermediate object on which we are setting values always behaves as a copy.\n",
      "\n",
      "For example, when doing 'df[col].method(value, inplace=True)', try using 'df.method({col: value}, inplace=True)' or df[col] = df[col].method(value) instead, to perform the operation inplace on the original object.\n",
      "\n",
      "\n",
      "  td1[\"Age\"].fillna(x,inplace=True)\n",
      "C:\\Users\\Asus\\AppData\\Local\\Temp\\ipykernel_10616\\47952103.py:3: SettingWithCopyWarning: \n",
      "A value is trying to be set on a copy of a slice from a DataFrame\n",
      "\n",
      "See the caveats in the documentation: https://pandas.pydata.org/pandas-docs/stable/user_guide/indexing.html#returning-a-view-versus-a-copy\n",
      "  td1[\"Age\"].fillna(x,inplace=True)\n"
     ]
    },
    {
     "data": {
      "text/plain": [
       "<Axes: ylabel='Frequency'>"
      ]
     },
     "execution_count": 221,
     "metadata": {},
     "output_type": "execute_result"
    },
    {
     "data": {
      "image/png": "[encoded data removed]",
      "text/plain": [
       "<Figure size 640x480 with 1 Axes>"
      ]
     },
     "metadata": {},
     "output_type": "display_data"
    }
   ],
   "source": [
    "td1=df[[\"Embarked\",\"Age\",\"Fare\"]]\n",
    "x=td1[\"Age\"].mean()\n",
    "td1[\"Age\"].fillna(x,inplace=True)\n",
    "td1[\"Age\"].plot(kind=\"hist\")"
   ]
  },
  {
   "cell_type": "code",
   "execution_count": 237,
   "id": "130c034a-2b8b-45c6-98b9-24a6afc6febb",
   "metadata": {},
   "outputs": [
    {
     "name": "stdout",
     "output_type": "stream",
     "text": [
      "    Embarked   Age     Fare\n",
      "0          S  22.0   7.2500\n",
      "1          C  38.0  71.2833\n",
      "2          S  26.0   7.9250\n",
      "3          S  35.0  53.1000\n",
      "4          S  35.0   8.0500\n",
      "..       ...   ...      ...\n",
      "886        S  27.0  13.0000\n",
      "887        S  19.0  30.0000\n",
      "888        S   NaN  23.4500\n",
      "889        C  26.0  30.0000\n",
      "890        Q  32.0   7.7500\n",
      "\n",
      "[891 rows x 3 columns]\n",
      "    Embarked   Age     Fare\n",
      "0          S  22.0   7.2500\n",
      "1          C  38.0  71.2833\n",
      "2          S  26.0   7.9250\n",
      "3          S  35.0  53.1000\n",
      "4          S  35.0   8.0500\n",
      "..       ...   ...      ...\n",
      "886        S  27.0  13.0000\n",
      "887        S  19.0  30.0000\n",
      "888        S  28.0  23.4500\n",
      "889        C  26.0  30.0000\n",
      "890        Q  32.0   7.7500\n",
      "\n",
      "[891 rows x 3 columns]\n"
     ]
    },
    {
     "name": "stderr",
     "output_type": "stream",
     "text": [
      "C:\\Users\\Asus\\AppData\\Local\\Temp\\ipykernel_10616\\65559725.py:4: FutureWarning: A value is trying to be set on a copy of a DataFrame or Series through chained assignment using an inplace method.\n",
      "The behavior will change in pandas 3.0. This inplace method will never work because the intermediate object on which we are setting values always behaves as a copy.\n",
      "\n",
      "For example, when doing 'df[col].method(value, inplace=True)', try using 'df.method({col: value}, inplace=True)' or df[col] = df[col].method(value) instead, to perform the operation inplace on the original object.\n",
      "\n",
      "\n",
      "  td3[\"Age\"].fillna(y,inplace=True)\n",
      "C:\\Users\\Asus\\AppData\\Local\\Temp\\ipykernel_10616\\65559725.py:4: SettingWithCopyWarning: \n",
      "A value is trying to be set on a copy of a slice from a DataFrame\n",
      "\n",
      "See the caveats in the documentation: https://pandas.pydata.org/pandas-docs/stable/user_guide/indexing.html#returning-a-view-versus-a-copy\n",
      "  td3[\"Age\"].fillna(y,inplace=True)\n"
     ]
    },
    {
     "data": {
      "image/png": "[encoded data removed]",
      "text/plain": [
       "<Figure size 640x480 with 1 Axes>"
      ]
     },
     "metadata": {},
     "output_type": "display_data"
    }
   ],
   "source": [
    "td3=df[[\"Embarked\",\"Age\",\"Fare\"]]\n",
    "print(td3)\n",
    "y=td3[\"Age\"].median()\n",
    "td3[\"Age\"].fillna(y,inplace=True)\n",
    "td3[\"Age\"].plot(kind=\"hist\")"
   ]
  },
  {
   "cell_type": "code",
   "execution_count": 255,
   "id": "0fb91f17-f635-4adc-8030-e7f7effc37a6",
   "metadata": {},
   "outputs": [
    {
     "name": "stderr",
     "output_type": "stream",
     "text": [
      "C:\\Users\\Asus\\AppData\\Local\\Temp\\ipykernel_10616\\1030198457.py:3: FutureWarning: A value is trying to be set on a copy of a DataFrame or Series through chained assignment using an inplace method.\n",
      "The behavior will change in pandas 3.0. This inplace method will never work because the intermediate object on which we are setting values always behaves as a copy.\n",
      "\n",
      "For example, when doing 'df[col].method(value, inplace=True)', try using 'df.method({col: value}, inplace=True)' or df[col] = df[col].method(value) instead, to perform the operation inplace on the original object.\n",
      "\n",
      "\n",
      "  td4[\"Age\"].fillna(z,inplace=True)\n",
      "C:\\Users\\Asus\\AppData\\Local\\Temp\\ipykernel_10616\\1030198457.py:3: SettingWithCopyWarning: \n",
      "A value is trying to be set on a copy of a slice from a DataFrame\n",
      "\n",
      "See the caveats in the documentation: https://pandas.pydata.org/pandas-docs/stable/user_guide/indexing.html#returning-a-view-versus-a-copy\n",
      "  td4[\"Age\"].fillna(z,inplace=True)\n"
     ]
    },
    {
     "data": {
      "text/plain": [
       "<Axes: ylabel='Frequency'>"
      ]
     },
     "execution_count": 255,
     "metadata": {},
     "output_type": "execute_result"
    },
    {
     "data": {
      "image/png": "[encoded data removed]",
      "text/plain": [
       "<Figure size 640x480 with 1 Axes>"
      ]
     },
     "metadata": {},
     "output_type": "display_data"
    }
   ],
   "source": [
    "td4=df[[\"Embarked\",\"Age\",\"Fare\"]]\n",
    "z=df[\"Age\"].mode()\n",
    "td4[\"Age\"].fillna(z,inplace=True)\n",
    "td4[\"Age\"].plot(kind=\"hist\")"
   ]
  },
  {
   "cell_type": "code",
   "execution_count": 261,
   "id": "36bad8f4-9d20-4bd7-b4d0-0ffd3dc3e286",
   "metadata": {},
   "outputs": [
    {
     "data": {
      "text/html": [
       "<div>\n",
       "<style scoped>\n",
       "    .dataframe tbody tr th:only-of-type {\n",
       "        vertical-align: middle;\n",
       "    }\n",
       "\n",
       "    .dataframe tbody tr th {\n",
       "        vertical-align: top;\n",
       "    }\n",
       "\n",
       "    .dataframe thead th {\n",
       "        text-align: right;\n",
       "    }\n",
       "</style>\n",
       "<table border=\"1\" class=\"dataframe\">\n",
       "  <thead>\n",
       "    <tr style=\"text-align: right;\">\n",
       "      <th></th>\n",
       "      <th>Survived</th>\n",
       "      <th>Pclass</th>\n",
       "      <th>Age</th>\n",
       "      <th>Fare</th>\n",
       "    </tr>\n",
       "  </thead>\n",
       "  <tbody>\n",
       "    <tr>\n",
       "      <th>0</th>\n",
       "      <td>0</td>\n",
       "      <td>3</td>\n",
       "      <td>22.0</td>\n",
       "      <td>7.2500</td>\n",
       "    </tr>\n",
       "    <tr>\n",
       "      <th>1</th>\n",
       "      <td>1</td>\n",
       "      <td>1</td>\n",
       "      <td>38.0</td>\n",
       "      <td>71.2833</td>\n",
       "    </tr>\n",
       "    <tr>\n",
       "      <th>2</th>\n",
       "      <td>1</td>\n",
       "      <td>3</td>\n",
       "      <td>26.0</td>\n",
       "      <td>7.9250</td>\n",
       "    </tr>\n",
       "    <tr>\n",
       "      <th>3</th>\n",
       "      <td>1</td>\n",
       "      <td>1</td>\n",
       "      <td>35.0</td>\n",
       "      <td>53.1000</td>\n",
       "    </tr>\n",
       "    <tr>\n",
       "      <th>4</th>\n",
       "      <td>0</td>\n",
       "      <td>3</td>\n",
       "      <td>35.0</td>\n",
       "      <td>8.0500</td>\n",
       "    </tr>\n",
       "    <tr>\n",
       "      <th>...</th>\n",
       "      <td>...</td>\n",
       "      <td>...</td>\n",
       "      <td>...</td>\n",
       "      <td>...</td>\n",
       "    </tr>\n",
       "    <tr>\n",
       "      <th>886</th>\n",
       "      <td>0</td>\n",
       "      <td>2</td>\n",
       "      <td>27.0</td>\n",
       "      <td>13.0000</td>\n",
       "    </tr>\n",
       "    <tr>\n",
       "      <th>887</th>\n",
       "      <td>1</td>\n",
       "      <td>1</td>\n",
       "      <td>19.0</td>\n",
       "      <td>30.0000</td>\n",
       "    </tr>\n",
       "    <tr>\n",
       "      <th>888</th>\n",
       "      <td>0</td>\n",
       "      <td>3</td>\n",
       "      <td>NaN</td>\n",
       "      <td>23.4500</td>\n",
       "    </tr>\n",
       "    <tr>\n",
       "      <th>889</th>\n",
       "      <td>1</td>\n",
       "      <td>1</td>\n",
       "      <td>26.0</td>\n",
       "      <td>30.0000</td>\n",
       "    </tr>\n",
       "    <tr>\n",
       "      <th>890</th>\n",
       "      <td>0</td>\n",
       "      <td>3</td>\n",
       "      <td>32.0</td>\n",
       "      <td>7.7500</td>\n",
       "    </tr>\n",
       "  </tbody>\n",
       "</table>\n",
       "<p>891 rows × 4 columns</p>\n",
       "</div>"
      ],
      "text/plain": [
       "     Survived  Pclass   Age     Fare\n",
       "0           0       3  22.0   7.2500\n",
       "1           1       1  38.0  71.2833\n",
       "2           1       3  26.0   7.9250\n",
       "3           1       1  35.0  53.1000\n",
       "4           0       3  35.0   8.0500\n",
       "..        ...     ...   ...      ...\n",
       "886         0       2  27.0  13.0000\n",
       "887         1       1  19.0  30.0000\n",
       "888         0       3   NaN  23.4500\n",
       "889         1       1  26.0  30.0000\n",
       "890         0       3  32.0   7.7500\n",
       "\n",
       "[891 rows x 4 columns]"
      ]
     },
     "execution_count": 261,
     "metadata": {},
     "output_type": "execute_result"
    }
   ],
   "source": [
    "newdf=df[[\"Survived\",\"Pclass\",\"Age\",\"Fare\"]]\n",
    "newdf"
   ]
  },
  {
   "cell_type": "code",
   "execution_count": null,
   "id": "814c0654-6f54-41fb-bc2b-f87272c80497",
   "metadata": {},
   "outputs": [],
   "source": []
  }
 ],
 "metadata": {
  "kernelspec": {
   "display_name": "Python [conda env:base] *",
   "language": "python",
   "name": "conda-base-py"
  },
  "language_info": {
   "codemirror_mode": {
    "name": "ipython",
    "version": 3
   },
   "file_extension": ".py",
   "mimetype": "text/x-python",
   "name": "python",
   "nbconvert_exporter": "python",
   "pygments_lexer": "ipython3",
   "version": "3.12.7"
  }
 },
 "nbformat": 4,
 "nbformat_minor": 5
}
