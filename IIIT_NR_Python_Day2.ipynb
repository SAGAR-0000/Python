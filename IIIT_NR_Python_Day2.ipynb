{
 "cells": [
  {
   "cell_type": "code",
   "execution_count": 6,
   "id": "8d5b29c5-641b-44be-9fd3-5dba51d3e0c8",
   "metadata": {},
   "outputs": [
    {
     "name": "stdout",
     "output_type": "stream",
     "text": [
      "HelloWorld\n"
     ]
    },
    {
     "data": {
      "text/plain": [
       "10"
      ]
     },
     "execution_count": 6,
     "metadata": {},
     "output_type": "execute_result"
    }
   ],
   "source": [
    "str1=\"Hello\"\n",
    "str2=\"World\"\n",
    "str3=str1+str2\n",
    "print(str3)\n",
    "len(str3)"
   ]
  },
  {
   "cell_type": "code",
   "execution_count": 19,
   "id": "897aaf41-fa1c-4ff7-a15e-136a5c51ef87",
   "metadata": {},
   "outputs": [
    {
     "data": {
      "text/plain": [
       "'H'"
      ]
     },
     "execution_count": 19,
     "metadata": {},
     "output_type": "execute_result"
    }
   ],
   "source": [
    "#indexing\n",
    "str=\"HelloWorld\"\n",
    "str[0]"
   ]
  },
  {
   "cell_type": "code",
   "execution_count": 23,
   "id": "1303521e-c848-453e-8a6c-e81f4b3bfd3e",
   "metadata": {},
   "outputs": [
    {
     "data": {
      "text/plain": [
       "'Hello'"
      ]
     },
     "execution_count": 23,
     "metadata": {},
     "output_type": "execute_result"
    }
   ],
   "source": [
    "str=\"HelloWorld\"\n",
    "str[0:5]\n"
   ]
  },
  {
   "cell_type": "code",
   "execution_count": 25,
   "id": "4f304475-b472-4167-96be-1ee0648bb095",
   "metadata": {},
   "outputs": [
    {
     "data": {
      "text/plain": [
       "'Hello'"
      ]
     },
     "execution_count": 25,
     "metadata": {},
     "output_type": "execute_result"
    }
   ],
   "source": [
    "str[:5]"
   ]
  },
  {
   "cell_type": "code",
   "execution_count": 34,
   "id": "b36301e9-ed28-4bf2-8022-c7ec285f5fb8",
   "metadata": {},
   "outputs": [
    {
     "data": {
      "text/plain": [
       "'Hlool'"
      ]
     },
     "execution_count": 34,
     "metadata": {},
     "output_type": "execute_result"
    }
   ],
   "source": [
    "str[0:9:2]"
   ]
  },
  {
   "cell_type": "code",
   "execution_count": 36,
   "id": "1663f0a9-7900-4605-801e-85a38d4fbcc9",
   "metadata": {},
   "outputs": [
    {
     "data": {
      "text/plain": [
       "'Hlo'"
      ]
     },
     "execution_count": 36,
     "metadata": {},
     "output_type": "execute_result"
    }
   ],
   "source": [
    "str[0:9:3]"
   ]
  },
  {
   "cell_type": "code",
   "execution_count": 54,
   "id": "75a3f51f-02a1-47bb-8abb-b8838180ea07",
   "metadata": {},
   "outputs": [
    {
     "data": {
      "text/plain": [
       "'Hlool'"
      ]
     },
     "execution_count": 54,
     "metadata": {},
     "output_type": "execute_result"
    }
   ],
   "source": [
    "str[-10:-1:2]"
   ]
  },
  {
   "cell_type": "code",
   "execution_count": 64,
   "id": "ce51892d-6bd2-4a82-af4e-6abc7f3b73bc",
   "metadata": {},
   "outputs": [
    {
     "name": "stdout",
     "output_type": "stream",
     "text": [
      "World\n",
      "lloWo\n",
      "dlroWolleH\n",
      "drWle\n"
     ]
    }
   ],
   "source": [
    "print(str[-5:])\n",
    "print(str[-8:-3])\n",
    "print(str[::-1])\n",
    "print(str[::-2])"
   ]
  },
  {
   "cell_type": "code",
   "execution_count": 72,
   "id": "f71450da-1c38-40be-89a3-21673ae87e37",
   "metadata": {},
   "outputs": [
    {
     "name": "stdout",
     "output_type": "stream",
     "text": [
      "[40, 50, 60]\n",
      "[20, 30, 40]\n",
      "[60, 50, 40, 30, 20, 10]\n"
     ]
    }
   ],
   "source": [
    "numbers=[10,20,30,40,50,60]\n",
    "print(numbers[-3:])\n",
    "print(numbers[-5:-2])\n",
    "print(numbers[::-1])"
   ]
  },
  {
   "cell_type": "code",
   "execution_count": 84,
   "id": "f7de7c09-79e7-4c1d-9596-eebb2fae179c",
   "metadata": {},
   "outputs": [
    {
     "data": {
      "text/plain": [
       "True"
      ]
     },
     "execution_count": 84,
     "metadata": {},
     "output_type": "execute_result"
    }
   ],
   "source": [
    "str=\"i am a coder.\"\n",
    "str.endswith(\"er.\")"
   ]
  },
  {
   "cell_type": "code",
   "execution_count": 86,
   "id": "ea194d77-8ee7-4c3a-b4fd-eab98024b12c",
   "metadata": {},
   "outputs": [
    {
     "data": {
      "text/plain": [
       "'I am a coder.'"
      ]
     },
     "execution_count": 86,
     "metadata": {},
     "output_type": "execute_result"
    }
   ],
   "source": [
    "str.capitalize()"
   ]
  },
  {
   "cell_type": "code",
   "execution_count": 108,
   "id": "365cc8a3-d752-4ba2-bc6d-cad817b9619a",
   "metadata": {},
   "outputs": [
    {
     "data": {
      "text/plain": [
       "'i em a coder.'"
      ]
     },
     "execution_count": 108,
     "metadata": {},
     "output_type": "execute_result"
    }
   ],
   "source": [
    "str.replace(\"am\",\"em\")#replace old with new"
   ]
  },
  {
   "cell_type": "code",
   "execution_count": 126,
   "id": "7c746fc9-185d-4172-8cf3-5b7fd7ba1793",
   "metadata": {},
   "outputs": [
    {
     "data": {
      "text/plain": [
       "2"
      ]
     },
     "execution_count": 126,
     "metadata": {},
     "output_type": "execute_result"
    }
   ],
   "source": [
    "str.find(\"am\")#returns 1st index of 1st occurence"
   ]
  },
  {
   "cell_type": "code",
   "execution_count": 114,
   "id": "0fc195b7-90a0-4021-a779-5db3b12d440d",
   "metadata": {},
   "outputs": [
    {
     "data": {
      "text/plain": [
       "1"
      ]
     },
     "execution_count": 114,
     "metadata": {},
     "output_type": "execute_result"
    }
   ],
   "source": [
    "str.count(\"am\")#counts the occurrence"
   ]
  },
  {
   "cell_type": "code",
   "execution_count": 154,
   "id": "739daa13-bb1d-4b02-92ad-dbcccaeb5ec1",
   "metadata": {},
   "outputs": [
    {
     "name": "stdout",
     "output_type": "stream",
     "text": [
      "1\n"
     ]
    }
   ],
   "source": [
    "str=\"i have 3 pen\"\n",
    "print(str.count(\"3\"))#occurrence of 3"
   ]
  },
  {
   "cell_type": "code",
   "execution_count": 180,
   "id": "b85cca56-e430-470b-8f8a-422f9a4c39f2",
   "metadata": {},
   "outputs": [
    {
     "name": "stdout",
     "output_type": "stream",
     "text": [
      "IIIT is Educational  and Research Institute\n"
     ]
    }
   ],
   "source": [
    "str1=\"IIIT is Educational Institute\"\n",
    "str2=\"IIIT is Research Institute\"\n",
    "print(str1[0:-9],\"and\",str2[8:])"
   ]
  },
  {
   "cell_type": "code",
   "execution_count": 178,
   "id": "399b7d52-1240-4a89-902d-623f2d1f95b8",
   "metadata": {},
   "outputs": [
    {
     "name": "stdout",
     "output_type": "stream",
     "text": [
      "IIIT is Educational and Research Institute\n"
     ]
    }
   ],
   "source": [
    "s1=str1.replace(\"Institute\",\"\")\n",
    "s2=str2.replace(\"IIIT is\",\"and\")\n",
    "print(s1+s2)"
   ]
  },
  {
   "cell_type": "code",
   "execution_count": 2,
   "id": "c4d2c8fb-d6a0-4b28-befd-ea727ea4002d",
   "metadata": {},
   "outputs": [
    {
     "name": "stdout",
     "output_type": "stream",
     "text": [
      "Five is greater than two!\n"
     ]
    }
   ],
   "source": [
    "if 5>2:\n",
    "    print(\"Five is greater than two!\")"
   ]
  },
  {
   "cell_type": "code",
   "execution_count": 4,
   "id": "4ed662e7-a553-4871-a360-89e73ce1ed4c",
   "metadata": {},
   "outputs": [
    {
     "ename": "IndentationError",
     "evalue": "expected an indented block after 'if' statement on line 1 (760999835.py, line 2)",
     "output_type": "error",
     "traceback": [
      "\u001b[1;36m  Cell \u001b[1;32mIn[4], line 2\u001b[1;36m\u001b[0m\n\u001b[1;33m    print(\"Five is greater than two!\")\u001b[0m\n\u001b[1;37m    ^\u001b[0m\n\u001b[1;31mIndentationError\u001b[0m\u001b[1;31m:\u001b[0m expected an indented block after 'if' statement on line 1\n"
     ]
    }
   ],
   "source": [
    "if 5>2:\n",
    "print(\"Five is greater than two!\")"
   ]
  },
  {
   "cell_type": "code",
   "execution_count": 14,
   "id": "bdd1cb8f-abe0-46d5-ba1c-6724de00ae39",
   "metadata": {},
   "outputs": [],
   "source": [
    "#print(\"Hello World\")"
   ]
  },
  {
   "cell_type": "code",
   "execution_count": 12,
   "id": "63157e42-3df1-490f-9c72-4d0e6e841c87",
   "metadata": {},
   "outputs": [
    {
     "name": "stdout",
     "output_type": "stream",
     "text": [
      "HELLO WORLD\n",
      "hello world\n"
     ]
    }
   ],
   "source": [
    "a=\"Hello world\"\n",
    "print(a.upper())\n",
    "print(a.lower())"
   ]
  },
  {
   "cell_type": "code",
   "execution_count": 16,
   "id": "6e5890df-4818-4ef8-a331-123095fee7e3",
   "metadata": {},
   "outputs": [
    {
     "name": "stdout",
     "output_type": "stream",
     "text": [
      "Hello World\n"
     ]
    }
   ],
   "source": [
    "a=\"Hello\"\n",
    "b=\"World\"\n",
    "print(a+\" \"+b)"
   ]
  },
  {
   "cell_type": "code",
   "execution_count": 22,
   "id": "388b9284-c316-427f-b261-0ba9ce82e24f",
   "metadata": {},
   "outputs": [
    {
     "name": "stdout",
     "output_type": "stream",
     "text": [
      "My name is john, I am 36\n"
     ]
    }
   ],
   "source": [
    "age=36\n",
    "txt=\"My name is john, I am \" +str(age)\n",
    "print(txt)"
   ]
  },
  {
   "cell_type": "code",
   "execution_count": 24,
   "id": "eb3ac833-695f-4a9c-b8d3-14ea66469f5d",
   "metadata": {},
   "outputs": [
    {
     "name": "stdout",
     "output_type": "stream",
     "text": [
      "My name is john, I am 36\n"
     ]
    }
   ],
   "source": [
    "age=36\n",
    "txt=\"My name is john, I am {}\"\n",
    "print(txt.format(age))"
   ]
  },
  {
   "cell_type": "code",
   "execution_count": 26,
   "id": "e727118a-84d5-4583-8ba5-5ebda7222a59",
   "metadata": {},
   "outputs": [
    {
     "name": "stdout",
     "output_type": "stream",
     "text": [
      "I want 3 pieces of item 567 for 49.95 dollars.\n"
     ]
    }
   ],
   "source": [
    "quantity=3\n",
    "itemno=567\n",
    "price=49.95\n",
    "myorder=\"I want {} pieces of item {} for {} dollars.\"\n",
    "print(myorder.format(quantity,itemno,price))"
   ]
  },
  {
   "cell_type": "code",
   "execution_count": 30,
   "id": "3b0c79af-53d5-4e90-9bb6-b3b130a217e8",
   "metadata": {},
   "outputs": [
    {
     "name": "stdout",
     "output_type": "stream",
     "text": [
      "I want to pay 49.95 dollars for 3 pieces of item 567.\n"
     ]
    }
   ],
   "source": [
    "quantity=3\n",
    "itemno=567\n",
    "price=49.95\n",
    "myorder=\"I want to pay {2} dollars for {0} pieces of item {1}.\"\n",
    "print(myorder.format(quantity,itemno,price))"
   ]
  },
  {
   "cell_type": "code",
   "execution_count": 38,
   "id": "852d5c5c-3c6e-4289-88e2-7db543f99699",
   "metadata": {},
   "outputs": [
    {
     "ename": "SyntaxError",
     "evalue": "invalid syntax (3095929170.py, line 1)",
     "output_type": "error",
     "traceback": [
      "\u001b[1;36m  Cell \u001b[1;32mIn[38], line 1\u001b[1;36m\u001b[0m\n\u001b[1;33m    txt=\"We are the so-called \"Vikings\" from the north.\"\u001b[0m\n\u001b[1;37m                               ^\u001b[0m\n\u001b[1;31mSyntaxError\u001b[0m\u001b[1;31m:\u001b[0m invalid syntax\n"
     ]
    }
   ],
   "source": [
    "txt=\"We are the so-called \"Vikings\" from the north.\""
   ]
  },
  {
   "cell_type": "code",
   "execution_count": 40,
   "id": "abb71887-eb98-4bcd-a611-bc85b9c16141",
   "metadata": {},
   "outputs": [
    {
     "name": "stdout",
     "output_type": "stream",
     "text": [
      "We are the so-called \"Vikings\" from the north.\n"
     ]
    }
   ],
   "source": [
    "txt=\"We are the so-called \\\"Vikings\\\" from the north.\"\n",
    "print(txt)"
   ]
  },
  {
   "cell_type": "code",
   "execution_count": 46,
   "id": "7b99cb2d-8db8-43cc-bddb-6e8badcab5fb",
   "metadata": {},
   "outputs": [
    {
     "name": "stdout",
     "output_type": "stream",
     "text": [
      "We are the so-called \"Vikings\" from the north.\n"
     ]
    }
   ],
   "source": [
    "txt='''We are the so-called \"Vikings\" from the north.'''\n",
    "print(txt)"
   ]
  },
  {
   "cell_type": "code",
   "execution_count": 48,
   "id": "90f6baad-8f6e-4422-b0a2-dedaddac9ffe",
   "metadata": {},
   "outputs": [
    {
     "data": {
      "text/plain": [
       "b'Hello World'"
      ]
     },
     "execution_count": 48,
     "metadata": {},
     "output_type": "execute_result"
    }
   ],
   "source": [
    "str=\"Hello World\"\n",
    "str.encode()"
   ]
  },
  {
   "cell_type": "code",
   "execution_count": 50,
   "id": "0d881a80-125f-454e-8bd6-0888a6cc4758",
   "metadata": {},
   "outputs": [
    {
     "name": "stdout",
     "output_type": "stream",
     "text": [
      "15\n"
     ]
    }
   ],
   "source": [
    "x=5\n",
    "x*=3\n",
    "print(x)"
   ]
  },
  {
   "cell_type": "code",
   "execution_count": 66,
   "id": "317174b9-302d-425b-a6bb-3554f00df23a",
   "metadata": {},
   "outputs": [
    {
     "name": "stdout",
     "output_type": "stream",
     "text": [
      "['apple', 'banana', 'cherry', 1]\n"
     ]
    }
   ],
   "source": [
    "list=[\"apple\",\"banana\",\"cherry\",1]#[]mutable ordered changable allow duplicate\n",
    "print(list)"
   ]
  },
  {
   "cell_type": "code",
   "execution_count": 60,
   "id": "ef9d3706-659b-4c9c-996a-3587a7b068c3",
   "metadata": {},
   "outputs": [
    {
     "name": "stdout",
     "output_type": "stream",
     "text": [
      "banana\n"
     ]
    }
   ],
   "source": [
    "list=[\"apple\",\"banana\",\"cherry\",1]\n",
    "print(list[1])"
   ]
  },
  {
   "cell_type": "code",
   "execution_count": 64,
   "id": "1c14e459-8858-4815-8d81-88b4339881bf",
   "metadata": {},
   "outputs": [
    {
     "name": "stdout",
     "output_type": "stream",
     "text": [
      "('apple', 'banana', 'cherry')\n"
     ]
    }
   ],
   "source": [
    "tuple=(\"apple\",\"banana\",\"cherry\")#()immutable ordered unchangable allow duplicate\n",
    "print(tuple)"
   ]
  },
  {
   "cell_type": "code",
   "execution_count": 74,
   "id": "e979938d-b23b-4834-acd0-5176b95154d4",
   "metadata": {},
   "outputs": [
    {
     "name": "stdout",
     "output_type": "stream",
     "text": [
      "{'banana', 'apple', 'cherry'}\n"
     ]
    }
   ],
   "source": [
    "set={\"apple\",\"banana\",\"cherry\"}#immutable unordered unchangable no duplicate\n",
    "print(set)"
   ]
  },
  {
   "cell_type": "code",
   "execution_count": 70,
   "id": "12711f62-599f-4983-aebb-a0b75471c831",
   "metadata": {},
   "outputs": [
    {
     "name": "stdout",
     "output_type": "stream",
     "text": [
      "{'brand': 'Ford', 'model': 'Mustang', 'year': 1964}\n"
     ]
    }
   ],
   "source": [
    "dict={    #mutable unordered changeable no duplicate \n",
    "    \"brand\":\"Ford\",\n",
    "    \"model\":\"Mustang\",\n",
    "    \"year\":1964\n",
    "}\n",
    "print(dict)"
   ]
  },
  {
   "cell_type": "code",
   "execution_count": 76,
   "id": "83d977c9-590a-47d6-ad83-ebf5a4d3bd05",
   "metadata": {},
   "outputs": [],
   "source": [
    "#set and dict - curly bracket"
   ]
  },
  {
   "cell_type": "code",
   "execution_count": 82,
   "id": "38b6b657-9126-4020-9136-09eaa3ae0bf0",
   "metadata": {},
   "outputs": [
    {
     "name": "stdout",
     "output_type": "stream",
     "text": [
      "['apple', 'banana', 'cherry', 'apple']\n",
      "4\n"
     ]
    }
   ],
   "source": [
    "list=[\"apple\",\"banana\",\"cherry\",\"apple\"]\n",
    "print(list)\n",
    "print(len(list))"
   ]
  },
  {
   "cell_type": "code",
   "execution_count": 80,
   "id": "b6c62772-663c-4613-93c4-5c701c45d2b0",
   "metadata": {},
   "outputs": [
    {
     "name": "stdout",
     "output_type": "stream",
     "text": [
      "{'banana', 'apple', 'cherry'}\n"
     ]
    }
   ],
   "source": [
    "dict={\"apple\",\"banana\",\"cherry\",\"apple\"}\n",
    "print(dict)"
   ]
  },
  {
   "cell_type": "code",
   "execution_count": 84,
   "id": "2c774d84-3ba6-491e-961a-216bb9c9484e",
   "metadata": {},
   "outputs": [],
   "source": [
    "#homo list=[\"apple\",\"banana\",\"cherry\",\"apple\"]\n",
    "#hetro list=[\"apple\",\"banana\",True,34]"
   ]
  },
  {
   "cell_type": "code",
   "execution_count": 86,
   "id": "e76590e3-64e7-4f1a-b58f-055e1a1d728a",
   "metadata": {},
   "outputs": [
    {
     "name": "stdout",
     "output_type": "stream",
     "text": [
      "<class 'list'>\n"
     ]
    }
   ],
   "source": [
    "list=[\"apple\",\"banana\",True,34]\n",
    "print(type(list))"
   ]
  },
  {
   "cell_type": "code",
   "execution_count": 110,
   "id": "41e4a187-74e7-4a12-b2d9-a78c4e1ea5d6",
   "metadata": {},
   "outputs": [
    {
     "name": "stdout",
     "output_type": "stream",
     "text": [
      "banana\n",
      "['cherry', 'apple']\n",
      "['cherry', 'apple', 'mango']\n",
      "['apple', 'banana', 'cherry', 'apple']\n",
      "['banana', 'cherry', 'apple']\n",
      "['mango', 'apple', 'cherry', 'banana', 'apple']\n",
      "['banana', 'cherry', 'apple', 'mango']\n",
      "[]\n",
      "['apple', 'cherry', 'mango']\n"
     ]
    }
   ],
   "source": [
    "list=[\"apple\",\"banana\",\"cherry\",\"apple\",\"mango\"]\n",
    "print(list[1])\n",
    "print(list[2:4])\n",
    "print(list[2:])\n",
    "print(list[:4])\n",
    "print(list[-4:-1])\n",
    "print(list[::-1])\n",
    "print(list[-4:])\n",
    "print(list[4:1])\n",
    "print(list[::2])"
   ]
  },
  {
   "cell_type": "code",
   "execution_count": 112,
   "id": "bf7cc8a5-3379-4f36-a005-b4f3e82dd09c",
   "metadata": {},
   "outputs": [
    {
     "name": "stdout",
     "output_type": "stream",
     "text": [
      "['apple', 'blackcurrant', 'cherry', 'mango']\n"
     ]
    }
   ],
   "source": [
    "list=[\"apple\",\"banana\",\"cherry\",\"mango\"]\n",
    "list[1]=\"blackcurrant\"\n",
    "print(list)"
   ]
  },
  {
   "cell_type": "code",
   "execution_count": 114,
   "id": "916dce45-0ff4-46d1-a06e-e79cd6e7705a",
   "metadata": {},
   "outputs": [
    {
     "name": "stdout",
     "output_type": "stream",
     "text": [
      "['apple', 'blackcurrant', 'Watermelon', 'mango']\n"
     ]
    }
   ],
   "source": [
    "list=[\"apple\",\"banana\",\"cherry\",\"mango\"]\n",
    "list[1:3]=[\"blackcurrant\",\"Watermelon\"]\n",
    "print(list)"
   ]
  },
  {
   "cell_type": "code",
   "execution_count": 118,
   "id": "08ce2b0a-17d8-4a08-bebf-45e01eed190b",
   "metadata": {},
   "outputs": [
    {
     "name": "stdout",
     "output_type": "stream",
     "text": [
      "['apple', 'blackcurrant', 'mango']\n"
     ]
    }
   ],
   "source": [
    "list=[\"apple\",\"banana\",\"cherry\",\"mango\"]\n",
    "list[1:3]=[\"blackcurrant\"]\n",
    "print(list)"
   ]
  },
  {
   "cell_type": "code",
   "execution_count": 120,
   "id": "972eef78-d451-4372-bb9c-1fe07df03e53",
   "metadata": {},
   "outputs": [
    {
     "name": "stdout",
     "output_type": "stream",
     "text": [
      "['apple', 'blackcurrant', 'Watermelon', 'cherry', 'mango']\n"
     ]
    }
   ],
   "source": [
    "list=[\"apple\",\"banana\",\"cherry\",\"mango\"]\n",
    "list[1:2]=[\"blackcurrant\",\"Watermelon\"]\n",
    "print(list)"
   ]
  },
  {
   "cell_type": "code",
   "execution_count": 122,
   "id": "d8b95f22-96b0-4a57-b632-ffe128be8478",
   "metadata": {},
   "outputs": [
    {
     "name": "stdout",
     "output_type": "stream",
     "text": [
      "['apple', 'banana', 'watermelon', 'cherry', 'mango']\n"
     ]
    }
   ],
   "source": [
    "list=[\"apple\",\"banana\",\"cherry\",\"mango\"]\n",
    "list.insert(2,\"watermelon\")\n",
    "print(list)"
   ]
  },
  {
   "cell_type": "code",
   "execution_count": 2,
   "id": "0e576c2c-bccd-4086-82c0-a3271a35a800",
   "metadata": {},
   "outputs": [
    {
     "name": "stdout",
     "output_type": "stream",
     "text": [
      "(1, 'name', True)\n"
     ]
    }
   ],
   "source": [
    "tuple=(1,\"name\",True)\n",
    "print(tuple)"
   ]
  },
  {
   "cell_type": "code",
   "execution_count": 12,
   "id": "bf653982-4bca-4bbb-915f-b1e2ae19e9ef",
   "metadata": {},
   "outputs": [
    {
     "name": "stdout",
     "output_type": "stream",
     "text": [
      "{1, 2, 3, 4, 5, 'Name'}\n"
     ]
    }
   ],
   "source": [
    "set={1,5,2,4,3,2,True,\"Name\"}\n",
    "print(set)"
   ]
  },
  {
   "cell_type": "code",
   "execution_count": 26,
   "id": "94219d80-3014-42f2-a297-68de0ee9fd3f",
   "metadata": {},
   "outputs": [
    {
     "name": "stdout",
     "output_type": "stream",
     "text": [
      "['apple', 'orange', 'banana', 'cherry']\n"
     ]
    }
   ],
   "source": [
    "thislist=[\"apple\",\"banana\",\"cherry\"]\n",
    "thislist.insert(1,\"orange\")\n",
    "print(thislist)"
   ]
  },
  {
   "cell_type": "code",
   "execution_count": null,
   "id": "b03ad2b8-42ce-482a-a9b3-5b6918b4950a",
   "metadata": {},
   "outputs": [],
   "source": []
  }
 ],
 "metadata": {
  "kernelspec": {
   "display_name": "Python [conda env:base] *",
   "language": "python",
   "name": "conda-base-py"
  },
  "language_info": {
   "codemirror_mode": {
    "name": "ipython",
    "version": 3
   },
   "file_extension": ".py",
   "mimetype": "text/x-python",
   "name": "python",
   "nbconvert_exporter": "python",
   "pygments_lexer": "ipython3",
   "version": "3.12.7"
  }
 },
 "nbformat": 4,
 "nbformat_minor": 5
}
